{
 "cells": [
  {
   "cell_type": "markdown",
   "source": [],
   "metadata": {
    "collapsed": false
   }
  },
  {
   "cell_type": "code",
   "execution_count": 1,
   "metadata": {
    "collapsed": true,
    "ExecuteTime": {
     "start_time": "2023-05-24T19:30:15.740316Z",
     "end_time": "2023-05-24T19:30:16.168940Z"
    }
   },
   "outputs": [],
   "source": [
    "import pandas as pd\n",
    "from random import choice"
   ]
  },
  {
   "cell_type": "markdown",
   "source": [
    "Считывание датафрейма. Считайте датафрейм и сделайте при считывании все признаки строковыми (hints: используйте dtype)."
   ],
   "metadata": {
    "collapsed": false
   }
  },
  {
   "cell_type": "code",
   "execution_count": 2,
   "outputs": [
    {
     "data": {
      "text/plain": "  PassengerId HomePlanet CryoSleep  Cabin  Destination   Age    VIP  \\\n0     0001_01     Europa     False  B/0/P  TRAPPIST-1e  39.0  False   \n1     0002_01      Earth     False  F/0/S  TRAPPIST-1e  24.0  False   \n2     0003_01     Europa     False  A/0/S  TRAPPIST-1e  58.0   True   \n3     0003_02     Europa     False  A/0/S  TRAPPIST-1e  33.0  False   \n4     0004_01      Earth     False  F/1/S  TRAPPIST-1e  16.0  False   \n\n  RoomService FoodCourt ShoppingMall     Spa VRDeck               Name  \\\n0         0.0       0.0          0.0     0.0    0.0    Maham Ofracculy   \n1       109.0       9.0         25.0   549.0   44.0       Juanna Vines   \n2        43.0    3576.0          0.0  6715.0   49.0      Altark Susent   \n3         0.0    1283.0        371.0  3329.0  193.0       Solam Susent   \n4       303.0      70.0        151.0   565.0    2.0  Willy Santantines   \n\n  Transported  \n0       False  \n1        True  \n2       False  \n3       False  \n4        True  ",
      "text/html": "<div>\n<style scoped>\n    .dataframe tbody tr th:only-of-type {\n        vertical-align: middle;\n    }\n\n    .dataframe tbody tr th {\n        vertical-align: top;\n    }\n\n    .dataframe thead th {\n        text-align: right;\n    }\n</style>\n<table border=\"1\" class=\"dataframe\">\n  <thead>\n    <tr style=\"text-align: right;\">\n      <th></th>\n      <th>PassengerId</th>\n      <th>HomePlanet</th>\n      <th>CryoSleep</th>\n      <th>Cabin</th>\n      <th>Destination</th>\n      <th>Age</th>\n      <th>VIP</th>\n      <th>RoomService</th>\n      <th>FoodCourt</th>\n      <th>ShoppingMall</th>\n      <th>Spa</th>\n      <th>VRDeck</th>\n      <th>Name</th>\n      <th>Transported</th>\n    </tr>\n  </thead>\n  <tbody>\n    <tr>\n      <th>0</th>\n      <td>0001_01</td>\n      <td>Europa</td>\n      <td>False</td>\n      <td>B/0/P</td>\n      <td>TRAPPIST-1e</td>\n      <td>39.0</td>\n      <td>False</td>\n      <td>0.0</td>\n      <td>0.0</td>\n      <td>0.0</td>\n      <td>0.0</td>\n      <td>0.0</td>\n      <td>Maham Ofracculy</td>\n      <td>False</td>\n    </tr>\n    <tr>\n      <th>1</th>\n      <td>0002_01</td>\n      <td>Earth</td>\n      <td>False</td>\n      <td>F/0/S</td>\n      <td>TRAPPIST-1e</td>\n      <td>24.0</td>\n      <td>False</td>\n      <td>109.0</td>\n      <td>9.0</td>\n      <td>25.0</td>\n      <td>549.0</td>\n      <td>44.0</td>\n      <td>Juanna Vines</td>\n      <td>True</td>\n    </tr>\n    <tr>\n      <th>2</th>\n      <td>0003_01</td>\n      <td>Europa</td>\n      <td>False</td>\n      <td>A/0/S</td>\n      <td>TRAPPIST-1e</td>\n      <td>58.0</td>\n      <td>True</td>\n      <td>43.0</td>\n      <td>3576.0</td>\n      <td>0.0</td>\n      <td>6715.0</td>\n      <td>49.0</td>\n      <td>Altark Susent</td>\n      <td>False</td>\n    </tr>\n    <tr>\n      <th>3</th>\n      <td>0003_02</td>\n      <td>Europa</td>\n      <td>False</td>\n      <td>A/0/S</td>\n      <td>TRAPPIST-1e</td>\n      <td>33.0</td>\n      <td>False</td>\n      <td>0.0</td>\n      <td>1283.0</td>\n      <td>371.0</td>\n      <td>3329.0</td>\n      <td>193.0</td>\n      <td>Solam Susent</td>\n      <td>False</td>\n    </tr>\n    <tr>\n      <th>4</th>\n      <td>0004_01</td>\n      <td>Earth</td>\n      <td>False</td>\n      <td>F/1/S</td>\n      <td>TRAPPIST-1e</td>\n      <td>16.0</td>\n      <td>False</td>\n      <td>303.0</td>\n      <td>70.0</td>\n      <td>151.0</td>\n      <td>565.0</td>\n      <td>2.0</td>\n      <td>Willy Santantines</td>\n      <td>True</td>\n    </tr>\n  </tbody>\n</table>\n</div>"
     },
     "execution_count": 2,
     "metadata": {},
     "output_type": "execute_result"
    }
   ],
   "source": [
    "df = pd.read_csv('data/spaceship-titanic/train.csv', dtype=str)\n",
    "df.head()"
   ],
   "metadata": {
    "collapsed": false,
    "ExecuteTime": {
     "start_time": "2023-05-24T19:30:16.172930Z",
     "end_time": "2023-05-24T19:30:16.227782Z"
    }
   }
  },
  {
   "cell_type": "code",
   "execution_count": 3,
   "outputs": [
    {
     "name": "stdout",
     "output_type": "stream",
     "text": [
      "<class 'pandas.core.frame.DataFrame'>\n",
      "RangeIndex: 8693 entries, 0 to 8692\n",
      "Data columns (total 14 columns):\n",
      " #   Column        Non-Null Count  Dtype \n",
      "---  ------        --------------  ----- \n",
      " 0   PassengerId   8693 non-null   object\n",
      " 1   HomePlanet    8492 non-null   object\n",
      " 2   CryoSleep     8476 non-null   object\n",
      " 3   Cabin         8494 non-null   object\n",
      " 4   Destination   8511 non-null   object\n",
      " 5   Age           8514 non-null   object\n",
      " 6   VIP           8490 non-null   object\n",
      " 7   RoomService   8512 non-null   object\n",
      " 8   FoodCourt     8510 non-null   object\n",
      " 9   ShoppingMall  8485 non-null   object\n",
      " 10  Spa           8510 non-null   object\n",
      " 11  VRDeck        8505 non-null   object\n",
      " 12  Name          8493 non-null   object\n",
      " 13  Transported   8693 non-null   object\n",
      "dtypes: object(14)\n",
      "memory usage: 950.9+ KB\n"
     ]
    }
   ],
   "source": [
    "df.info()"
   ],
   "metadata": {
    "collapsed": false,
    "ExecuteTime": {
     "start_time": "2023-05-24T19:30:16.217810Z",
     "end_time": "2023-05-24T19:30:16.246733Z"
    }
   }
  },
  {
   "cell_type": "markdown",
   "source": [
    "- Выведите несколько первых, последних, случайных строк (случайные используя встроенный метод и сгенерируйте массив из случайных индексов, по которым будут браться строки)"
   ],
   "metadata": {
    "collapsed": false
   }
  },
  {
   "cell_type": "code",
   "execution_count": 4,
   "outputs": [
    {
     "data": {
      "text/plain": "  PassengerId HomePlanet CryoSleep  Cabin  Destination   Age    VIP  \\\n0     0001_01     Europa     False  B/0/P  TRAPPIST-1e  39.0  False   \n1     0002_01      Earth     False  F/0/S  TRAPPIST-1e  24.0  False   \n\n  RoomService FoodCourt ShoppingMall    Spa VRDeck             Name  \\\n0         0.0       0.0          0.0    0.0    0.0  Maham Ofracculy   \n1       109.0       9.0         25.0  549.0   44.0     Juanna Vines   \n\n  Transported  \n0       False  \n1        True  ",
      "text/html": "<div>\n<style scoped>\n    .dataframe tbody tr th:only-of-type {\n        vertical-align: middle;\n    }\n\n    .dataframe tbody tr th {\n        vertical-align: top;\n    }\n\n    .dataframe thead th {\n        text-align: right;\n    }\n</style>\n<table border=\"1\" class=\"dataframe\">\n  <thead>\n    <tr style=\"text-align: right;\">\n      <th></th>\n      <th>PassengerId</th>\n      <th>HomePlanet</th>\n      <th>CryoSleep</th>\n      <th>Cabin</th>\n      <th>Destination</th>\n      <th>Age</th>\n      <th>VIP</th>\n      <th>RoomService</th>\n      <th>FoodCourt</th>\n      <th>ShoppingMall</th>\n      <th>Spa</th>\n      <th>VRDeck</th>\n      <th>Name</th>\n      <th>Transported</th>\n    </tr>\n  </thead>\n  <tbody>\n    <tr>\n      <th>0</th>\n      <td>0001_01</td>\n      <td>Europa</td>\n      <td>False</td>\n      <td>B/0/P</td>\n      <td>TRAPPIST-1e</td>\n      <td>39.0</td>\n      <td>False</td>\n      <td>0.0</td>\n      <td>0.0</td>\n      <td>0.0</td>\n      <td>0.0</td>\n      <td>0.0</td>\n      <td>Maham Ofracculy</td>\n      <td>False</td>\n    </tr>\n    <tr>\n      <th>1</th>\n      <td>0002_01</td>\n      <td>Earth</td>\n      <td>False</td>\n      <td>F/0/S</td>\n      <td>TRAPPIST-1e</td>\n      <td>24.0</td>\n      <td>False</td>\n      <td>109.0</td>\n      <td>9.0</td>\n      <td>25.0</td>\n      <td>549.0</td>\n      <td>44.0</td>\n      <td>Juanna Vines</td>\n      <td>True</td>\n    </tr>\n  </tbody>\n</table>\n</div>"
     },
     "execution_count": 4,
     "metadata": {},
     "output_type": "execute_result"
    }
   ],
   "source": [
    "df.head(2)"
   ],
   "metadata": {
    "collapsed": false,
    "ExecuteTime": {
     "start_time": "2023-05-24T19:30:16.248726Z",
     "end_time": "2023-05-24T19:30:16.352483Z"
    }
   }
  },
  {
   "cell_type": "code",
   "execution_count": 5,
   "outputs": [
    {
     "data": {
      "text/plain": "     PassengerId HomePlanet CryoSleep     Cabin  Destination   Age    VIP  \\\n8690     9279_01      Earth     False  G/1500/S  TRAPPIST-1e  26.0  False   \n8691     9280_01     Europa     False   E/608/S  55 Cancri e  32.0  False   \n8692     9280_02     Europa     False   E/608/S  TRAPPIST-1e  44.0  False   \n\n     RoomService FoodCourt ShoppingMall    Spa  VRDeck              Name  \\\n8690         0.0       0.0       1872.0    1.0     0.0      Fayey Connon   \n8691         0.0    1049.0          0.0  353.0  3235.0  Celeon Hontichre   \n8692       126.0    4688.0          0.0    0.0    12.0  Propsh Hontichre   \n\n     Transported  \n8690        True  \n8691       False  \n8692        True  ",
      "text/html": "<div>\n<style scoped>\n    .dataframe tbody tr th:only-of-type {\n        vertical-align: middle;\n    }\n\n    .dataframe tbody tr th {\n        vertical-align: top;\n    }\n\n    .dataframe thead th {\n        text-align: right;\n    }\n</style>\n<table border=\"1\" class=\"dataframe\">\n  <thead>\n    <tr style=\"text-align: right;\">\n      <th></th>\n      <th>PassengerId</th>\n      <th>HomePlanet</th>\n      <th>CryoSleep</th>\n      <th>Cabin</th>\n      <th>Destination</th>\n      <th>Age</th>\n      <th>VIP</th>\n      <th>RoomService</th>\n      <th>FoodCourt</th>\n      <th>ShoppingMall</th>\n      <th>Spa</th>\n      <th>VRDeck</th>\n      <th>Name</th>\n      <th>Transported</th>\n    </tr>\n  </thead>\n  <tbody>\n    <tr>\n      <th>8690</th>\n      <td>9279_01</td>\n      <td>Earth</td>\n      <td>False</td>\n      <td>G/1500/S</td>\n      <td>TRAPPIST-1e</td>\n      <td>26.0</td>\n      <td>False</td>\n      <td>0.0</td>\n      <td>0.0</td>\n      <td>1872.0</td>\n      <td>1.0</td>\n      <td>0.0</td>\n      <td>Fayey Connon</td>\n      <td>True</td>\n    </tr>\n    <tr>\n      <th>8691</th>\n      <td>9280_01</td>\n      <td>Europa</td>\n      <td>False</td>\n      <td>E/608/S</td>\n      <td>55 Cancri e</td>\n      <td>32.0</td>\n      <td>False</td>\n      <td>0.0</td>\n      <td>1049.0</td>\n      <td>0.0</td>\n      <td>353.0</td>\n      <td>3235.0</td>\n      <td>Celeon Hontichre</td>\n      <td>False</td>\n    </tr>\n    <tr>\n      <th>8692</th>\n      <td>9280_02</td>\n      <td>Europa</td>\n      <td>False</td>\n      <td>E/608/S</td>\n      <td>TRAPPIST-1e</td>\n      <td>44.0</td>\n      <td>False</td>\n      <td>126.0</td>\n      <td>4688.0</td>\n      <td>0.0</td>\n      <td>0.0</td>\n      <td>12.0</td>\n      <td>Propsh Hontichre</td>\n      <td>True</td>\n    </tr>\n  </tbody>\n</table>\n</div>"
     },
     "execution_count": 5,
     "metadata": {},
     "output_type": "execute_result"
    }
   ],
   "source": [
    "df.tail(3)"
   ],
   "metadata": {
    "collapsed": false,
    "ExecuteTime": {
     "start_time": "2023-05-24T19:30:16.279644Z",
     "end_time": "2023-05-24T19:30:16.400322Z"
    }
   }
  },
  {
   "cell_type": "code",
   "execution_count": 6,
   "outputs": [
    {
     "data": {
      "text/plain": "     PassengerId HomePlanet CryoSleep     Cabin    Destination   Age    VIP  \\\n3773     4030_05      Earth     False   G/661/S    TRAPPIST-1e   8.0  False   \n7018     7464_01      Earth      True  G/1207/P    TRAPPIST-1e  11.0  False   \n6898     7306_01      Earth     False   E/471/P    55 Cancri e  26.0  False   \n4157     4441_03     Europa     False   B/144/P    55 Cancri e  50.0  False   \n1843     1971_01      Earth     False   F/375/S  PSO J318.5-22  54.0  False   \n2982     3225_01     Europa      True   C/120/S    55 Cancri e  17.0  False   \n8586     9165_01      Earth     False  F/1771/S    TRAPPIST-1e  23.0  False   \n7522     8043_03     Europa     False    A/97/S    TRAPPIST-1e  39.0   True   \n1017     1085_01      Earth       NaN   G/165/P    TRAPPIST-1e  54.0    NaN   \n4209     4483_02       Mars     False   D/151/P    TRAPPIST-1e  63.0  False   \n\n     RoomService FoodCourt ShoppingMall    Spa  VRDeck                Name  \\\n3773         0.0       0.0          0.0    0.0     0.0   Terina Carpennels   \n7018         0.0       0.0          0.0    0.0     0.0      Lynnie Hickett   \n6898         1.0       0.0          0.0    0.0   718.0  Toniel Stroyledgez   \n4157         0.0    4558.0          0.0    1.0   267.0    Weias Clinarfork   \n1843         3.0       0.0         56.0  633.0     0.0     Megany Irwinson   \n2982         0.0       0.0          0.0    0.0     0.0      Minoton Surind   \n8586         9.0       2.0          1.0    0.0   727.0     Leria Cofferson   \n7522         1.0     392.0         64.0  148.0  1367.0     Alcorix Fanseld   \n1017         0.0       0.0          0.0    0.0     0.0    Troyce Wagnerray   \n4209      3087.0       0.0         60.0    2.0     0.0        Fowoos Tepie   \n\n     Transported  \n3773       False  \n7018        True  \n6898        True  \n4157        True  \n1843       False  \n2982        True  \n8586       False  \n7522        True  \n1017       False  \n4209       False  ",
      "text/html": "<div>\n<style scoped>\n    .dataframe tbody tr th:only-of-type {\n        vertical-align: middle;\n    }\n\n    .dataframe tbody tr th {\n        vertical-align: top;\n    }\n\n    .dataframe thead th {\n        text-align: right;\n    }\n</style>\n<table border=\"1\" class=\"dataframe\">\n  <thead>\n    <tr style=\"text-align: right;\">\n      <th></th>\n      <th>PassengerId</th>\n      <th>HomePlanet</th>\n      <th>CryoSleep</th>\n      <th>Cabin</th>\n      <th>Destination</th>\n      <th>Age</th>\n      <th>VIP</th>\n      <th>RoomService</th>\n      <th>FoodCourt</th>\n      <th>ShoppingMall</th>\n      <th>Spa</th>\n      <th>VRDeck</th>\n      <th>Name</th>\n      <th>Transported</th>\n    </tr>\n  </thead>\n  <tbody>\n    <tr>\n      <th>3773</th>\n      <td>4030_05</td>\n      <td>Earth</td>\n      <td>False</td>\n      <td>G/661/S</td>\n      <td>TRAPPIST-1e</td>\n      <td>8.0</td>\n      <td>False</td>\n      <td>0.0</td>\n      <td>0.0</td>\n      <td>0.0</td>\n      <td>0.0</td>\n      <td>0.0</td>\n      <td>Terina Carpennels</td>\n      <td>False</td>\n    </tr>\n    <tr>\n      <th>7018</th>\n      <td>7464_01</td>\n      <td>Earth</td>\n      <td>True</td>\n      <td>G/1207/P</td>\n      <td>TRAPPIST-1e</td>\n      <td>11.0</td>\n      <td>False</td>\n      <td>0.0</td>\n      <td>0.0</td>\n      <td>0.0</td>\n      <td>0.0</td>\n      <td>0.0</td>\n      <td>Lynnie Hickett</td>\n      <td>True</td>\n    </tr>\n    <tr>\n      <th>6898</th>\n      <td>7306_01</td>\n      <td>Earth</td>\n      <td>False</td>\n      <td>E/471/P</td>\n      <td>55 Cancri e</td>\n      <td>26.0</td>\n      <td>False</td>\n      <td>1.0</td>\n      <td>0.0</td>\n      <td>0.0</td>\n      <td>0.0</td>\n      <td>718.0</td>\n      <td>Toniel Stroyledgez</td>\n      <td>True</td>\n    </tr>\n    <tr>\n      <th>4157</th>\n      <td>4441_03</td>\n      <td>Europa</td>\n      <td>False</td>\n      <td>B/144/P</td>\n      <td>55 Cancri e</td>\n      <td>50.0</td>\n      <td>False</td>\n      <td>0.0</td>\n      <td>4558.0</td>\n      <td>0.0</td>\n      <td>1.0</td>\n      <td>267.0</td>\n      <td>Weias Clinarfork</td>\n      <td>True</td>\n    </tr>\n    <tr>\n      <th>1843</th>\n      <td>1971_01</td>\n      <td>Earth</td>\n      <td>False</td>\n      <td>F/375/S</td>\n      <td>PSO J318.5-22</td>\n      <td>54.0</td>\n      <td>False</td>\n      <td>3.0</td>\n      <td>0.0</td>\n      <td>56.0</td>\n      <td>633.0</td>\n      <td>0.0</td>\n      <td>Megany Irwinson</td>\n      <td>False</td>\n    </tr>\n    <tr>\n      <th>2982</th>\n      <td>3225_01</td>\n      <td>Europa</td>\n      <td>True</td>\n      <td>C/120/S</td>\n      <td>55 Cancri e</td>\n      <td>17.0</td>\n      <td>False</td>\n      <td>0.0</td>\n      <td>0.0</td>\n      <td>0.0</td>\n      <td>0.0</td>\n      <td>0.0</td>\n      <td>Minoton Surind</td>\n      <td>True</td>\n    </tr>\n    <tr>\n      <th>8586</th>\n      <td>9165_01</td>\n      <td>Earth</td>\n      <td>False</td>\n      <td>F/1771/S</td>\n      <td>TRAPPIST-1e</td>\n      <td>23.0</td>\n      <td>False</td>\n      <td>9.0</td>\n      <td>2.0</td>\n      <td>1.0</td>\n      <td>0.0</td>\n      <td>727.0</td>\n      <td>Leria Cofferson</td>\n      <td>False</td>\n    </tr>\n    <tr>\n      <th>7522</th>\n      <td>8043_03</td>\n      <td>Europa</td>\n      <td>False</td>\n      <td>A/97/S</td>\n      <td>TRAPPIST-1e</td>\n      <td>39.0</td>\n      <td>True</td>\n      <td>1.0</td>\n      <td>392.0</td>\n      <td>64.0</td>\n      <td>148.0</td>\n      <td>1367.0</td>\n      <td>Alcorix Fanseld</td>\n      <td>True</td>\n    </tr>\n    <tr>\n      <th>1017</th>\n      <td>1085_01</td>\n      <td>Earth</td>\n      <td>NaN</td>\n      <td>G/165/P</td>\n      <td>TRAPPIST-1e</td>\n      <td>54.0</td>\n      <td>NaN</td>\n      <td>0.0</td>\n      <td>0.0</td>\n      <td>0.0</td>\n      <td>0.0</td>\n      <td>0.0</td>\n      <td>Troyce Wagnerray</td>\n      <td>False</td>\n    </tr>\n    <tr>\n      <th>4209</th>\n      <td>4483_02</td>\n      <td>Mars</td>\n      <td>False</td>\n      <td>D/151/P</td>\n      <td>TRAPPIST-1e</td>\n      <td>63.0</td>\n      <td>False</td>\n      <td>3087.0</td>\n      <td>0.0</td>\n      <td>60.0</td>\n      <td>2.0</td>\n      <td>0.0</td>\n      <td>Fowoos Tepie</td>\n      <td>False</td>\n    </tr>\n  </tbody>\n</table>\n</div>"
     },
     "execution_count": 6,
     "metadata": {},
     "output_type": "execute_result"
    }
   ],
   "source": [
    "df_sample = df.sample(10)\n",
    "df_sample"
   ],
   "metadata": {
    "collapsed": false,
    "ExecuteTime": {
     "start_time": "2023-05-24T19:30:16.293607Z",
     "end_time": "2023-05-24T19:30:16.400322Z"
    }
   }
  },
  {
   "cell_type": "markdown",
   "source": [
    " Преобразования показателей. Обработайте каждый показатель в соответствии с тем типом данных, которым он должен быть (из первого пункта у нас должны быть изначально все показатели str типа)"
   ],
   "metadata": {
    "collapsed": false
   }
  },
  {
   "cell_type": "code",
   "execution_count": 7,
   "outputs": [
    {
     "name": "stdout",
     "output_type": "stream",
     "text": [
      "<class 'pandas.core.frame.DataFrame'>\n",
      "RangeIndex: 8693 entries, 0 to 8692\n",
      "Data columns (total 14 columns):\n",
      " #   Column        Non-Null Count  Dtype  \n",
      "---  ------        --------------  -----  \n",
      " 0   PassengerId   8693 non-null   object \n",
      " 1   HomePlanet    8492 non-null   object \n",
      " 2   CryoSleep     8476 non-null   object \n",
      " 3   Cabin         8494 non-null   object \n",
      " 4   Destination   8511 non-null   object \n",
      " 5   Age           8514 non-null   float64\n",
      " 6   VIP           8490 non-null   object \n",
      " 7   RoomService   8512 non-null   float64\n",
      " 8   FoodCourt     8510 non-null   float64\n",
      " 9   ShoppingMall  8485 non-null   float64\n",
      " 10  Spa           8510 non-null   float64\n",
      " 11  VRDeck        8505 non-null   float64\n",
      " 12  Name          8493 non-null   object \n",
      " 13  Transported   8693 non-null   object \n",
      "dtypes: float64(6), object(8)\n",
      "memory usage: 950.9+ KB\n"
     ]
    }
   ],
   "source": [
    "df[['Age', 'RoomService', 'FoodCourt', 'ShoppingMall', 'Spa', 'VRDeck', ]] = df[['Age', 'RoomService', 'FoodCourt', 'ShoppingMall', 'Spa', 'VRDeck', ]].astype('float64')\n",
    "# df['Transported'] = df['Transported'].astype('bool')\n",
    "df.info()"
   ],
   "metadata": {
    "collapsed": false,
    "ExecuteTime": {
     "start_time": "2023-05-24T19:30:16.326521Z",
     "end_time": "2023-05-24T19:30:16.447198Z"
    }
   }
  },
  {
   "cell_type": "code",
   "execution_count": 8,
   "outputs": [
    {
     "data": {
      "text/plain": "True     4378\nFalse    4315\nName: Transported, dtype: int64"
     },
     "execution_count": 8,
     "metadata": {},
     "output_type": "execute_result"
    }
   ],
   "source": [
    "df['Transported'].value_counts()"
   ],
   "metadata": {
    "collapsed": false,
    "ExecuteTime": {
     "start_time": "2023-05-24T19:30:16.372398Z",
     "end_time": "2023-05-24T19:30:16.560893Z"
    }
   }
  },
  {
   "cell_type": "markdown",
   "source": [
    "- Обработайте пропуски"
   ],
   "metadata": {
    "collapsed": false
   }
  },
  {
   "cell_type": "code",
   "execution_count": 9,
   "outputs": [
    {
     "data": {
      "text/plain": "(8693, 14)"
     },
     "execution_count": 9,
     "metadata": {},
     "output_type": "execute_result"
    }
   ],
   "source": [
    "df.shape"
   ],
   "metadata": {
    "collapsed": false,
    "ExecuteTime": {
     "start_time": "2023-05-24T19:30:16.389352Z",
     "end_time": "2023-05-24T19:30:16.565879Z"
    }
   }
  },
  {
   "cell_type": "code",
   "execution_count": 10,
   "outputs": [
    {
     "name": "stdout",
     "output_type": "stream",
     "text": [
      "<class 'pandas.core.frame.DataFrame'>\n",
      "RangeIndex: 8693 entries, 0 to 8692\n",
      "Data columns (total 14 columns):\n",
      " #   Column        Non-Null Count  Dtype  \n",
      "---  ------        --------------  -----  \n",
      " 0   PassengerId   8693 non-null   object \n",
      " 1   HomePlanet    8693 non-null   object \n",
      " 2   CryoSleep     8476 non-null   object \n",
      " 3   Cabin         8494 non-null   object \n",
      " 4   Destination   8511 non-null   object \n",
      " 5   Age           8693 non-null   float64\n",
      " 6   VIP           8490 non-null   object \n",
      " 7   RoomService   8693 non-null   float64\n",
      " 8   FoodCourt     8510 non-null   float64\n",
      " 9   ShoppingMall  8485 non-null   float64\n",
      " 10  Spa           8510 non-null   float64\n",
      " 11  VRDeck        8505 non-null   float64\n",
      " 12  Name          8493 non-null   object \n",
      " 13  Transported   8693 non-null   object \n",
      "dtypes: float64(6), object(8)\n",
      "memory usage: 950.9+ KB\n"
     ]
    }
   ],
   "source": [
    "df['Age'] = df['Age'].fillna(df['Age'].mean())\n",
    "df['HomePlanet'] = df['HomePlanet'].fillna(df['HomePlanet'].mode()[0])\n",
    "df['RoomService'] = df['RoomService'].fillna(df['RoomService'].median())\n",
    "df.info()"
   ],
   "metadata": {
    "collapsed": false,
    "ExecuteTime": {
     "start_time": "2023-05-24T19:30:16.406313Z",
     "end_time": "2023-05-24T19:30:16.587822Z"
    }
   }
  },
  {
   "cell_type": "markdown",
   "source": [
    "Попытайтесь перейти от строкового типа данных к числовым"
   ],
   "metadata": {
    "collapsed": false
   }
  },
  {
   "cell_type": "code",
   "execution_count": 11,
   "outputs": [
    {
     "data": {
      "text/plain": "array([1, 2, 3], dtype=int64)"
     },
     "execution_count": 11,
     "metadata": {},
     "output_type": "execute_result"
    }
   ],
   "source": [
    "map_conditions = {\n",
    "    'Europa': 1,\n",
    "    'Earth': 2,\n",
    "    'Mars': 3\n",
    "}\n",
    "df['HomePlanet'] = df['HomePlanet'].map(map_conditions)\n",
    "df['HomePlanet'].unique()"
   ],
   "metadata": {
    "collapsed": false,
    "ExecuteTime": {
     "start_time": "2023-05-24T19:30:16.437260Z",
     "end_time": "2023-05-24T19:30:16.597796Z"
    }
   }
  },
  {
   "cell_type": "markdown",
   "source": [
    "- Посчитайте базовые статистики показателей используя группировку и встроенные методы"
   ],
   "metadata": {
    "collapsed": false
   }
  },
  {
   "cell_type": "code",
   "execution_count": 12,
   "outputs": [
    {
     "data": {
      "text/plain": "        HomePlanet          Age   RoomService     FoodCourt  ShoppingMall  \\\ncount  8693.000000  8693.000000   8693.000000   8510.000000   8485.000000   \nmean      1.957207    28.827930    220.009318    458.077203    173.729169   \nstd       0.667613    14.339054    660.519050   1611.489240    604.696458   \nmin       1.000000     0.000000      0.000000      0.000000      0.000000   \n25%       2.000000    20.000000      0.000000      0.000000      0.000000   \n50%       2.000000    27.000000      0.000000      0.000000      0.000000   \n75%       2.000000    37.000000     41.000000     76.000000     27.000000   \nmax       3.000000    79.000000  14327.000000  29813.000000  23492.000000   \n\n                Spa        VRDeck  \ncount   8510.000000   8505.000000  \nmean     311.138778    304.854791  \nstd     1136.705535   1145.717189  \nmin        0.000000      0.000000  \n25%        0.000000      0.000000  \n50%        0.000000      0.000000  \n75%       59.000000     46.000000  \nmax    22408.000000  24133.000000  ",
      "text/html": "<div>\n<style scoped>\n    .dataframe tbody tr th:only-of-type {\n        vertical-align: middle;\n    }\n\n    .dataframe tbody tr th {\n        vertical-align: top;\n    }\n\n    .dataframe thead th {\n        text-align: right;\n    }\n</style>\n<table border=\"1\" class=\"dataframe\">\n  <thead>\n    <tr style=\"text-align: right;\">\n      <th></th>\n      <th>HomePlanet</th>\n      <th>Age</th>\n      <th>RoomService</th>\n      <th>FoodCourt</th>\n      <th>ShoppingMall</th>\n      <th>Spa</th>\n      <th>VRDeck</th>\n    </tr>\n  </thead>\n  <tbody>\n    <tr>\n      <th>count</th>\n      <td>8693.000000</td>\n      <td>8693.000000</td>\n      <td>8693.000000</td>\n      <td>8510.000000</td>\n      <td>8485.000000</td>\n      <td>8510.000000</td>\n      <td>8505.000000</td>\n    </tr>\n    <tr>\n      <th>mean</th>\n      <td>1.957207</td>\n      <td>28.827930</td>\n      <td>220.009318</td>\n      <td>458.077203</td>\n      <td>173.729169</td>\n      <td>311.138778</td>\n      <td>304.854791</td>\n    </tr>\n    <tr>\n      <th>std</th>\n      <td>0.667613</td>\n      <td>14.339054</td>\n      <td>660.519050</td>\n      <td>1611.489240</td>\n      <td>604.696458</td>\n      <td>1136.705535</td>\n      <td>1145.717189</td>\n    </tr>\n    <tr>\n      <th>min</th>\n      <td>1.000000</td>\n      <td>0.000000</td>\n      <td>0.000000</td>\n      <td>0.000000</td>\n      <td>0.000000</td>\n      <td>0.000000</td>\n      <td>0.000000</td>\n    </tr>\n    <tr>\n      <th>25%</th>\n      <td>2.000000</td>\n      <td>20.000000</td>\n      <td>0.000000</td>\n      <td>0.000000</td>\n      <td>0.000000</td>\n      <td>0.000000</td>\n      <td>0.000000</td>\n    </tr>\n    <tr>\n      <th>50%</th>\n      <td>2.000000</td>\n      <td>27.000000</td>\n      <td>0.000000</td>\n      <td>0.000000</td>\n      <td>0.000000</td>\n      <td>0.000000</td>\n      <td>0.000000</td>\n    </tr>\n    <tr>\n      <th>75%</th>\n      <td>2.000000</td>\n      <td>37.000000</td>\n      <td>41.000000</td>\n      <td>76.000000</td>\n      <td>27.000000</td>\n      <td>59.000000</td>\n      <td>46.000000</td>\n    </tr>\n    <tr>\n      <th>max</th>\n      <td>3.000000</td>\n      <td>79.000000</td>\n      <td>14327.000000</td>\n      <td>29813.000000</td>\n      <td>23492.000000</td>\n      <td>22408.000000</td>\n      <td>24133.000000</td>\n    </tr>\n  </tbody>\n</table>\n</div>"
     },
     "execution_count": 12,
     "metadata": {},
     "output_type": "execute_result"
    }
   ],
   "source": [
    "df.describe()"
   ],
   "metadata": {
    "collapsed": false,
    "ExecuteTime": {
     "start_time": "2023-05-24T19:30:16.451187Z",
     "end_time": "2023-05-24T19:30:16.662653Z"
    }
   }
  },
  {
   "cell_type": "code",
   "execution_count": 13,
   "outputs": [
    {
     "data": {
      "text/plain": "                  Age       \n                 mean median\nHomePlanet                  \n1           34.298960   32.0\n2           26.232878   24.0\n3           29.285731   28.0",
      "text/html": "<div>\n<style scoped>\n    .dataframe tbody tr th:only-of-type {\n        vertical-align: middle;\n    }\n\n    .dataframe tbody tr th {\n        vertical-align: top;\n    }\n\n    .dataframe thead tr th {\n        text-align: left;\n    }\n\n    .dataframe thead tr:last-of-type th {\n        text-align: right;\n    }\n</style>\n<table border=\"1\" class=\"dataframe\">\n  <thead>\n    <tr>\n      <th></th>\n      <th colspan=\"2\" halign=\"left\">Age</th>\n    </tr>\n    <tr>\n      <th></th>\n      <th>mean</th>\n      <th>median</th>\n    </tr>\n    <tr>\n      <th>HomePlanet</th>\n      <th></th>\n      <th></th>\n    </tr>\n  </thead>\n  <tbody>\n    <tr>\n      <th>1</th>\n      <td>34.298960</td>\n      <td>32.0</td>\n    </tr>\n    <tr>\n      <th>2</th>\n      <td>26.232878</td>\n      <td>24.0</td>\n    </tr>\n    <tr>\n      <th>3</th>\n      <td>29.285731</td>\n      <td>28.0</td>\n    </tr>\n  </tbody>\n</table>\n</div>"
     },
     "execution_count": 13,
     "metadata": {},
     "output_type": "execute_result"
    }
   ],
   "source": [
    "df[['HomePlanet', 'Age']].groupby('HomePlanet').agg(['mean','median'])"
   ],
   "metadata": {
    "collapsed": false,
    "ExecuteTime": {
     "start_time": "2023-05-24T19:30:16.500056Z",
     "end_time": "2023-05-24T19:30:16.662653Z"
    }
   }
  },
  {
   "cell_type": "code",
   "execution_count": 14,
   "outputs": [
    {
     "data": {
      "text/plain": "                          Transported\n                                count\nDestination   Transported            \n55 Cancri e   False               702\n              True               1098\nPSO J318.5-22 False               395\n              True                401\nTRAPPIST-1e   False              3128\n              True               2787",
      "text/html": "<div>\n<style scoped>\n    .dataframe tbody tr th:only-of-type {\n        vertical-align: middle;\n    }\n\n    .dataframe tbody tr th {\n        vertical-align: top;\n    }\n\n    .dataframe thead tr th {\n        text-align: left;\n    }\n\n    .dataframe thead tr:last-of-type th {\n        text-align: right;\n    }\n</style>\n<table border=\"1\" class=\"dataframe\">\n  <thead>\n    <tr>\n      <th></th>\n      <th></th>\n      <th>Transported</th>\n    </tr>\n    <tr>\n      <th></th>\n      <th></th>\n      <th>count</th>\n    </tr>\n    <tr>\n      <th>Destination</th>\n      <th>Transported</th>\n      <th></th>\n    </tr>\n  </thead>\n  <tbody>\n    <tr>\n      <th rowspan=\"2\" valign=\"top\">55 Cancri e</th>\n      <th>False</th>\n      <td>702</td>\n    </tr>\n    <tr>\n      <th>True</th>\n      <td>1098</td>\n    </tr>\n    <tr>\n      <th rowspan=\"2\" valign=\"top\">PSO J318.5-22</th>\n      <th>False</th>\n      <td>395</td>\n    </tr>\n    <tr>\n      <th>True</th>\n      <td>401</td>\n    </tr>\n    <tr>\n      <th rowspan=\"2\" valign=\"top\">TRAPPIST-1e</th>\n      <th>False</th>\n      <td>3128</td>\n    </tr>\n    <tr>\n      <th>True</th>\n      <td>2787</td>\n    </tr>\n  </tbody>\n</table>\n</div>"
     },
     "execution_count": 14,
     "metadata": {},
     "output_type": "execute_result"
    }
   ],
   "source": [
    "df[['Destination', 'Transported']].groupby(['Destination','Transported']).agg({'Transported': [ 'count']})"
   ],
   "metadata": {
    "collapsed": false,
    "ExecuteTime": {
     "start_time": "2023-05-24T19:30:16.533965Z",
     "end_time": "2023-05-24T19:30:16.663651Z"
    }
   }
  },
  {
   "cell_type": "code",
   "execution_count": 15,
   "outputs": [
    {
     "data": {
      "text/plain": "True     0.503624\nFalse    0.496376\nName: Transported, dtype: float64"
     },
     "execution_count": 15,
     "metadata": {},
     "output_type": "execute_result"
    }
   ],
   "source": [
    "df['Transported'].value_counts(normalize=True)"
   ],
   "metadata": {
    "collapsed": false,
    "ExecuteTime": {
     "start_time": "2023-05-24T19:30:16.563891Z",
     "end_time": "2023-05-24T19:30:16.672618Z"
    }
   }
  },
  {
   "cell_type": "code",
   "execution_count": 16,
   "outputs": [
    {
     "data": {
      "text/plain": "Destination  \nTRAPPIST-1e      0.694983\n55 Cancri e      0.211491\nPSO J318.5-22    0.093526\ndtype: float64"
     },
     "execution_count": 16,
     "metadata": {},
     "output_type": "execute_result"
    }
   ],
   "source": [
    "df[['Destination']].value_counts(normalize=True)"
   ],
   "metadata": {
    "collapsed": false,
    "ExecuteTime": {
     "start_time": "2023-05-24T19:30:16.575854Z",
     "end_time": "2023-05-24T19:30:16.794276Z"
    }
   }
  },
  {
   "cell_type": "code",
   "execution_count": 17,
   "outputs": [
    {
     "data": {
      "text/plain": "CryoSleep  Transported\nFalse      False          0.430628\nTrue       True           0.292945\nFalse      True           0.211067\nTrue       False          0.065361\ndtype: float64"
     },
     "execution_count": 17,
     "metadata": {},
     "output_type": "execute_result"
    }
   ],
   "source": [
    "\n",
    "df[['CryoSleep', 'Transported']].value_counts(normalize=True)"
   ],
   "metadata": {
    "collapsed": false,
    "ExecuteTime": {
     "start_time": "2023-05-24T19:30:16.591812Z",
     "end_time": "2023-05-24T19:30:16.841271Z"
    }
   }
  },
  {
   "cell_type": "code",
   "execution_count": 18,
   "outputs": [
    {
     "data": {
      "text/plain": "True     0.817583\nFalse    0.182417\nName: Transported, dtype: float64"
     },
     "execution_count": 18,
     "metadata": {},
     "output_type": "execute_result"
    }
   ],
   "source": [
    "df['Transported'][df['CryoSleep'] == 'True'].value_counts(normalize=True)"
   ],
   "metadata": {
    "collapsed": false,
    "ExecuteTime": {
     "start_time": "2023-05-24T19:30:16.608765Z",
     "end_time": "2023-05-24T19:30:16.866205Z"
    }
   }
  },
  {
   "cell_type": "code",
   "execution_count": 23,
   "outputs": [
    {
     "data": {
      "text/plain": "True     0.627822\nFalse    0.372178\nName: Transported, dtype: float64"
     },
     "execution_count": 23,
     "metadata": {},
     "output_type": "execute_result"
    }
   ],
   "source": [
    "df['Transported'][df['RoomService'] == 0].value_counts(normalize=True)"
   ],
   "metadata": {
    "collapsed": false,
    "ExecuteTime": {
     "start_time": "2023-05-24T19:31:21.304414Z",
     "end_time": "2023-05-24T19:31:21.332372Z"
    }
   }
  },
  {
   "cell_type": "code",
   "execution_count": 26,
   "outputs": [
    {
     "data": {
      "text/plain": "False    0.740034\nTrue     0.259966\nName: Transported, dtype: float64"
     },
     "execution_count": 26,
     "metadata": {},
     "output_type": "execute_result"
    }
   ],
   "source": [
    "df['Transported'][df['RoomService'] > 0].value_counts(normalize=True)"
   ],
   "metadata": {
    "collapsed": false,
    "ExecuteTime": {
     "start_time": "2023-05-24T19:33:02.385970Z",
     "end_time": "2023-05-24T19:33:02.413007Z"
    }
   }
  },
  {
   "cell_type": "code",
   "execution_count": 30,
   "outputs": [
    {
     "data": {
      "text/plain": "Transported        False         True\nAge count    4315.000000  4378.000000\n    mean       29.900275    27.771017\n    std        13.558108    14.995903\n    min         0.000000     0.000000\n    25%        21.000000    18.000000\n    50%        28.000000    27.000000\n    75%        38.000000    37.000000\n    max        79.000000    78.000000",
      "text/html": "<div>\n<style scoped>\n    .dataframe tbody tr th:only-of-type {\n        vertical-align: middle;\n    }\n\n    .dataframe tbody tr th {\n        vertical-align: top;\n    }\n\n    .dataframe thead th {\n        text-align: right;\n    }\n</style>\n<table border=\"1\" class=\"dataframe\">\n  <thead>\n    <tr style=\"text-align: right;\">\n      <th></th>\n      <th>Transported</th>\n      <th>False</th>\n      <th>True</th>\n    </tr>\n  </thead>\n  <tbody>\n    <tr>\n      <th rowspan=\"8\" valign=\"top\">Age</th>\n      <th>count</th>\n      <td>4315.000000</td>\n      <td>4378.000000</td>\n    </tr>\n    <tr>\n      <th>mean</th>\n      <td>29.900275</td>\n      <td>27.771017</td>\n    </tr>\n    <tr>\n      <th>std</th>\n      <td>13.558108</td>\n      <td>14.995903</td>\n    </tr>\n    <tr>\n      <th>min</th>\n      <td>0.000000</td>\n      <td>0.000000</td>\n    </tr>\n    <tr>\n      <th>25%</th>\n      <td>21.000000</td>\n      <td>18.000000</td>\n    </tr>\n    <tr>\n      <th>50%</th>\n      <td>28.000000</td>\n      <td>27.000000</td>\n    </tr>\n    <tr>\n      <th>75%</th>\n      <td>38.000000</td>\n      <td>37.000000</td>\n    </tr>\n    <tr>\n      <th>max</th>\n      <td>79.000000</td>\n      <td>78.000000</td>\n    </tr>\n  </tbody>\n</table>\n</div>"
     },
     "execution_count": 30,
     "metadata": {},
     "output_type": "execute_result"
    }
   ],
   "source": [
    "df[['Transported', 'Age']].groupby('Transported').agg('describe').T"
   ],
   "metadata": {
    "collapsed": false,
    "ExecuteTime": {
     "start_time": "2023-05-24T19:36:24.365031Z",
     "end_time": "2023-05-24T19:36:24.407950Z"
    }
   }
  },
  {
   "cell_type": "markdown",
   "source": [
    "Результаты изучения данных:\n",
    "- более 50% пассажиров с планеты Earth;\n",
    "- почти 70% пассажиров направлялись на TRAPPIST-1e;\n",
    "- половина пассажиров пропали после столкновения;\n",
    "- 80% пассажиров в криоспе переместились\n",
    "- 62% тех кто не платил за комнаты пропали против 26% тех, кто платил, возможно это как то повлияло\n",
    "- непохоже, что возраст как то сильно влиял на результат\n"
   ],
   "metadata": {
    "collapsed": false
   }
  }
 ],
 "metadata": {
  "kernelspec": {
   "display_name": "Python 3",
   "language": "python",
   "name": "python3"
  },
  "language_info": {
   "codemirror_mode": {
    "name": "ipython",
    "version": 2
   },
   "file_extension": ".py",
   "mimetype": "text/x-python",
   "name": "python",
   "nbconvert_exporter": "python",
   "pygments_lexer": "ipython2",
   "version": "2.7.6"
  }
 },
 "nbformat": 4,
 "nbformat_minor": 0
}
