{
 "cells": [
  {
   "cell_type": "code",
   "execution_count": 1,
   "metadata": {
    "collapsed": true,
    "ExecuteTime": {
     "start_time": "2023-05-24T17:25:10.792679Z",
     "end_time": "2023-05-24T17:25:11.345722Z"
    }
   },
   "outputs": [],
   "source": [
    "import pandas as pd\n",
    "import matplotlib\n",
    "import scipy"
   ]
  },
  {
   "cell_type": "code",
   "execution_count": 2,
   "outputs": [],
   "source": [
    "df = pd.read_csv('data/spaceship-titanic/train.csv')"
   ],
   "metadata": {
    "collapsed": false,
    "ExecuteTime": {
     "start_time": "2023-05-24T17:25:11.350708Z",
     "end_time": "2023-05-24T17:25:11.420620Z"
    }
   }
  },
  {
   "cell_type": "code",
   "execution_count": 3,
   "outputs": [],
   "source": [
    "head_df = df.head(10)"
   ],
   "metadata": {
    "collapsed": false,
    "ExecuteTime": {
     "start_time": "2023-05-24T17:25:11.392515Z",
     "end_time": "2023-05-24T17:25:11.423602Z"
    }
   }
  },
  {
   "cell_type": "code",
   "execution_count": 4,
   "outputs": [
    {
     "data": {
      "text/plain": "  PassengerId HomePlanet CryoSleep  Cabin    Destination   Age    VIP  \\\n0     0001_01     Europa     False  B/0/P    TRAPPIST-1e  39.0  False   \n1     0002_01      Earth     False  F/0/S    TRAPPIST-1e  24.0  False   \n2     0003_01     Europa     False  A/0/S    TRAPPIST-1e  58.0   True   \n3     0003_02     Europa     False  A/0/S    TRAPPIST-1e  33.0  False   \n4     0004_01      Earth     False  F/1/S    TRAPPIST-1e  16.0  False   \n5     0005_01      Earth     False  F/0/P  PSO J318.5-22  44.0  False   \n6     0006_01      Earth     False  F/2/S    TRAPPIST-1e  26.0  False   \n7     0006_02      Earth      True  G/0/S    TRAPPIST-1e  28.0  False   \n8     0007_01      Earth     False  F/3/S    TRAPPIST-1e  35.0  False   \n9     0008_01     Europa      True  B/1/P    55 Cancri e  14.0  False   \n\n   RoomService  FoodCourt  ShoppingMall     Spa  VRDeck                Name  \\\n0          0.0        0.0           0.0     0.0     0.0     Maham Ofracculy   \n1        109.0        9.0          25.0   549.0    44.0        Juanna Vines   \n2         43.0     3576.0           0.0  6715.0    49.0       Altark Susent   \n3          0.0     1283.0         371.0  3329.0   193.0        Solam Susent   \n4        303.0       70.0         151.0   565.0     2.0   Willy Santantines   \n5          0.0      483.0           0.0   291.0     0.0   Sandie Hinetthews   \n6         42.0     1539.0           3.0     0.0     0.0  Billex Jacostaffey   \n7          0.0        0.0           0.0     0.0     NaN  Candra Jacostaffey   \n8          0.0      785.0          17.0   216.0     0.0       Andona Beston   \n9          0.0        0.0           0.0     0.0     0.0      Erraiam Flatic   \n\n   Transported  \n0        False  \n1         True  \n2        False  \n3        False  \n4         True  \n5         True  \n6         True  \n7         True  \n8         True  \n9         True  ",
      "text/html": "<div>\n<style scoped>\n    .dataframe tbody tr th:only-of-type {\n        vertical-align: middle;\n    }\n\n    .dataframe tbody tr th {\n        vertical-align: top;\n    }\n\n    .dataframe thead th {\n        text-align: right;\n    }\n</style>\n<table border=\"1\" class=\"dataframe\">\n  <thead>\n    <tr style=\"text-align: right;\">\n      <th></th>\n      <th>PassengerId</th>\n      <th>HomePlanet</th>\n      <th>CryoSleep</th>\n      <th>Cabin</th>\n      <th>Destination</th>\n      <th>Age</th>\n      <th>VIP</th>\n      <th>RoomService</th>\n      <th>FoodCourt</th>\n      <th>ShoppingMall</th>\n      <th>Spa</th>\n      <th>VRDeck</th>\n      <th>Name</th>\n      <th>Transported</th>\n    </tr>\n  </thead>\n  <tbody>\n    <tr>\n      <th>0</th>\n      <td>0001_01</td>\n      <td>Europa</td>\n      <td>False</td>\n      <td>B/0/P</td>\n      <td>TRAPPIST-1e</td>\n      <td>39.0</td>\n      <td>False</td>\n      <td>0.0</td>\n      <td>0.0</td>\n      <td>0.0</td>\n      <td>0.0</td>\n      <td>0.0</td>\n      <td>Maham Ofracculy</td>\n      <td>False</td>\n    </tr>\n    <tr>\n      <th>1</th>\n      <td>0002_01</td>\n      <td>Earth</td>\n      <td>False</td>\n      <td>F/0/S</td>\n      <td>TRAPPIST-1e</td>\n      <td>24.0</td>\n      <td>False</td>\n      <td>109.0</td>\n      <td>9.0</td>\n      <td>25.0</td>\n      <td>549.0</td>\n      <td>44.0</td>\n      <td>Juanna Vines</td>\n      <td>True</td>\n    </tr>\n    <tr>\n      <th>2</th>\n      <td>0003_01</td>\n      <td>Europa</td>\n      <td>False</td>\n      <td>A/0/S</td>\n      <td>TRAPPIST-1e</td>\n      <td>58.0</td>\n      <td>True</td>\n      <td>43.0</td>\n      <td>3576.0</td>\n      <td>0.0</td>\n      <td>6715.0</td>\n      <td>49.0</td>\n      <td>Altark Susent</td>\n      <td>False</td>\n    </tr>\n    <tr>\n      <th>3</th>\n      <td>0003_02</td>\n      <td>Europa</td>\n      <td>False</td>\n      <td>A/0/S</td>\n      <td>TRAPPIST-1e</td>\n      <td>33.0</td>\n      <td>False</td>\n      <td>0.0</td>\n      <td>1283.0</td>\n      <td>371.0</td>\n      <td>3329.0</td>\n      <td>193.0</td>\n      <td>Solam Susent</td>\n      <td>False</td>\n    </tr>\n    <tr>\n      <th>4</th>\n      <td>0004_01</td>\n      <td>Earth</td>\n      <td>False</td>\n      <td>F/1/S</td>\n      <td>TRAPPIST-1e</td>\n      <td>16.0</td>\n      <td>False</td>\n      <td>303.0</td>\n      <td>70.0</td>\n      <td>151.0</td>\n      <td>565.0</td>\n      <td>2.0</td>\n      <td>Willy Santantines</td>\n      <td>True</td>\n    </tr>\n    <tr>\n      <th>5</th>\n      <td>0005_01</td>\n      <td>Earth</td>\n      <td>False</td>\n      <td>F/0/P</td>\n      <td>PSO J318.5-22</td>\n      <td>44.0</td>\n      <td>False</td>\n      <td>0.0</td>\n      <td>483.0</td>\n      <td>0.0</td>\n      <td>291.0</td>\n      <td>0.0</td>\n      <td>Sandie Hinetthews</td>\n      <td>True</td>\n    </tr>\n    <tr>\n      <th>6</th>\n      <td>0006_01</td>\n      <td>Earth</td>\n      <td>False</td>\n      <td>F/2/S</td>\n      <td>TRAPPIST-1e</td>\n      <td>26.0</td>\n      <td>False</td>\n      <td>42.0</td>\n      <td>1539.0</td>\n      <td>3.0</td>\n      <td>0.0</td>\n      <td>0.0</td>\n      <td>Billex Jacostaffey</td>\n      <td>True</td>\n    </tr>\n    <tr>\n      <th>7</th>\n      <td>0006_02</td>\n      <td>Earth</td>\n      <td>True</td>\n      <td>G/0/S</td>\n      <td>TRAPPIST-1e</td>\n      <td>28.0</td>\n      <td>False</td>\n      <td>0.0</td>\n      <td>0.0</td>\n      <td>0.0</td>\n      <td>0.0</td>\n      <td>NaN</td>\n      <td>Candra Jacostaffey</td>\n      <td>True</td>\n    </tr>\n    <tr>\n      <th>8</th>\n      <td>0007_01</td>\n      <td>Earth</td>\n      <td>False</td>\n      <td>F/3/S</td>\n      <td>TRAPPIST-1e</td>\n      <td>35.0</td>\n      <td>False</td>\n      <td>0.0</td>\n      <td>785.0</td>\n      <td>17.0</td>\n      <td>216.0</td>\n      <td>0.0</td>\n      <td>Andona Beston</td>\n      <td>True</td>\n    </tr>\n    <tr>\n      <th>9</th>\n      <td>0008_01</td>\n      <td>Europa</td>\n      <td>True</td>\n      <td>B/1/P</td>\n      <td>55 Cancri e</td>\n      <td>14.0</td>\n      <td>False</td>\n      <td>0.0</td>\n      <td>0.0</td>\n      <td>0.0</td>\n      <td>0.0</td>\n      <td>0.0</td>\n      <td>Erraiam Flatic</td>\n      <td>True</td>\n    </tr>\n  </tbody>\n</table>\n</div>"
     },
     "execution_count": 4,
     "metadata": {},
     "output_type": "execute_result"
    }
   ],
   "source": [
    "head_df"
   ],
   "metadata": {
    "collapsed": false,
    "ExecuteTime": {
     "start_time": "2023-05-24T17:25:11.411569Z",
     "end_time": "2023-05-24T17:25:11.439655Z"
    }
   }
  },
  {
   "cell_type": "code",
   "execution_count": 5,
   "outputs": [
    {
     "data": {
      "text/plain": "pandas.core.frame.DataFrame"
     },
     "execution_count": 5,
     "metadata": {},
     "output_type": "execute_result"
    }
   ],
   "source": [
    "type(df)"
   ],
   "metadata": {
    "collapsed": false,
    "ExecuteTime": {
     "start_time": "2023-05-24T17:25:11.443696Z",
     "end_time": "2023-05-24T17:25:11.486384Z"
    }
   }
  },
  {
   "cell_type": "code",
   "execution_count": 6,
   "outputs": [
    {
     "data": {
      "text/plain": "     PassengerId HomePlanet CryoSleep     Cabin    Destination   Age    VIP  \\\n8687     9275_03     Europa       NaN    A/97/P    TRAPPIST-1e  30.0  False   \n8688     9276_01     Europa     False    A/98/P    55 Cancri e  41.0   True   \n8689     9278_01      Earth      True  G/1499/S  PSO J318.5-22  18.0  False   \n8690     9279_01      Earth     False  G/1500/S    TRAPPIST-1e  26.0  False   \n8691     9280_01     Europa     False   E/608/S    55 Cancri e  32.0  False   \n8692     9280_02     Europa     False   E/608/S    TRAPPIST-1e  44.0  False   \n\n      RoomService  FoodCourt  ShoppingMall     Spa  VRDeck               Name  \\\n8687          0.0     3208.0           0.0     2.0   330.0    Atlasym Conable   \n8688          0.0     6819.0           0.0  1643.0    74.0  Gravior Noxnuther   \n8689          0.0        0.0           0.0     0.0     0.0    Kurta Mondalley   \n8690          0.0        0.0        1872.0     1.0     0.0       Fayey Connon   \n8691          0.0     1049.0           0.0   353.0  3235.0   Celeon Hontichre   \n8692        126.0     4688.0           0.0     0.0    12.0   Propsh Hontichre   \n\n      Transported  \n8687         True  \n8688        False  \n8689        False  \n8690         True  \n8691        False  \n8692         True  ",
      "text/html": "<div>\n<style scoped>\n    .dataframe tbody tr th:only-of-type {\n        vertical-align: middle;\n    }\n\n    .dataframe tbody tr th {\n        vertical-align: top;\n    }\n\n    .dataframe thead th {\n        text-align: right;\n    }\n</style>\n<table border=\"1\" class=\"dataframe\">\n  <thead>\n    <tr style=\"text-align: right;\">\n      <th></th>\n      <th>PassengerId</th>\n      <th>HomePlanet</th>\n      <th>CryoSleep</th>\n      <th>Cabin</th>\n      <th>Destination</th>\n      <th>Age</th>\n      <th>VIP</th>\n      <th>RoomService</th>\n      <th>FoodCourt</th>\n      <th>ShoppingMall</th>\n      <th>Spa</th>\n      <th>VRDeck</th>\n      <th>Name</th>\n      <th>Transported</th>\n    </tr>\n  </thead>\n  <tbody>\n    <tr>\n      <th>8687</th>\n      <td>9275_03</td>\n      <td>Europa</td>\n      <td>NaN</td>\n      <td>A/97/P</td>\n      <td>TRAPPIST-1e</td>\n      <td>30.0</td>\n      <td>False</td>\n      <td>0.0</td>\n      <td>3208.0</td>\n      <td>0.0</td>\n      <td>2.0</td>\n      <td>330.0</td>\n      <td>Atlasym Conable</td>\n      <td>True</td>\n    </tr>\n    <tr>\n      <th>8688</th>\n      <td>9276_01</td>\n      <td>Europa</td>\n      <td>False</td>\n      <td>A/98/P</td>\n      <td>55 Cancri e</td>\n      <td>41.0</td>\n      <td>True</td>\n      <td>0.0</td>\n      <td>6819.0</td>\n      <td>0.0</td>\n      <td>1643.0</td>\n      <td>74.0</td>\n      <td>Gravior Noxnuther</td>\n      <td>False</td>\n    </tr>\n    <tr>\n      <th>8689</th>\n      <td>9278_01</td>\n      <td>Earth</td>\n      <td>True</td>\n      <td>G/1499/S</td>\n      <td>PSO J318.5-22</td>\n      <td>18.0</td>\n      <td>False</td>\n      <td>0.0</td>\n      <td>0.0</td>\n      <td>0.0</td>\n      <td>0.0</td>\n      <td>0.0</td>\n      <td>Kurta Mondalley</td>\n      <td>False</td>\n    </tr>\n    <tr>\n      <th>8690</th>\n      <td>9279_01</td>\n      <td>Earth</td>\n      <td>False</td>\n      <td>G/1500/S</td>\n      <td>TRAPPIST-1e</td>\n      <td>26.0</td>\n      <td>False</td>\n      <td>0.0</td>\n      <td>0.0</td>\n      <td>1872.0</td>\n      <td>1.0</td>\n      <td>0.0</td>\n      <td>Fayey Connon</td>\n      <td>True</td>\n    </tr>\n    <tr>\n      <th>8691</th>\n      <td>9280_01</td>\n      <td>Europa</td>\n      <td>False</td>\n      <td>E/608/S</td>\n      <td>55 Cancri e</td>\n      <td>32.0</td>\n      <td>False</td>\n      <td>0.0</td>\n      <td>1049.0</td>\n      <td>0.0</td>\n      <td>353.0</td>\n      <td>3235.0</td>\n      <td>Celeon Hontichre</td>\n      <td>False</td>\n    </tr>\n    <tr>\n      <th>8692</th>\n      <td>9280_02</td>\n      <td>Europa</td>\n      <td>False</td>\n      <td>E/608/S</td>\n      <td>TRAPPIST-1e</td>\n      <td>44.0</td>\n      <td>False</td>\n      <td>126.0</td>\n      <td>4688.0</td>\n      <td>0.0</td>\n      <td>0.0</td>\n      <td>12.0</td>\n      <td>Propsh Hontichre</td>\n      <td>True</td>\n    </tr>\n  </tbody>\n</table>\n</div>"
     },
     "execution_count": 6,
     "metadata": {},
     "output_type": "execute_result"
    }
   ],
   "source": [
    "df.tail(6)"
   ],
   "metadata": {
    "collapsed": false,
    "ExecuteTime": {
     "start_time": "2023-05-24T17:25:11.457762Z",
     "end_time": "2023-05-24T17:25:11.516047Z"
    }
   }
  },
  {
   "cell_type": "code",
   "execution_count": 7,
   "outputs": [
    {
     "data": {
      "text/plain": "     PassengerId HomePlanet CryoSleep    Cabin  Destination   Age    VIP  \\\n8585     9164_01       Mars     False  E/602/S  TRAPPIST-1e  20.0  False   \n6443     6802_01     Europa     False   A/68/P  55 Cancri e  42.0  False   \n\n      RoomService  FoodCourt  ShoppingMall   Spa  VRDeck           Name  \\\n8585        574.0        1.0         792.0  11.0     0.0   Tundsh Gread   \n6443       1751.0      516.0           0.0  12.0   672.0  Eleb Disteady   \n\n      Transported  \n8585        False  \n6443        False  ",
      "text/html": "<div>\n<style scoped>\n    .dataframe tbody tr th:only-of-type {\n        vertical-align: middle;\n    }\n\n    .dataframe tbody tr th {\n        vertical-align: top;\n    }\n\n    .dataframe thead th {\n        text-align: right;\n    }\n</style>\n<table border=\"1\" class=\"dataframe\">\n  <thead>\n    <tr style=\"text-align: right;\">\n      <th></th>\n      <th>PassengerId</th>\n      <th>HomePlanet</th>\n      <th>CryoSleep</th>\n      <th>Cabin</th>\n      <th>Destination</th>\n      <th>Age</th>\n      <th>VIP</th>\n      <th>RoomService</th>\n      <th>FoodCourt</th>\n      <th>ShoppingMall</th>\n      <th>Spa</th>\n      <th>VRDeck</th>\n      <th>Name</th>\n      <th>Transported</th>\n    </tr>\n  </thead>\n  <tbody>\n    <tr>\n      <th>8585</th>\n      <td>9164_01</td>\n      <td>Mars</td>\n      <td>False</td>\n      <td>E/602/S</td>\n      <td>TRAPPIST-1e</td>\n      <td>20.0</td>\n      <td>False</td>\n      <td>574.0</td>\n      <td>1.0</td>\n      <td>792.0</td>\n      <td>11.0</td>\n      <td>0.0</td>\n      <td>Tundsh Gread</td>\n      <td>False</td>\n    </tr>\n    <tr>\n      <th>6443</th>\n      <td>6802_01</td>\n      <td>Europa</td>\n      <td>False</td>\n      <td>A/68/P</td>\n      <td>55 Cancri e</td>\n      <td>42.0</td>\n      <td>False</td>\n      <td>1751.0</td>\n      <td>516.0</td>\n      <td>0.0</td>\n      <td>12.0</td>\n      <td>672.0</td>\n      <td>Eleb Disteady</td>\n      <td>False</td>\n    </tr>\n  </tbody>\n</table>\n</div>"
     },
     "execution_count": 7,
     "metadata": {},
     "output_type": "execute_result"
    }
   ],
   "source": [
    "df.sample(2)"
   ],
   "metadata": {
    "collapsed": false,
    "ExecuteTime": {
     "start_time": "2023-05-24T17:25:11.489375Z",
     "end_time": "2023-05-24T17:25:11.671292Z"
    }
   }
  },
  {
   "cell_type": "code",
   "execution_count": 8,
   "outputs": [
    {
     "data": {
      "text/plain": "Index(['PassengerId', 'HomePlanet', 'CryoSleep', 'Cabin', 'Destination', 'Age',\n       'VIP', 'RoomService', 'FoodCourt', 'ShoppingMall', 'Spa', 'VRDeck',\n       'Name', 'Transported'],\n      dtype='object')"
     },
     "execution_count": 8,
     "metadata": {},
     "output_type": "execute_result"
    }
   ],
   "source": [
    "df.columns"
   ],
   "metadata": {
    "collapsed": false,
    "ExecuteTime": {
     "start_time": "2023-05-24T17:25:11.521033Z",
     "end_time": "2023-05-24T17:25:11.681263Z"
    }
   }
  },
  {
   "cell_type": "code",
   "execution_count": 9,
   "outputs": [
    {
     "data": {
      "text/plain": "        0       1      2      3              4     5      6      7       8   \\\n0  0001_01  Europa  False  B/0/P    TRAPPIST-1e  39.0  False    0.0     0.0   \n1  0002_01   Earth  False  F/0/S    TRAPPIST-1e  24.0  False  109.0     9.0   \n2  0003_01  Europa  False  A/0/S    TRAPPIST-1e  58.0   True   43.0  3576.0   \n3  0003_02  Europa  False  A/0/S    TRAPPIST-1e  33.0  False    0.0  1283.0   \n4  0004_01   Earth  False  F/1/S    TRAPPIST-1e  16.0  False  303.0    70.0   \n5  0005_01   Earth  False  F/0/P  PSO J318.5-22  44.0  False    0.0   483.0   \n6  0006_01   Earth  False  F/2/S    TRAPPIST-1e  26.0  False   42.0  1539.0   \n7  0006_02   Earth   True  G/0/S    TRAPPIST-1e  28.0  False    0.0     0.0   \n8  0007_01   Earth  False  F/3/S    TRAPPIST-1e  35.0  False    0.0   785.0   \n9  0008_01  Europa   True  B/1/P    55 Cancri e  14.0  False    0.0     0.0   \n\n      9       10     11                  12     13  \n0    0.0     0.0    0.0     Maham Ofracculy  False  \n1   25.0   549.0   44.0        Juanna Vines   True  \n2    0.0  6715.0   49.0       Altark Susent  False  \n3  371.0  3329.0  193.0        Solam Susent  False  \n4  151.0   565.0    2.0   Willy Santantines   True  \n5    0.0   291.0    0.0   Sandie Hinetthews   True  \n6    3.0     0.0    0.0  Billex Jacostaffey   True  \n7    0.0     0.0    NaN  Candra Jacostaffey   True  \n8   17.0   216.0    0.0       Andona Beston   True  \n9    0.0     0.0    0.0      Erraiam Flatic   True  ",
      "text/html": "<div>\n<style scoped>\n    .dataframe tbody tr th:only-of-type {\n        vertical-align: middle;\n    }\n\n    .dataframe tbody tr th {\n        vertical-align: top;\n    }\n\n    .dataframe thead th {\n        text-align: right;\n    }\n</style>\n<table border=\"1\" class=\"dataframe\">\n  <thead>\n    <tr style=\"text-align: right;\">\n      <th></th>\n      <th>0</th>\n      <th>1</th>\n      <th>2</th>\n      <th>3</th>\n      <th>4</th>\n      <th>5</th>\n      <th>6</th>\n      <th>7</th>\n      <th>8</th>\n      <th>9</th>\n      <th>10</th>\n      <th>11</th>\n      <th>12</th>\n      <th>13</th>\n    </tr>\n  </thead>\n  <tbody>\n    <tr>\n      <th>0</th>\n      <td>0001_01</td>\n      <td>Europa</td>\n      <td>False</td>\n      <td>B/0/P</td>\n      <td>TRAPPIST-1e</td>\n      <td>39.0</td>\n      <td>False</td>\n      <td>0.0</td>\n      <td>0.0</td>\n      <td>0.0</td>\n      <td>0.0</td>\n      <td>0.0</td>\n      <td>Maham Ofracculy</td>\n      <td>False</td>\n    </tr>\n    <tr>\n      <th>1</th>\n      <td>0002_01</td>\n      <td>Earth</td>\n      <td>False</td>\n      <td>F/0/S</td>\n      <td>TRAPPIST-1e</td>\n      <td>24.0</td>\n      <td>False</td>\n      <td>109.0</td>\n      <td>9.0</td>\n      <td>25.0</td>\n      <td>549.0</td>\n      <td>44.0</td>\n      <td>Juanna Vines</td>\n      <td>True</td>\n    </tr>\n    <tr>\n      <th>2</th>\n      <td>0003_01</td>\n      <td>Europa</td>\n      <td>False</td>\n      <td>A/0/S</td>\n      <td>TRAPPIST-1e</td>\n      <td>58.0</td>\n      <td>True</td>\n      <td>43.0</td>\n      <td>3576.0</td>\n      <td>0.0</td>\n      <td>6715.0</td>\n      <td>49.0</td>\n      <td>Altark Susent</td>\n      <td>False</td>\n    </tr>\n    <tr>\n      <th>3</th>\n      <td>0003_02</td>\n      <td>Europa</td>\n      <td>False</td>\n      <td>A/0/S</td>\n      <td>TRAPPIST-1e</td>\n      <td>33.0</td>\n      <td>False</td>\n      <td>0.0</td>\n      <td>1283.0</td>\n      <td>371.0</td>\n      <td>3329.0</td>\n      <td>193.0</td>\n      <td>Solam Susent</td>\n      <td>False</td>\n    </tr>\n    <tr>\n      <th>4</th>\n      <td>0004_01</td>\n      <td>Earth</td>\n      <td>False</td>\n      <td>F/1/S</td>\n      <td>TRAPPIST-1e</td>\n      <td>16.0</td>\n      <td>False</td>\n      <td>303.0</td>\n      <td>70.0</td>\n      <td>151.0</td>\n      <td>565.0</td>\n      <td>2.0</td>\n      <td>Willy Santantines</td>\n      <td>True</td>\n    </tr>\n    <tr>\n      <th>5</th>\n      <td>0005_01</td>\n      <td>Earth</td>\n      <td>False</td>\n      <td>F/0/P</td>\n      <td>PSO J318.5-22</td>\n      <td>44.0</td>\n      <td>False</td>\n      <td>0.0</td>\n      <td>483.0</td>\n      <td>0.0</td>\n      <td>291.0</td>\n      <td>0.0</td>\n      <td>Sandie Hinetthews</td>\n      <td>True</td>\n    </tr>\n    <tr>\n      <th>6</th>\n      <td>0006_01</td>\n      <td>Earth</td>\n      <td>False</td>\n      <td>F/2/S</td>\n      <td>TRAPPIST-1e</td>\n      <td>26.0</td>\n      <td>False</td>\n      <td>42.0</td>\n      <td>1539.0</td>\n      <td>3.0</td>\n      <td>0.0</td>\n      <td>0.0</td>\n      <td>Billex Jacostaffey</td>\n      <td>True</td>\n    </tr>\n    <tr>\n      <th>7</th>\n      <td>0006_02</td>\n      <td>Earth</td>\n      <td>True</td>\n      <td>G/0/S</td>\n      <td>TRAPPIST-1e</td>\n      <td>28.0</td>\n      <td>False</td>\n      <td>0.0</td>\n      <td>0.0</td>\n      <td>0.0</td>\n      <td>0.0</td>\n      <td>NaN</td>\n      <td>Candra Jacostaffey</td>\n      <td>True</td>\n    </tr>\n    <tr>\n      <th>8</th>\n      <td>0007_01</td>\n      <td>Earth</td>\n      <td>False</td>\n      <td>F/3/S</td>\n      <td>TRAPPIST-1e</td>\n      <td>35.0</td>\n      <td>False</td>\n      <td>0.0</td>\n      <td>785.0</td>\n      <td>17.0</td>\n      <td>216.0</td>\n      <td>0.0</td>\n      <td>Andona Beston</td>\n      <td>True</td>\n    </tr>\n    <tr>\n      <th>9</th>\n      <td>0008_01</td>\n      <td>Europa</td>\n      <td>True</td>\n      <td>B/1/P</td>\n      <td>55 Cancri e</td>\n      <td>14.0</td>\n      <td>False</td>\n      <td>0.0</td>\n      <td>0.0</td>\n      <td>0.0</td>\n      <td>0.0</td>\n      <td>0.0</td>\n      <td>Erraiam Flatic</td>\n      <td>True</td>\n    </tr>\n  </tbody>\n</table>\n</div>"
     },
     "execution_count": 9,
     "metadata": {},
     "output_type": "execute_result"
    }
   ],
   "source": [
    "head_df.columns = [i for i in range(len(df.columns))]\n",
    "head_df"
   ],
   "metadata": {
    "collapsed": false,
    "ExecuteTime": {
     "start_time": "2023-05-24T17:25:11.534996Z",
     "end_time": "2023-05-24T17:25:11.682228Z"
    }
   }
  },
  {
   "cell_type": "code",
   "execution_count": 10,
   "outputs": [
    {
     "data": {
      "text/plain": "   PassengerId HomePlanet CryoSleep  Cabin  Destination   Age    VIP  \\\n7      0006_02      Earth      True  G/0/S  TRAPPIST-1e  28.0  False   \n8      0007_01      Earth     False  F/3/S  TRAPPIST-1e  35.0  False   \n9      0008_01     Europa      True  B/1/P  55 Cancri e  14.0  False   \n10     0008_02     Europa      True  B/1/P  TRAPPIST-1e  34.0  False   \n11     0008_03     Europa     False  B/1/P  55 Cancri e  45.0  False   \n12     0009_01       Mars     False  F/1/P  TRAPPIST-1e  32.0  False   \n13     0010_01      Earth     False  G/1/S  TRAPPIST-1e  48.0  False   \n14     0011_01      Earth     False  F/2/P  TRAPPIST-1e  28.0  False   \n\n    RoomService  FoodCourt  ShoppingMall    Spa  VRDeck                Name  \\\n7           0.0        0.0           0.0    0.0     NaN  Candra Jacostaffey   \n8           0.0      785.0          17.0  216.0     0.0       Andona Beston   \n9           0.0        0.0           0.0    0.0     0.0      Erraiam Flatic   \n10          0.0        0.0           NaN    0.0     0.0      Altardr Flatic   \n11         39.0     7295.0         589.0  110.0   124.0       Wezena Flatic   \n12         73.0        0.0        1123.0    0.0   113.0        Berers Barne   \n13        719.0        1.0          65.0    0.0    24.0      Reney Baketton   \n14          8.0      974.0          12.0    2.0     7.0     Elle Bertsontry   \n\n    Transported  \n7          True  \n8          True  \n9          True  \n10         True  \n11         True  \n12         True  \n13        False  \n14         True  ",
      "text/html": "<div>\n<style scoped>\n    .dataframe tbody tr th:only-of-type {\n        vertical-align: middle;\n    }\n\n    .dataframe tbody tr th {\n        vertical-align: top;\n    }\n\n    .dataframe thead th {\n        text-align: right;\n    }\n</style>\n<table border=\"1\" class=\"dataframe\">\n  <thead>\n    <tr style=\"text-align: right;\">\n      <th></th>\n      <th>PassengerId</th>\n      <th>HomePlanet</th>\n      <th>CryoSleep</th>\n      <th>Cabin</th>\n      <th>Destination</th>\n      <th>Age</th>\n      <th>VIP</th>\n      <th>RoomService</th>\n      <th>FoodCourt</th>\n      <th>ShoppingMall</th>\n      <th>Spa</th>\n      <th>VRDeck</th>\n      <th>Name</th>\n      <th>Transported</th>\n    </tr>\n  </thead>\n  <tbody>\n    <tr>\n      <th>7</th>\n      <td>0006_02</td>\n      <td>Earth</td>\n      <td>True</td>\n      <td>G/0/S</td>\n      <td>TRAPPIST-1e</td>\n      <td>28.0</td>\n      <td>False</td>\n      <td>0.0</td>\n      <td>0.0</td>\n      <td>0.0</td>\n      <td>0.0</td>\n      <td>NaN</td>\n      <td>Candra Jacostaffey</td>\n      <td>True</td>\n    </tr>\n    <tr>\n      <th>8</th>\n      <td>0007_01</td>\n      <td>Earth</td>\n      <td>False</td>\n      <td>F/3/S</td>\n      <td>TRAPPIST-1e</td>\n      <td>35.0</td>\n      <td>False</td>\n      <td>0.0</td>\n      <td>785.0</td>\n      <td>17.0</td>\n      <td>216.0</td>\n      <td>0.0</td>\n      <td>Andona Beston</td>\n      <td>True</td>\n    </tr>\n    <tr>\n      <th>9</th>\n      <td>0008_01</td>\n      <td>Europa</td>\n      <td>True</td>\n      <td>B/1/P</td>\n      <td>55 Cancri e</td>\n      <td>14.0</td>\n      <td>False</td>\n      <td>0.0</td>\n      <td>0.0</td>\n      <td>0.0</td>\n      <td>0.0</td>\n      <td>0.0</td>\n      <td>Erraiam Flatic</td>\n      <td>True</td>\n    </tr>\n    <tr>\n      <th>10</th>\n      <td>0008_02</td>\n      <td>Europa</td>\n      <td>True</td>\n      <td>B/1/P</td>\n      <td>TRAPPIST-1e</td>\n      <td>34.0</td>\n      <td>False</td>\n      <td>0.0</td>\n      <td>0.0</td>\n      <td>NaN</td>\n      <td>0.0</td>\n      <td>0.0</td>\n      <td>Altardr Flatic</td>\n      <td>True</td>\n    </tr>\n    <tr>\n      <th>11</th>\n      <td>0008_03</td>\n      <td>Europa</td>\n      <td>False</td>\n      <td>B/1/P</td>\n      <td>55 Cancri e</td>\n      <td>45.0</td>\n      <td>False</td>\n      <td>39.0</td>\n      <td>7295.0</td>\n      <td>589.0</td>\n      <td>110.0</td>\n      <td>124.0</td>\n      <td>Wezena Flatic</td>\n      <td>True</td>\n    </tr>\n    <tr>\n      <th>12</th>\n      <td>0009_01</td>\n      <td>Mars</td>\n      <td>False</td>\n      <td>F/1/P</td>\n      <td>TRAPPIST-1e</td>\n      <td>32.0</td>\n      <td>False</td>\n      <td>73.0</td>\n      <td>0.0</td>\n      <td>1123.0</td>\n      <td>0.0</td>\n      <td>113.0</td>\n      <td>Berers Barne</td>\n      <td>True</td>\n    </tr>\n    <tr>\n      <th>13</th>\n      <td>0010_01</td>\n      <td>Earth</td>\n      <td>False</td>\n      <td>G/1/S</td>\n      <td>TRAPPIST-1e</td>\n      <td>48.0</td>\n      <td>False</td>\n      <td>719.0</td>\n      <td>1.0</td>\n      <td>65.0</td>\n      <td>0.0</td>\n      <td>24.0</td>\n      <td>Reney Baketton</td>\n      <td>False</td>\n    </tr>\n    <tr>\n      <th>14</th>\n      <td>0011_01</td>\n      <td>Earth</td>\n      <td>False</td>\n      <td>F/2/P</td>\n      <td>TRAPPIST-1e</td>\n      <td>28.0</td>\n      <td>False</td>\n      <td>8.0</td>\n      <td>974.0</td>\n      <td>12.0</td>\n      <td>2.0</td>\n      <td>7.0</td>\n      <td>Elle Bertsontry</td>\n      <td>True</td>\n    </tr>\n  </tbody>\n</table>\n</div>"
     },
     "execution_count": 10,
     "metadata": {},
     "output_type": "execute_result"
    }
   ],
   "source": [
    "df[7:15]"
   ],
   "metadata": {
    "collapsed": false,
    "ExecuteTime": {
     "start_time": "2023-05-24T17:25:11.566912Z",
     "end_time": "2023-05-24T17:25:11.682228Z"
    }
   }
  },
  {
   "cell_type": "code",
   "execution_count": 11,
   "outputs": [
    {
     "data": {
      "text/plain": "     PassengerId HomePlanet CryoSleep     Cabin  Destination   Age    VIP  \\\n1922     2056_02      Earth     False   F/407/P  TRAPPIST-1e  14.0  False   \n2215     2374_01       Mars     False   E/166/S  TRAPPIST-1e  20.0  False   \n7025     7481_01      Earth     False  G/1215/S  TRAPPIST-1e  46.0  False   \n837      0899_02      Earth      True   G/130/P  TRAPPIST-1e  44.0  False   \n6321     6680_01      Earth     False  G/1082/P  TRAPPIST-1e  36.0  False   \n\n      RoomService  FoodCourt  ShoppingMall    Spa  VRDeck                Name  \\\n1922         16.0        0.0           0.0  712.0   149.0   Claura Hanghanson   \n2215        464.0        0.0        1432.0    0.0     0.0          Gers Sames   \n7025          0.0        0.0           1.0    0.0  1778.0      Darlie Chanash   \n837           0.0        0.0           0.0    0.0     0.0  Allene Warrishales   \n6321          NaN      361.0         512.0   34.0     0.0       Letta Puckley   \n\n      Transported  \n1922        False  \n2215         True  \n7025        False  \n837         False  \n6321         True  ",
      "text/html": "<div>\n<style scoped>\n    .dataframe tbody tr th:only-of-type {\n        vertical-align: middle;\n    }\n\n    .dataframe tbody tr th {\n        vertical-align: top;\n    }\n\n    .dataframe thead th {\n        text-align: right;\n    }\n</style>\n<table border=\"1\" class=\"dataframe\">\n  <thead>\n    <tr style=\"text-align: right;\">\n      <th></th>\n      <th>PassengerId</th>\n      <th>HomePlanet</th>\n      <th>CryoSleep</th>\n      <th>Cabin</th>\n      <th>Destination</th>\n      <th>Age</th>\n      <th>VIP</th>\n      <th>RoomService</th>\n      <th>FoodCourt</th>\n      <th>ShoppingMall</th>\n      <th>Spa</th>\n      <th>VRDeck</th>\n      <th>Name</th>\n      <th>Transported</th>\n    </tr>\n  </thead>\n  <tbody>\n    <tr>\n      <th>1922</th>\n      <td>2056_02</td>\n      <td>Earth</td>\n      <td>False</td>\n      <td>F/407/P</td>\n      <td>TRAPPIST-1e</td>\n      <td>14.0</td>\n      <td>False</td>\n      <td>16.0</td>\n      <td>0.0</td>\n      <td>0.0</td>\n      <td>712.0</td>\n      <td>149.0</td>\n      <td>Claura Hanghanson</td>\n      <td>False</td>\n    </tr>\n    <tr>\n      <th>2215</th>\n      <td>2374_01</td>\n      <td>Mars</td>\n      <td>False</td>\n      <td>E/166/S</td>\n      <td>TRAPPIST-1e</td>\n      <td>20.0</td>\n      <td>False</td>\n      <td>464.0</td>\n      <td>0.0</td>\n      <td>1432.0</td>\n      <td>0.0</td>\n      <td>0.0</td>\n      <td>Gers Sames</td>\n      <td>True</td>\n    </tr>\n    <tr>\n      <th>7025</th>\n      <td>7481_01</td>\n      <td>Earth</td>\n      <td>False</td>\n      <td>G/1215/S</td>\n      <td>TRAPPIST-1e</td>\n      <td>46.0</td>\n      <td>False</td>\n      <td>0.0</td>\n      <td>0.0</td>\n      <td>1.0</td>\n      <td>0.0</td>\n      <td>1778.0</td>\n      <td>Darlie Chanash</td>\n      <td>False</td>\n    </tr>\n    <tr>\n      <th>837</th>\n      <td>0899_02</td>\n      <td>Earth</td>\n      <td>True</td>\n      <td>G/130/P</td>\n      <td>TRAPPIST-1e</td>\n      <td>44.0</td>\n      <td>False</td>\n      <td>0.0</td>\n      <td>0.0</td>\n      <td>0.0</td>\n      <td>0.0</td>\n      <td>0.0</td>\n      <td>Allene Warrishales</td>\n      <td>False</td>\n    </tr>\n    <tr>\n      <th>6321</th>\n      <td>6680_01</td>\n      <td>Earth</td>\n      <td>False</td>\n      <td>G/1082/P</td>\n      <td>TRAPPIST-1e</td>\n      <td>36.0</td>\n      <td>False</td>\n      <td>NaN</td>\n      <td>361.0</td>\n      <td>512.0</td>\n      <td>34.0</td>\n      <td>0.0</td>\n      <td>Letta Puckley</td>\n      <td>True</td>\n    </tr>\n  </tbody>\n</table>\n</div>"
     },
     "execution_count": 11,
     "metadata": {},
     "output_type": "execute_result"
    }
   ],
   "source": [
    "sample = df.sample(5)\n",
    "sample"
   ],
   "metadata": {
    "collapsed": false,
    "ExecuteTime": {
     "start_time": "2023-05-24T17:25:11.597829Z",
     "end_time": "2023-05-24T17:25:11.718949Z"
    }
   }
  },
  {
   "cell_type": "code",
   "execution_count": 12,
   "outputs": [
    {
     "data": {
      "text/plain": "Int64Index([1922, 2215, 7025, 837, 6321], dtype='int64')"
     },
     "execution_count": 12,
     "metadata": {},
     "output_type": "execute_result"
    }
   ],
   "source": [
    "sample.index"
   ],
   "metadata": {
    "collapsed": false,
    "ExecuteTime": {
     "start_time": "2023-05-24T17:25:11.630172Z",
     "end_time": "2023-05-24T17:25:11.782809Z"
    }
   }
  },
  {
   "cell_type": "code",
   "execution_count": 13,
   "outputs": [
    {
     "data": {
      "text/plain": "  PassengerId HomePlanet CryoSleep     Cabin  Destination   Age    VIP  \\\ns     2056_02      Earth     False   F/407/P  TRAPPIST-1e  14.0  False   \na     2374_01       Mars     False   E/166/S  TRAPPIST-1e  20.0  False   \nm     7481_01      Earth     False  G/1215/S  TRAPPIST-1e  46.0  False   \np     0899_02      Earth      True   G/130/P  TRAPPIST-1e  44.0  False   \nl     6680_01      Earth     False  G/1082/P  TRAPPIST-1e  36.0  False   \n\n   RoomService  FoodCourt  ShoppingMall    Spa  VRDeck                Name  \\\ns         16.0        0.0           0.0  712.0   149.0   Claura Hanghanson   \na        464.0        0.0        1432.0    0.0     0.0          Gers Sames   \nm          0.0        0.0           1.0    0.0  1778.0      Darlie Chanash   \np          0.0        0.0           0.0    0.0     0.0  Allene Warrishales   \nl          NaN      361.0         512.0   34.0     0.0       Letta Puckley   \n\n   Transported  \ns        False  \na         True  \nm        False  \np        False  \nl         True  ",
      "text/html": "<div>\n<style scoped>\n    .dataframe tbody tr th:only-of-type {\n        vertical-align: middle;\n    }\n\n    .dataframe tbody tr th {\n        vertical-align: top;\n    }\n\n    .dataframe thead th {\n        text-align: right;\n    }\n</style>\n<table border=\"1\" class=\"dataframe\">\n  <thead>\n    <tr style=\"text-align: right;\">\n      <th></th>\n      <th>PassengerId</th>\n      <th>HomePlanet</th>\n      <th>CryoSleep</th>\n      <th>Cabin</th>\n      <th>Destination</th>\n      <th>Age</th>\n      <th>VIP</th>\n      <th>RoomService</th>\n      <th>FoodCourt</th>\n      <th>ShoppingMall</th>\n      <th>Spa</th>\n      <th>VRDeck</th>\n      <th>Name</th>\n      <th>Transported</th>\n    </tr>\n  </thead>\n  <tbody>\n    <tr>\n      <th>s</th>\n      <td>2056_02</td>\n      <td>Earth</td>\n      <td>False</td>\n      <td>F/407/P</td>\n      <td>TRAPPIST-1e</td>\n      <td>14.0</td>\n      <td>False</td>\n      <td>16.0</td>\n      <td>0.0</td>\n      <td>0.0</td>\n      <td>712.0</td>\n      <td>149.0</td>\n      <td>Claura Hanghanson</td>\n      <td>False</td>\n    </tr>\n    <tr>\n      <th>a</th>\n      <td>2374_01</td>\n      <td>Mars</td>\n      <td>False</td>\n      <td>E/166/S</td>\n      <td>TRAPPIST-1e</td>\n      <td>20.0</td>\n      <td>False</td>\n      <td>464.0</td>\n      <td>0.0</td>\n      <td>1432.0</td>\n      <td>0.0</td>\n      <td>0.0</td>\n      <td>Gers Sames</td>\n      <td>True</td>\n    </tr>\n    <tr>\n      <th>m</th>\n      <td>7481_01</td>\n      <td>Earth</td>\n      <td>False</td>\n      <td>G/1215/S</td>\n      <td>TRAPPIST-1e</td>\n      <td>46.0</td>\n      <td>False</td>\n      <td>0.0</td>\n      <td>0.0</td>\n      <td>1.0</td>\n      <td>0.0</td>\n      <td>1778.0</td>\n      <td>Darlie Chanash</td>\n      <td>False</td>\n    </tr>\n    <tr>\n      <th>p</th>\n      <td>0899_02</td>\n      <td>Earth</td>\n      <td>True</td>\n      <td>G/130/P</td>\n      <td>TRAPPIST-1e</td>\n      <td>44.0</td>\n      <td>False</td>\n      <td>0.0</td>\n      <td>0.0</td>\n      <td>0.0</td>\n      <td>0.0</td>\n      <td>0.0</td>\n      <td>Allene Warrishales</td>\n      <td>False</td>\n    </tr>\n    <tr>\n      <th>l</th>\n      <td>6680_01</td>\n      <td>Earth</td>\n      <td>False</td>\n      <td>G/1082/P</td>\n      <td>TRAPPIST-1e</td>\n      <td>36.0</td>\n      <td>False</td>\n      <td>NaN</td>\n      <td>361.0</td>\n      <td>512.0</td>\n      <td>34.0</td>\n      <td>0.0</td>\n      <td>Letta Puckley</td>\n      <td>True</td>\n    </tr>\n  </tbody>\n</table>\n</div>"
     },
     "execution_count": 13,
     "metadata": {},
     "output_type": "execute_result"
    }
   ],
   "source": [
    "sample.index = list('sampl')\n",
    "sample"
   ],
   "metadata": {
    "collapsed": false,
    "ExecuteTime": {
     "start_time": "2023-05-24T17:25:11.645328Z",
     "end_time": "2023-05-24T17:25:11.812731Z"
    }
   }
  },
  {
   "cell_type": "code",
   "execution_count": 14,
   "outputs": [
    {
     "data": {
      "text/plain": "  PassengerId HomePlanet CryoSleep    Cabin  Destination   Age    VIP  \\\ns     2056_02      Earth     False  F/407/P  TRAPPIST-1e  14.0  False   \na     2374_01       Mars     False  E/166/S  TRAPPIST-1e  20.0  False   \n\n   RoomService  FoodCourt  ShoppingMall    Spa  VRDeck               Name  \\\ns         16.0        0.0           0.0  712.0   149.0  Claura Hanghanson   \na        464.0        0.0        1432.0    0.0     0.0         Gers Sames   \n\n   Transported  \ns        False  \na         True  ",
      "text/html": "<div>\n<style scoped>\n    .dataframe tbody tr th:only-of-type {\n        vertical-align: middle;\n    }\n\n    .dataframe tbody tr th {\n        vertical-align: top;\n    }\n\n    .dataframe thead th {\n        text-align: right;\n    }\n</style>\n<table border=\"1\" class=\"dataframe\">\n  <thead>\n    <tr style=\"text-align: right;\">\n      <th></th>\n      <th>PassengerId</th>\n      <th>HomePlanet</th>\n      <th>CryoSleep</th>\n      <th>Cabin</th>\n      <th>Destination</th>\n      <th>Age</th>\n      <th>VIP</th>\n      <th>RoomService</th>\n      <th>FoodCourt</th>\n      <th>ShoppingMall</th>\n      <th>Spa</th>\n      <th>VRDeck</th>\n      <th>Name</th>\n      <th>Transported</th>\n    </tr>\n  </thead>\n  <tbody>\n    <tr>\n      <th>s</th>\n      <td>2056_02</td>\n      <td>Earth</td>\n      <td>False</td>\n      <td>F/407/P</td>\n      <td>TRAPPIST-1e</td>\n      <td>14.0</td>\n      <td>False</td>\n      <td>16.0</td>\n      <td>0.0</td>\n      <td>0.0</td>\n      <td>712.0</td>\n      <td>149.0</td>\n      <td>Claura Hanghanson</td>\n      <td>False</td>\n    </tr>\n    <tr>\n      <th>a</th>\n      <td>2374_01</td>\n      <td>Mars</td>\n      <td>False</td>\n      <td>E/166/S</td>\n      <td>TRAPPIST-1e</td>\n      <td>20.0</td>\n      <td>False</td>\n      <td>464.0</td>\n      <td>0.0</td>\n      <td>1432.0</td>\n      <td>0.0</td>\n      <td>0.0</td>\n      <td>Gers Sames</td>\n      <td>True</td>\n    </tr>\n  </tbody>\n</table>\n</div>"
     },
     "execution_count": 14,
     "metadata": {},
     "output_type": "execute_result"
    }
   ],
   "source": [
    "sample[:2]"
   ],
   "metadata": {
    "collapsed": false,
    "ExecuteTime": {
     "start_time": "2023-05-24T17:25:11.676244Z",
     "end_time": "2023-05-24T17:25:11.957308Z"
    }
   }
  },
  {
   "cell_type": "code",
   "execution_count": 15,
   "outputs": [
    {
     "data": {
      "text/plain": "PassengerId         2374_01\nHomePlanet             Mars\nCryoSleep             False\nCabin               E/166/S\nDestination     TRAPPIST-1e\nAge                    20.0\nVIP                   False\nRoomService           464.0\nFoodCourt               0.0\nShoppingMall         1432.0\nSpa                     0.0\nVRDeck                  0.0\nName             Gers Sames\nTransported            True\nName: a, dtype: object"
     },
     "execution_count": 15,
     "metadata": {},
     "output_type": "execute_result"
    }
   ],
   "source": [
    "sample.iloc[1]"
   ],
   "metadata": {
    "collapsed": false,
    "ExecuteTime": {
     "start_time": "2023-05-24T17:25:11.705976Z",
     "end_time": "2023-05-24T17:25:11.966318Z"
    }
   }
  },
  {
   "cell_type": "code",
   "execution_count": 16,
   "outputs": [
    {
     "data": {
      "text/plain": "  index PassengerId HomePlanet CryoSleep     Cabin  Destination   Age    VIP  \\\n0     s     2056_02      Earth     False   F/407/P  TRAPPIST-1e  14.0  False   \n1     a     2374_01       Mars     False   E/166/S  TRAPPIST-1e  20.0  False   \n2     m     7481_01      Earth     False  G/1215/S  TRAPPIST-1e  46.0  False   \n3     p     0899_02      Earth      True   G/130/P  TRAPPIST-1e  44.0  False   \n4     l     6680_01      Earth     False  G/1082/P  TRAPPIST-1e  36.0  False   \n\n   RoomService  FoodCourt  ShoppingMall    Spa  VRDeck                Name  \\\n0         16.0        0.0           0.0  712.0   149.0   Claura Hanghanson   \n1        464.0        0.0        1432.0    0.0     0.0          Gers Sames   \n2          0.0        0.0           1.0    0.0  1778.0      Darlie Chanash   \n3          0.0        0.0           0.0    0.0     0.0  Allene Warrishales   \n4          NaN      361.0         512.0   34.0     0.0       Letta Puckley   \n\n   Transported  \n0        False  \n1         True  \n2        False  \n3        False  \n4         True  ",
      "text/html": "<div>\n<style scoped>\n    .dataframe tbody tr th:only-of-type {\n        vertical-align: middle;\n    }\n\n    .dataframe tbody tr th {\n        vertical-align: top;\n    }\n\n    .dataframe thead th {\n        text-align: right;\n    }\n</style>\n<table border=\"1\" class=\"dataframe\">\n  <thead>\n    <tr style=\"text-align: right;\">\n      <th></th>\n      <th>index</th>\n      <th>PassengerId</th>\n      <th>HomePlanet</th>\n      <th>CryoSleep</th>\n      <th>Cabin</th>\n      <th>Destination</th>\n      <th>Age</th>\n      <th>VIP</th>\n      <th>RoomService</th>\n      <th>FoodCourt</th>\n      <th>ShoppingMall</th>\n      <th>Spa</th>\n      <th>VRDeck</th>\n      <th>Name</th>\n      <th>Transported</th>\n    </tr>\n  </thead>\n  <tbody>\n    <tr>\n      <th>0</th>\n      <td>s</td>\n      <td>2056_02</td>\n      <td>Earth</td>\n      <td>False</td>\n      <td>F/407/P</td>\n      <td>TRAPPIST-1e</td>\n      <td>14.0</td>\n      <td>False</td>\n      <td>16.0</td>\n      <td>0.0</td>\n      <td>0.0</td>\n      <td>712.0</td>\n      <td>149.0</td>\n      <td>Claura Hanghanson</td>\n      <td>False</td>\n    </tr>\n    <tr>\n      <th>1</th>\n      <td>a</td>\n      <td>2374_01</td>\n      <td>Mars</td>\n      <td>False</td>\n      <td>E/166/S</td>\n      <td>TRAPPIST-1e</td>\n      <td>20.0</td>\n      <td>False</td>\n      <td>464.0</td>\n      <td>0.0</td>\n      <td>1432.0</td>\n      <td>0.0</td>\n      <td>0.0</td>\n      <td>Gers Sames</td>\n      <td>True</td>\n    </tr>\n    <tr>\n      <th>2</th>\n      <td>m</td>\n      <td>7481_01</td>\n      <td>Earth</td>\n      <td>False</td>\n      <td>G/1215/S</td>\n      <td>TRAPPIST-1e</td>\n      <td>46.0</td>\n      <td>False</td>\n      <td>0.0</td>\n      <td>0.0</td>\n      <td>1.0</td>\n      <td>0.0</td>\n      <td>1778.0</td>\n      <td>Darlie Chanash</td>\n      <td>False</td>\n    </tr>\n    <tr>\n      <th>3</th>\n      <td>p</td>\n      <td>0899_02</td>\n      <td>Earth</td>\n      <td>True</td>\n      <td>G/130/P</td>\n      <td>TRAPPIST-1e</td>\n      <td>44.0</td>\n      <td>False</td>\n      <td>0.0</td>\n      <td>0.0</td>\n      <td>0.0</td>\n      <td>0.0</td>\n      <td>0.0</td>\n      <td>Allene Warrishales</td>\n      <td>False</td>\n    </tr>\n    <tr>\n      <th>4</th>\n      <td>l</td>\n      <td>6680_01</td>\n      <td>Earth</td>\n      <td>False</td>\n      <td>G/1082/P</td>\n      <td>TRAPPIST-1e</td>\n      <td>36.0</td>\n      <td>False</td>\n      <td>NaN</td>\n      <td>361.0</td>\n      <td>512.0</td>\n      <td>34.0</td>\n      <td>0.0</td>\n      <td>Letta Puckley</td>\n      <td>True</td>\n    </tr>\n  </tbody>\n</table>\n</div>"
     },
     "execution_count": 16,
     "metadata": {},
     "output_type": "execute_result"
    }
   ],
   "source": [
    "sample = sample.reset_index()\n",
    "sample"
   ],
   "metadata": {
    "collapsed": false,
    "ExecuteTime": {
     "start_time": "2023-05-24T17:25:11.725964Z",
     "end_time": "2023-05-24T17:25:11.966318Z"
    }
   }
  },
  {
   "cell_type": "code",
   "execution_count": 17,
   "outputs": [
    {
     "data": {
      "text/plain": "0         Maham Ofracculy\n1            Juanna Vines\n2           Altark Susent\n3            Solam Susent\n4       Willy Santantines\n              ...        \n8688    Gravior Noxnuther\n8689      Kurta Mondalley\n8690         Fayey Connon\n8691     Celeon Hontichre\n8692     Propsh Hontichre\nName: Name, Length: 8693, dtype: object"
     },
     "execution_count": 17,
     "metadata": {},
     "output_type": "execute_result"
    }
   ],
   "source": [
    "names = df.Name\n",
    "names"
   ],
   "metadata": {
    "collapsed": false,
    "ExecuteTime": {
     "start_time": "2023-05-24T17:25:11.755847Z",
     "end_time": "2023-05-24T17:25:11.986232Z"
    }
   }
  },
  {
   "cell_type": "code",
   "execution_count": 18,
   "outputs": [
    {
     "data": {
      "text/plain": "0         Maham Ofracculy\n1            Juanna Vines\n2           Altark Susent\n3            Solam Susent\n4       Willy Santantines\n              ...        \n8688    Gravior Noxnuther\n8689      Kurta Mondalley\n8690         Fayey Connon\n8691     Celeon Hontichre\n8692     Propsh Hontichre\nName: Name, Length: 8693, dtype: object"
     },
     "execution_count": 18,
     "metadata": {},
     "output_type": "execute_result"
    }
   ],
   "source": [
    "df['Name']"
   ],
   "metadata": {
    "collapsed": false,
    "ExecuteTime": {
     "start_time": "2023-05-24T17:25:11.772801Z",
     "end_time": "2023-05-24T17:25:11.996204Z"
    }
   }
  },
  {
   "cell_type": "code",
   "execution_count": 19,
   "outputs": [
    {
     "data": {
      "text/plain": "0    Maham Ofracculy\n1       Juanna Vines\n2      Altark Susent\nName: Name, dtype: object"
     },
     "execution_count": 19,
     "metadata": {},
     "output_type": "execute_result"
    }
   ],
   "source": [
    "df.Name[:3]"
   ],
   "metadata": {
    "collapsed": false,
    "ExecuteTime": {
     "start_time": "2023-05-24T17:25:11.788759Z",
     "end_time": "2023-05-24T17:25:11.997201Z"
    }
   }
  },
  {
   "cell_type": "code",
   "execution_count": 20,
   "outputs": [
    {
     "data": {
      "text/plain": "array(['Maham Ofracculy', 'Juanna Vines', 'Altark Susent', ...,\n       'Fayey Connon', 'Celeon Hontichre', 'Propsh Hontichre'],\n      dtype=object)"
     },
     "execution_count": 20,
     "metadata": {},
     "output_type": "execute_result"
    }
   ],
   "source": [
    "df['Name'].values"
   ],
   "metadata": {
    "collapsed": false,
    "ExecuteTime": {
     "start_time": "2023-05-24T17:25:11.821672Z",
     "end_time": "2023-05-24T17:25:11.997201Z"
    }
   }
  },
  {
   "cell_type": "code",
   "execution_count": 21,
   "outputs": [
    {
     "data": {
      "text/plain": "['Maham Ofracculy',\n 'Juanna Vines',\n 'Altark Susent',\n 'Solam Susent',\n 'Willy Santantines',\n 'Sandie Hinetthews',\n 'Billex Jacostaffey',\n 'Candra Jacostaffey',\n 'Andona Beston',\n 'Erraiam Flatic',\n 'Altardr Flatic',\n 'Wezena Flatic',\n 'Berers Barne',\n 'Reney Baketton',\n 'Elle Bertsontry',\n 'Justie Pooles',\n 'Flats Eccle',\n 'Carry Hughriend',\n 'Alus Upead',\n 'Lyde Brighttt',\n 'Philda Brighttt',\n 'Almary Brantuarez',\n 'Glendy Brantuarez',\n 'Mollen Mcfaddennon',\n 'Breney Jacostanley',\n 'Mael Brantuarez',\n 'Terta Mcfaddennon',\n nan,\n 'Penton Fullided',\n 'Karard Brookenson',\n 'Anyoni Unconary',\n 'Ceros Mare',\n 'Ginia Morsentley',\n 'Coobix Datie',\n 'Cinets Datie',\n 'Dontch Datie',\n 'Ziba Oingwhedly',\n 'Luse Butte',\n 'Marina Leodger',\n 'Loise Wheelez',\n 'Jorgie Batthewitt',\n 'Margia Moodsey',\n 'Ankalik Cylistrand',\n 'Jodye Coopelandez',\n 'Kayne Coopelandez',\n 'Cassa Coopelandez',\n 'Zelowl Chmad',\n 'Mass Chmad',\n 'Sony Lancis',\n 'Vivia Johnshines',\n 'Elaney Hubbarton',\n 'Elson Hickerson',\n 'Okulas Tractive',\n 'Instab Tractive',\n 'Zinoces Tractive',\n 'Warry Ayalazquez',\n 'Shanya Salez',\n 'Sterry Greeves',\n nan,\n 'Colatz Keen',\n 'Diandy Pecketton',\n 'Ninaha Leeves',\n 'Celine Leeves',\n 'Velyne Leeves',\n 'Cinst Binie',\n nan,\n 'Meremy Brighttt',\n 'Nelly Dillines',\n 'Thell Brantuarez',\n 'Gorn Make',\n 'Aldibah Mostedry',\n 'Conk Dal',\n 'Pon Blité',\n 'Spuri Pokerheed',\n 'Dellie Vinozarks',\n 'Totse Datte',\n 'Eaturs Datte',\n nan,\n 'Coren Coopezmaney',\n 'Furudah Ellcefulve',\n 'Jodye Kinson',\n 'Stmeal Sacre',\n 'Heremy Santry',\n 'Deanne Yorkland',\n 'Tinez Yorkland',\n 'Gracy Dunnisey',\n 'Stald Hewson',\n 'Tiney Hewson',\n 'Alchium Fictful',\n 'Doria Carezquez',\n 'Leence Carezquez',\n 'Aliey Leetersoney',\n 'Thewis Connelson',\n 'Book Trad',\n 'Ritany Holson',\n 'Arlen Mclainez',\n 'Shaele Mclainez',\n 'Fanne Mclainez',\n 'Carry Cleachrand',\n 'Coobix Hart',\n 'Natald Handertiz',\n nan,\n 'Oline Handertiz',\n 'Graviph Aloubtled',\n 'Aldeba Bootious',\n 'Alaratz Aloubtled',\n 'Izark Aloubtled',\n 'Aldera Supred',\n 'Moth Cowtale',\n 'Idary Carvis',\n 'Maura Beckerson',\n 'Rohs Pead',\n 'Alhenah Suptive',\n 'Batan Coning',\n 'Kleeiak Coning',\n 'Bees Sacre',\n 'Shelle Hayder',\n 'Iree Fielson',\n 'Milly Mish',\n 'Miloss Mesty',\n 'Grohs Fles',\n 'Barave Fles',\n 'Race Fowles',\n 'Flynx Blie',\n 'Egrasp Blie',\n 'Camina Harmontry',\n nan,\n 'Fayene Gambs',\n 'Monah Gambs',\n 'Charda Myling',\n 'Evaley Mejiaddox',\n 'Verney Whitakers',\n 'Pyrohs Harte',\n 'Guadae Dayers',\n 'Verly Wolferguson',\n 'Samie Hubbarrison',\n 'Corsh Pashe',\n 'Billya Hubbarrison',\n 'Shanie Simson',\n 'Andan Estron',\n 'Gory Atkinney',\n 'Kabiton Hetforhaft',\n 'Scharab Hetforhaft',\n 'Fany Hutchinton',\n 'Ianya Hutchinton',\n 'Graven Anche',\n 'Miten Floaf',\n 'Rios Floaf',\n 'Wandy Fisherry',\n 'Mollie Mcmahoney',\n 'Coracy Gordanieves',\n 'Hanna Johnshines',\n 'Hilip Grifford',\n 'Doryn Lambles',\n 'Toperon Iniouser',\n 'Wees Knik',\n 'Elaney Webstephrey',\n 'Raque Webstephrey',\n 'Sallyl Webstephrey',\n 'Nancis Brighttt',\n 'Ksorab Disight',\n 'Stany Weaves',\n 'Camiet Shephendry',\n 'Branda Romez',\n 'Helly Booters',\n nan,\n 'Tance Adavisons',\n 'Robyny Adavisons',\n 'Lilace Adavisons',\n 'Sps Raf',\n 'Frook Raf',\n 'Goles Raf',\n 'Bar Floaf',\n 'Caper Emead',\n 'Astrak Dissper',\n 'Jeroy Cookson',\n 'Regana Morrows',\n 'Elia Colomonson',\n 'Kaffias Bacistion',\n 'Edaruma Bacistion',\n 'Pomera Embleng',\n 'Vegas Embleng',\n 'Ancham Heateele',\n 'Carma Oneiles',\n 'Nuson Brugashed',\n 'Thony Mcfaddennon',\n 'Arraid Inicont',\n 'Pebuts Appie',\n 'Corsh Appie',\n 'Picers Date',\n 'Inen Workmans',\n 'Shally Workmans',\n 'Carita Navages',\n 'Searla Garnes',\n 'Prilly Shieldson',\n 'Nica River',\n 'Tyle Wilsoney',\n 'Wena Wilsoney',\n 'Branca Wilsoney',\n 'Dont Wilsoney',\n 'Velyne Wilsoney',\n 'Weney Wilsoney',\n 'Guye Wilsoney',\n 'Cowhex Blan',\n 'Yogark Reke',\n 'Jacks Reke',\n 'Eerch Reke',\n 'Panbug Reke',\n 'Gran Reke',\n 'Rohs Reke',\n 'Gone Perte',\n 'Colf Deva',\n 'Grake Perte',\n 'Evan Sykess',\n 'Blues Queen',\n 'Carly Hortis',\n 'Done Sellahaney',\n 'Krus Nate',\n 'Nica Bakerrison',\n 'Teda Wist',\n 'Keitha Josey',\n 'Weias Aginge',\n 'Diedow Resty',\n 'Puffes Crie',\n 'Alas Dischod',\n 'Almone Sté',\n 'Lilace Cartyernan',\n 'Froos Sad',\n 'Tous Sad',\n 'Glueba Repumparte',\n 'Anchib Repumparte',\n 'Mele Sesa',\n 'Genifi Spanxibus',\n 'Camily Kramosley',\n 'Diphah Amsive',\n 'Leenny Byerry',\n 'Dawne Cardner',\n 'Race Stenson',\n 'Ashir Mingious',\n 'Errohs Berte',\n 'Squars Berte',\n 'Feryla Cooperkins',\n 'Segino Inderly',\n 'Dord Bookerson',\n 'Maen Merkins',\n 'Etair Herpumble',\n 'Lilace Sancockett',\n 'Lerome Polliamposs',\n 'Cathya Fryersonis',\n 'Terf Obnoble',\n 'Byront Mcdanield',\n 'Judya Beachez',\n 'Marice Beachez',\n 'Derine Pierry',\n 'Valex Baketton',\n 'Jacky Santin',\n 'Roydo Santin',\n 'Krabik Invebodene',\n 'Grasath Invebodene',\n 'Carita Jimes',\n 'Tetra Bootty',\n 'Alasym Bootty',\n 'Gory Delez',\n 'Furuson Objeciane',\n 'Skaton Excialing',\n 'Algor Excialing',\n 'Dhenar Excialing',\n 'Atino Excialing',\n 'Castab Brakeril',\n 'Phonons Roforhauge',\n 'Ernice Gardonadox',\n 'Ashird Sorbitter',\n 'Margia Wriggins',\n 'Lesley Shephendry',\n 'Oraryn Kirklander',\n 'Betena Ausivetpul',\n 'Suhelik Geousker',\n 'Dony Estevesters',\n 'Natald Hickett',\n 'Billya Bowerson',\n 'Naviton Coudered',\n 'Briney Mckinsond',\n 'Jona Mckinsond',\n 'Jaimer Mckinsond',\n 'Hary Mckinsond',\n 'Kell Kochroeders',\n 'Adriet Valezaley',\n 'Hallah Sorbitter',\n 'Beneba Sorbitter',\n 'Breney Bellarkerd',\n 'Garley Bellarkerd',\n 'Quites Bache',\n 'Annya Blange',\n 'Carma Hooperez',\n 'Charly Edwartizman',\n 'Jasony Ocherman',\n 'Bellah Siveduced',\n nan,\n 'Hekaton Siveduced',\n 'Lewise Burchard',\n 'Phios Melie',\n 'Unfly Mushe',\n 'Maura Cookson',\n 'Guanch Perle',\n 'Weros Perle',\n nan,\n 'Ireen Guerson',\n 'Pentard Poille',\n 'Lorian Webstephrey',\n 'Meremy Salez',\n 'Berios Racke',\n 'Lynney Chanan',\n 'Cousk Kraie',\n 'Stray Mane',\n 'Weet Mane',\n 'Loresa Burchanez',\n 'Hits Strad',\n 'Tricky Warrison',\n 'Pharmus Gloyanthy',\n 'Eduard Mcleaney',\n 'Ronna Connon',\n 'Dandy Connon',\n 'Celine Popez',\n 'Elancy Staffersby',\n 'Virgie Headardyer',\n 'Dandra Jacostaney',\n 'Resers Perte',\n 'Batech Perte',\n 'Veroy Pottonalden',\n 'Tine Coffmaney',\n 'Chrey Dutte',\n nan,\n 'Billex Mcneiderson',\n 'Luzel Vincenton',\n 'Francy Spentley',\n 'Wezncha Excialing',\n 'Bram Pirejus',\n 'Marfak Pirejus',\n 'Naslon Pirejus',\n 'Muonons Pirejus',\n 'Polaton Pirejus',\n 'Sollum Pirejus',\n 'Achib Pirejus',\n 'Brita Moodson',\n 'Zinopus Fuelddid',\n 'Mesatan Mosteraked',\n 'Aston Mosteraked',\n 'Blanie Floydendley',\n 'Phia Wagnerray',\n 'Evane Wagnerray',\n 'Cliney Simpsonks',\n 'Ellard Simpsonks',\n 'Tanley Klinson',\n 'Verek Merce',\n 'Fanna Sullones',\n 'Elanda Savaraldez',\n 'Dabik Cowsearney',\n 'Ward Carreralend',\n 'Meropus Hervel',\n 'Hadyon Hervel',\n 'Brinez Robins',\n 'Graw Mepie',\n 'Wales Tité',\n 'Luse Pimne',\n 'Parney Pimne',\n 'Teron Sageng',\n 'Push Wate',\n 'Denis Flowensley',\n 'Dandy Mirez',\n 'Luzel Mirez',\n 'Dennya Mirez',\n 'Cus Ble',\n 'Mats Iccle',\n 'Tyrona Roachoanand',\n 'Benny Rushorney',\n 'Baton Quelfly',\n 'Elina Steinardson',\n 'Iney Pierry',\n 'Lesatik Poicaptic',\n 'Mirark Unhearfus',\n 'Enifik Unhearfus',\n 'Syrmark Pumbody',\n 'Blesh Fiha',\n 'Cowns Fiha',\n 'Ree Fiha',\n 'Algor Efulows',\n 'Chargin Chocaters',\n 'Aino Ineysive',\n 'Taurak Ineysive',\n 'Eliana Jorden',\n 'Fronch Melto',\n 'Caper Knike',\n 'Hekark Mormonized',\n 'Naosura Mormonized',\n 'Row Pread',\n 'Allie Willynnedy',\n 'Sallyl Hodes',\n 'Lilace Hodes',\n 'Lynnee Oneiles',\n 'Debora Oneiles',\n 'Dyonon Diateous',\n 'Izarino Unciate',\n 'Loree Hahnstonsen',\n 'Elica Armstromez',\n 'Camonk Curte',\n 'Colal Curte',\n 'Loria Marshopper',\n 'Rice Marshopper',\n 'Hadira Singmage',\n 'Ferry Mcclayton',\n 'Elara Hoppernardy',\n nan,\n 'Nathy Moongton',\n 'Swafox Ecart',\n 'Aldun Taptiritty',\n 'Minopus Taptiritty',\n 'Wezena Taptiritty',\n 'Tabius Geoconne',\n 'Etair Fushausive',\n 'Hallux Geoconne',\n 'Lulah Hinetthews',\n 'Leonyl Poperez',\n 'Sallyl Poperez',\n 'Joela Poperez',\n 'Zanin Bedectical',\n 'Hardy Nichoan',\n 'Shawne Jenningley',\n 'Shany Yorkland',\n 'Warry Yorkland',\n 'Len Yorkland',\n 'Ronia Sosanturney',\n 'Grats Staf',\n 'Flamal Staf',\n 'Deandy Chaellerty',\n 'Kyley Chaellerty',\n 'Aude Beachez',\n 'Haryn Wynneyerson',\n 'Aptal Binie',\n 'Jurs Binie',\n 'Astab Fuelisent',\n 'Izarino Fuelisent',\n 'Stene Solinez',\n 'Nicey Chardst',\n 'Danie Gilesonston',\n 'Coves Chiff',\n 'Book Chiff',\n 'Beah Chiff',\n 'Benny Moongton',\n 'Chrisa Mcdanield',\n 'Gera Peckerson',\n 'Anny Mallerez',\n 'Isaacy Mallerez',\n 'Furudah Unloweedic',\n 'Sadirak Obeaded',\n 'Chery Vantonson',\n 'Hanne Kirklander',\n 'Batomam Preent',\n 'Kastrak Preent',\n 'Eclass Meake',\n 'Yogark Meake',\n 'Ots Cakie',\n 'Hadirk Spedlybood',\n 'Pigars Swell',\n 'Gal Fone',\n 'Torms Fone',\n 'Pios Fone',\n 'Thabius Unpasine',\n 'Mirfar Unpasine',\n 'Sterops Unpasine',\n 'Tauria Unpasine',\n 'Azharga Unpasine',\n 'Alheneb Unpasine',\n 'Kad Backe',\n 'Kylen Mccarry',\n 'Astrark Sinecthex',\n 'Sadirak Nateansive',\n 'Ankalik Nateansive',\n 'Rayley Blandez',\n 'Alramix Swinvul',\n 'Vindem Eneurordry',\n 'Jandy Kimons',\n 'Soyos Parta',\n 'Ryany Farleyatton',\n 'Bel Mcguirez',\n 'Hery Hornettoney',\n 'Glenry Parklaney',\n 'Helley Joyneidez',\n 'Wenise Mirezavis',\n 'Supce Stité',\n 'Llat Stité',\n 'Alasmon Stiven',\n 'Ericia Sellahaney',\n 'Estine Alentonway',\n 'Darley Alentonway',\n 'Tops Stike',\n 'Asellux Parbage',\n 'Weia Parbage',\n 'Kylen Staffersby',\n 'Walla Swanardy',\n 'Tard Nalanet',\n 'Achyon Nalanet',\n 'Alderak Nalanet',\n 'Betenif Nalanet',\n 'Mardyon Nalanet',\n 'Jell Conie',\n 'Rantax Conie',\n 'Landa Ments',\n 'Kaye Sextones',\n 'Shawne Stenson',\n 'Trick Weavesend',\n 'Kariel Webstes',\n 'Warets Watte',\n 'Guans Watte',\n 'Maen Cleminglas',\n 'Stene Bradlerson',\n 'Minkab Brathful',\n 'Tope Valindle',\n 'Gluinol Valindle',\n 'Alraixa Graciansus',\n 'Alhain Graciansus',\n 'Jilla Rames',\n 'Margia Harmond',\n 'Anniey Hortez',\n 'Tonyn Hortez',\n 'Annah Josey',\n 'Jessa Flemaney',\n 'Hamsp Petie',\n 'Bath Dinsprody',\n 'Taura Dinsprody',\n 'Aldibi Dinsprody',\n 'Cines Ble',\n 'Muls Mish',\n 'Jeron Munozanson',\n 'Enibik Baciffhaut',\n 'Pentard Baciffhaut',\n 'Tin Merce',\n 'Chard Tramsor',\n 'Branev Ousious',\n 'Alchium Ousious',\n 'Bahoton Ousious',\n 'Izark Hednigic',\n 'Polam Ousious',\n 'Hasich Ousious',\n 'Isoton Ousious',\n 'Lesley Lamberguson',\n 'Deandy Dickley',\n 'Minoton Bootty',\n 'Melice Herry',\n 'Gwendy Holson',\n 'Greggy Trankliney',\n 'Scotty Trankliney',\n 'Guye Wagnerray',\n 'Chael Woodgezalez',\n 'Dicks Chort',\n 'Muebix Erle',\n 'Beeres Erle',\n 'Cricks Erle',\n 'Graven Fone',\n 'Sugard Fone',\n 'Flams Fone',\n 'Askeid Oillicaly',\n 'Gorn Tecre',\n 'Camiet Delazarson',\n 'Maya Hardley',\n 'Chelsa Burchanez',\n 'Loreen Mcclayton',\n 'Hon Kra',\n 'Joana Flynner',\n 'Cores Flynner',\n 'Ton Gene',\n 'Arllia Roachoanand',\n 'Bertle Roachoanand',\n 'Gabrin Buckeelez',\n 'Losp Crité',\n 'Bases Crité',\n 'Apple Crité',\n 'Honjay Crité',\n 'Muonon Ormler',\n 'Seats Brine',\n 'Oats Brine',\n 'Rana Brine',\n 'Lyny Scheron',\n 'Dyonium Hontichre',\n 'Mino Hontichre',\n 'Pola Hontichre',\n 'Maril Rilley',\n 'Guteda Sacle',\n 'Erie Potters',\n 'Paulas Klinson',\n 'Achyon Ranaly',\n 'Feline Carterson',\n 'Blancy Pollarkeeks',\n 'Elina Hodes',\n 'Stance Hodes',\n 'Philda Yorkland',\n 'Troyce Yorkland',\n 'Scellus Holatirint',\n 'Ankabit Holatirint',\n 'Ellene Gaington',\n 'Joela Gainebergan',\n 'Rickie Portananney',\n 'Cord Anpie',\n 'Croos She',\n 'Cakes Gread',\n 'Patoya Wolfaddox',\n 'Ronna Powery',\n 'Millia Powery',\n 'Craine Santantines',\n 'Loresa Santantines',\n 'Cowl Pamca',\n 'Eleonon Geoconne',\n 'Dory Wooterston',\n 'Krisa Yanton',\n 'Dilatik Kiling',\n 'Aviton Kiling',\n 'Chabik Kiling',\n 'Tachir Kiling',\n 'Duhrk Kiling',\n 'Tran Watie',\n 'Hadlam Prucerod',\n 'Troyra Grahangory',\n 'Errim Trattle',\n 'Lidex Deeke',\n 'Anack Deeke',\n 'Oareel Deeke',\n 'Eulah Hammonton',\n 'Rionk Paska',\n 'Phios Cure',\n 'Nicey Gordond',\n nan,\n 'Glenna Cardner',\n 'Ernice Jarvey',\n 'Stal Andackson',\n 'Leonyl Saley',\n 'Misadr Ticagent',\n 'Jeroy Buckentry',\n 'Jabba Cylistrand',\n 'Cineys Winie',\n 'Lix Winie',\n 'Rician Torrez',\n 'Elanie Hardson',\n 'Veroy Santry',\n 'Josey Carreralend',\n 'Grette Dillips',\n 'Lorian Josey',\n 'Bettie Moodman',\n 'Vana Nichoan',\n 'Garyan Garnes',\n 'Annard Garnes',\n 'Joandy Camerrison',\n 'Grany Cla',\n 'Wheals Parté',\n 'Sug Conie',\n 'Trohs Conie',\n 'Jack Conie',\n 'Arl Lerez',\n 'Permit Bert',\n 'Cheat Bert',\n 'Lix Concy',\n 'Goos Erpie',\n 'Chard Motive',\n 'Yapich Start',\n 'Bubbix Potte',\n 'Fis Potte',\n 'Moss Potte',\n 'Mothab Dedometeel',\n 'Tetraix Dedometeel',\n 'Stany Haydenzier',\n 'Dixiel Buchansen',\n 'Roswal Sha',\n 'Flyros Rhuba',\n 'Menkibi Voliat',\n 'Briane Sellahaney',\n 'Brank Estein',\n 'Adanne Wartyson',\n 'Denny Mccarveymon',\n 'Jorgie Haydenzier',\n 'Astorux Missefle',\n 'Thaban Missefle',\n 'Props Missefle',\n 'Nute Coflé',\n 'Pik Apeau',\n 'Crans Apeau',\n 'Vivia Stantiagord',\n 'Erie Rilley',\n 'Claine Rilley',\n 'Sony Rilley',\n 'Charry Rilley',\n 'Jeanny Rilley',\n 'Man Rilley',\n 'Brene Rilley',\n 'Izarfik Unconary',\n 'Alendy Mondsey',\n 'Naros Reate',\n 'Mela Bensley',\n 'Verly Fitzgerson',\n 'Branda Potthews',\n 'Johna Currisones',\n 'Briam Lewinton',\n 'Jilla Bairdford',\n 'Lulah Hamberterry',\n 'Elinda Ewiseston',\n 'Lerion Mcbritts',\n 'Charmus Inghtal',\n 'Ran Pread',\n 'Dyonevi Sageng',\n 'Zaurah Sageng',\n 'Thab Sageng',\n 'Loree Brighttt',\n 'Milyla Waltonnedy',\n 'Tiney Kramosley',\n 'Mesarix Ennalve',\n nan,\n 'Matan Ennalve',\n 'Atikard Fusimodent',\n 'Ashelik Ainserfle',\n 'Ranon Geraing',\n 'Hadalm Ainserfle',\n 'Mins Traie',\n 'Izarki Fliblerolt',\n 'Elody Hubbarrison',\n 'Danna Toddleton',\n 'Frus Burle',\n 'Ponts Burle',\n 'Francy Meltonway',\n 'Maiam Oilloody',\n 'Arix Oilloody',\n 'Astrah Reeddommy',\n 'Alendy Mclardson',\n 'Sanney Mclardson',\n 'Hughy Mclardson',\n 'Kimmy Mclardson',\n 'Harlen Mclardson',\n nan,\n 'Troyra Steeletters',\n 'Minoton Hednigic',\n 'Halleth Plegred',\n 'Weia Hednigic',\n 'Arrain Hednigic',\n 'Gwendy Beston',\n 'Breney Roycentes',\n 'Wasalm Plattering',\n 'Holey Rodger',\n 'Diandy Valexandez',\n 'Clus Walé',\n 'Grafirk Aiming',\n 'Francy Hughriend',\n 'Robyny Hartz',\n 'Ritany Quinnerry',\n nan,\n 'Mesath Imprank',\n 'Auvan Frolestty',\n 'Zaninon Frolestty',\n 'Fanne Pottmanley',\n 'Neila Mcfarmerson',\n 'Millie Powenoble',\n 'Nakes Dutte',\n 'Squars Dutte',\n 'Pristy Klindsey',\n 'Alatrix Unfile',\n 'Hery Noelan',\n 'Ecco Gelle',\n 'Genibah Presstic',\n 'Plat Pimne',\n 'Glueba Chuble',\n 'Deaney Nieldson',\n 'Bonyam Nieldson',\n 'Benew Ramoran',\n 'Oaters Meake',\n 'Crin Meake',\n 'Smal Meake',\n 'Wales Meake',\n 'Ranutz Knik',\n 'Pan Nutte',\n 'Phams Nutte',\n 'Frouse Katte',\n 'Wenise Meyersones',\n 'Giedir Asoppor',\n 'Carona Baxters',\n 'Ksorab Couseced',\n 'Patsya Gainney',\n 'Hanry Strongers',\n 'Sus Strongers',\n 'Scotte Sweeton',\n 'Chadie Carrishley',\n 'Wenten Carrishley',\n 'Teda Chpie',\n 'Alendy Wardendez',\n 'Danna Hoopez',\n 'Juliey Santry',\n 'Rosey Santry',\n 'Myrace Carverson',\n 'Eilan Hinesh',\n 'Tarmus Poicaptic',\n 'Garry Pacerty',\n 'Briane Frazie',\n 'Set Butte',\n 'Grumak Pokerheed',\n 'Ebonyd Braymon',\n 'Achbah Fueling',\n 'Tera Simstravery',\n 'Sts Raca',\n 'Monam Raca',\n 'Cellum Oidederval',\n 'Tareson Oidederval',\n 'Koops Nan',\n 'Iandy Sarios',\n 'Hamelik Ageurante',\n 'Eleaha Lambles',\n nan,\n 'Jone Walkerez',\n 'Lynez Walkerez',\n 'Rald Walkerez',\n nan,\n 'Neutria Sandul',\n 'Ernice Stephendsey',\n 'Ianya Peckers',\n 'Hilley Sweene',\n 'Dessie Maynardner',\n 'Polar Geneltic',\n 'Garyan Franton',\n 'Breney Briggston',\n nan,\n 'Teryla Leodger',\n 'Hallus Covetive',\n 'Sceres Bancy',\n 'Therta Lanks',\n 'Gollux Reedall',\n 'Elson Malliamsey',\n 'Chelsa Pittson',\n 'Velyne Pittson',\n 'Marfak Polksy',\n 'Izaron Polksy',\n nan,\n 'Rica Barris',\n 'Jilla Alldson',\n 'Evane Warrishales',\n 'Allene Warrishales',\n 'Grake Porki',\n 'Duana Jacostaney',\n 'Nelley Rushorney',\n 'Wein Alcemblery',\n 'Gicks Kin',\n 'Gwenda Hinetthews',\n 'Achah Cassiding',\n 'Marinon Cassiding',\n 'Violey Burryerson',\n 'Angars Blate',\n 'Froops Blate',\n 'Dyonon Imprank',\n 'Shail Parymider',\n 'Jerrye Leodger',\n 'Caseye Fuenterson',\n 'Hery Kimons',\n 'Gracy Vinston',\n 'Shaiam Obedaming',\n 'Achyon Obedaming',\n 'Hadaron Stiviorad',\n 'Alpha Stiviorad',\n 'Jona Chaellerty',\n 'Skix Kraie',\n 'Varkes Kraie',\n 'Almone Kraie',\n 'Minchib Asticit',\n 'Alkeson Asticit',\n 'Emmax Avisnydes',\n 'Elene Ryanglasey',\n 'Arlie Sweett',\n 'Elanie Sweett',\n 'Therie Flynnis',\n 'Boats Pette',\n nan,\n 'Astorux Fawnsive',\n 'Terly Rocknight',\n 'Earlie Solinez',\n 'Walles Solinez',\n 'Tiney Solinez',\n 'Eulah Peter',\n 'Armen Byerton',\n 'Carita Steeletters',\n 'Triple Vloaf',\n 'Hilley Weaverays',\n 'Terrie Weaverays',\n 'Verly Emenez',\n 'Lyny Frandriquez',\n 'Benny Johnsby',\n 'Done Lunapperts',\n 'Grios Colle',\n 'Erice Potters',\n 'Glena Smalloney',\n 'Jimen Bartez',\n 'Waffs Hapie',\n 'Lorian Youngrayes',\n 'Gailia Lewinez',\n 'Alderak Platch',\n 'Weidus Platch',\n 'Wacks Depie',\n 'Duana Fulloydez',\n 'Tyrona Figuez',\n 'Lar Emone',\n 'Tamie Blace',\n nan,\n 'Glendy Humphreyes',\n 'Allena Hoppernardy',\n 'Tonyn Sweeton',\n 'Lesley Coxterez',\n 'Gimph Fushausive',\n 'Eriky Hewson',\n 'Joyton Hewson',\n 'Teremy Wiggs',\n 'Wen Woodwin',\n nan,\n 'Morrie Sweekstarks',\n 'Lyde Sweekstarks',\n 'Greggy Sweekstarks',\n 'Walley Sweekstarks',\n 'Shery Flemaney',\n 'Alancy Flemaney',\n 'Dory Reyerson',\n 'Fayen Norrison',\n 'Lyne Bartez',\n 'Jeresa Bartez',\n 'Kayd Moranthons',\n 'Tonia Cochrisons',\n 'Bethew Acobsond',\n 'Zino Kiling',\n 'Tareson Kiling',\n 'Matan Herpumble',\n 'Naosa Herpumble',\n 'Sinon Kiling',\n 'Weidus Kiling',\n 'Juanie Miltongson',\n 'Ellene Wartyson',\n 'Dell Wartyson',\n 'Chabik Barmant',\n 'Berios Shpie',\n 'Muonin Suptibler',\n 'Alus Harte',\n 'Nadie Llonovancis',\n 'Caish Leste',\n 'Bun Leste',\n 'Spuffs Leste',\n 'Aldun Wassird',\n 'Coreee Juartis',\n 'Velyne Summington',\n 'Stany Summington',\n 'Stenny Summington',\n 'Wasatz Spistory',\n 'Wimpha Spistory',\n 'Camie Prinson',\n 'Kaye Prinson',\n 'Valey Hubbarton',\n 'Weslie Farleyatton',\n 'Ranuts Frasp',\n 'Wilmay Antoshipson',\n 'Joya Blanglison',\n 'Elaney Webstephrey',\n 'Melia Wilderssen',\n 'Appers Wala',\n 'Melvia Blanglison',\n 'Verly Chavezalez',\n 'Myrace Nichaner',\n 'Bellee Chavezalez',\n 'Bethew Chavezalez',\n 'Chrisa Harverez',\n 'Lilace Leetersoney',\n 'Cort Dal',\n 'Anamse Dal',\n 'Basps Dal',\n 'Trine Dal',\n 'Crowk Racke',\n 'Jorgie Farleyatton',\n 'Warry Leonzaley',\n 'Aude Garzaley',\n 'Ericky Gonzaley',\n 'Aliedy Cleman',\n 'Nutz Bra',\n 'Laude Georgasey',\n 'Naomie Knoxonway',\n 'Clard Mcbritts',\n 'Algrafi Heedry',\n 'Gwenda Talls',\n 'Halsham Unteckery',\n 'Shail Unteckery',\n 'Wena Beachez',\n nan,\n 'Deany Mcdon',\n 'Ockies Prie',\n 'Yakers Prie',\n 'Frandy Warrison',\n 'Leenny Gallard',\n 'Rald Colleruces',\n 'Blanie Valexandez',\n 'Cineys Ble',\n 'Otlios Ble',\n 'Cherkar Braned',\n 'Keithy Ingston',\n 'Willip Clayson',\n 'Erina Wolffy',\n 'Markar Ingwhed',\n ...]"
     },
     "execution_count": 21,
     "metadata": {},
     "output_type": "execute_result"
    }
   ],
   "source": [
    "df.Name.to_list()"
   ],
   "metadata": {
    "collapsed": false,
    "ExecuteTime": {
     "start_time": "2023-05-24T17:25:11.835636Z",
     "end_time": "2023-05-24T17:25:11.999196Z"
    }
   }
  },
  {
   "cell_type": "code",
   "execution_count": 22,
   "outputs": [
    {
     "data": {
      "text/plain": "(8693, 14)"
     },
     "execution_count": 22,
     "metadata": {},
     "output_type": "execute_result"
    }
   ],
   "source": [
    "df.shape"
   ],
   "metadata": {
    "collapsed": false,
    "ExecuteTime": {
     "start_time": "2023-05-24T17:25:11.866585Z",
     "end_time": "2023-05-24T17:25:12.115808Z"
    }
   }
  },
  {
   "cell_type": "code",
   "execution_count": 23,
   "outputs": [
    {
     "name": "stdout",
     "output_type": "stream",
     "text": [
      "<class 'pandas.core.frame.DataFrame'>\n",
      "RangeIndex: 8693 entries, 0 to 8692\n",
      "Data columns (total 14 columns):\n",
      " #   Column        Non-Null Count  Dtype  \n",
      "---  ------        --------------  -----  \n",
      " 0   PassengerId   8693 non-null   object \n",
      " 1   HomePlanet    8492 non-null   object \n",
      " 2   CryoSleep     8476 non-null   object \n",
      " 3   Cabin         8494 non-null   object \n",
      " 4   Destination   8511 non-null   object \n",
      " 5   Age           8514 non-null   float64\n",
      " 6   VIP           8490 non-null   object \n",
      " 7   RoomService   8512 non-null   float64\n",
      " 8   FoodCourt     8510 non-null   float64\n",
      " 9   ShoppingMall  8485 non-null   float64\n",
      " 10  Spa           8510 non-null   float64\n",
      " 11  VRDeck        8505 non-null   float64\n",
      " 12  Name          8493 non-null   object \n",
      " 13  Transported   8693 non-null   bool   \n",
      "dtypes: bool(1), float64(6), object(7)\n",
      "memory usage: 891.5+ KB\n"
     ]
    }
   ],
   "source": [
    "df.info()"
   ],
   "metadata": {
    "collapsed": false,
    "ExecuteTime": {
     "start_time": "2023-05-24T17:25:11.900463Z",
     "end_time": "2023-05-24T17:25:12.229504Z"
    }
   }
  },
  {
   "cell_type": "code",
   "execution_count": 24,
   "outputs": [
    {
     "data": {
      "text/plain": "(8514, 14)"
     },
     "execution_count": 24,
     "metadata": {},
     "output_type": "execute_result"
    }
   ],
   "source": [
    "df = df[df.Age.notna()]\n",
    "df.shape"
   ],
   "metadata": {
    "collapsed": false,
    "ExecuteTime": {
     "start_time": "2023-05-24T17:25:11.928385Z",
     "end_time": "2023-05-24T17:25:12.230502Z"
    }
   }
  },
  {
   "cell_type": "code",
   "execution_count": 25,
   "outputs": [
    {
     "name": "stdout",
     "output_type": "stream",
     "text": [
      "<class 'pandas.core.frame.DataFrame'>\n",
      "Int64Index: 8514 entries, 0 to 8692\n",
      "Data columns (total 14 columns):\n",
      " #   Column        Non-Null Count  Dtype  \n",
      "---  ------        --------------  -----  \n",
      " 0   PassengerId   8514 non-null   object \n",
      " 1   HomePlanet    8315 non-null   object \n",
      " 2   CryoSleep     8298 non-null   object \n",
      " 3   Cabin         8319 non-null   object \n",
      " 4   Destination   8335 non-null   object \n",
      " 5   Age           8514 non-null   float64\n",
      " 6   VIP           8317 non-null   object \n",
      " 7   RoomService   8334 non-null   float64\n",
      " 8   FoodCourt     8335 non-null   float64\n",
      " 9   ShoppingMall  8310 non-null   float64\n",
      " 10  Spa           8332 non-null   float64\n",
      " 11  VRDeck        8330 non-null   float64\n",
      " 12  Name          8317 non-null   object \n",
      " 13  Transported   8514 non-null   bool   \n",
      "dtypes: bool(1), float64(6), object(7)\n",
      "memory usage: 939.5+ KB\n"
     ]
    }
   ],
   "source": [
    "df.info()"
   ],
   "metadata": {
    "collapsed": false,
    "ExecuteTime": {
     "start_time": "2023-05-24T17:25:11.944343Z",
     "end_time": "2023-05-24T17:25:12.244465Z"
    }
   }
  },
  {
   "cell_type": "code",
   "execution_count": 26,
   "outputs": [],
   "source": [
    "df.drop(\"Cabin\", axis=1, inplace=True, errors='ignore')"
   ],
   "metadata": {
    "collapsed": false,
    "ExecuteTime": {
     "start_time": "2023-05-24T17:25:11.977256Z",
     "end_time": "2023-05-24T17:25:12.394064Z"
    }
   }
  },
  {
   "cell_type": "code",
   "execution_count": 27,
   "outputs": [
    {
     "name": "stdout",
     "output_type": "stream",
     "text": [
      "<class 'pandas.core.frame.DataFrame'>\n",
      "Int64Index: 8514 entries, 0 to 8692\n",
      "Data columns (total 13 columns):\n",
      " #   Column        Non-Null Count  Dtype  \n",
      "---  ------        --------------  -----  \n",
      " 0   PassengerId   8514 non-null   object \n",
      " 1   HomePlanet    8315 non-null   object \n",
      " 2   CryoSleep     8298 non-null   object \n",
      " 3   Destination   8335 non-null   object \n",
      " 4   Age           8514 non-null   float64\n",
      " 5   VIP           8317 non-null   object \n",
      " 6   RoomService   8334 non-null   float64\n",
      " 7   FoodCourt     8335 non-null   float64\n",
      " 8   ShoppingMall  8310 non-null   float64\n",
      " 9   Spa           8332 non-null   float64\n",
      " 10  VRDeck        8330 non-null   float64\n",
      " 11  Name          8317 non-null   object \n",
      " 12  Transported   8514 non-null   bool   \n",
      "dtypes: bool(1), float64(6), object(6)\n",
      "memory usage: 873.0+ KB\n"
     ]
    }
   ],
   "source": [
    "df.info()"
   ],
   "metadata": {
    "collapsed": false,
    "ExecuteTime": {
     "start_time": "2023-05-24T17:25:11.993247Z",
     "end_time": "2023-05-24T17:25:13.401595Z"
    }
   }
  },
  {
   "cell_type": "code",
   "execution_count": 28,
   "outputs": [
    {
     "data": {
      "text/plain": "<Axes: ylabel='Density'>"
     },
     "execution_count": 28,
     "metadata": {},
     "output_type": "execute_result"
    },
    {
     "data": {
      "text/plain": "<Figure size 640x480 with 1 Axes>",
      "image/png": "[encoded data removed]"
     },
     "metadata": {},
     "output_type": "display_data"
    }
   ],
   "source": [
    "df.Age.plot.density()"
   ],
   "metadata": {
    "collapsed": false,
    "ExecuteTime": {
     "start_time": "2023-05-24T17:25:12.027123Z",
     "end_time": "2023-05-24T17:25:14.303516Z"
    }
   }
  },
  {
   "cell_type": "code",
   "execution_count": 29,
   "outputs": [
    {
     "data": {
      "text/plain": "  PassengerId HomePlanet CryoSleep  Destination   Age    VIP  RoomService  \\\n0     0001_01     Europa     False  TRAPPIST-1e  39.0  False          0.0   \n1     0002_01      Earth     False  TRAPPIST-1e  24.0  False        109.0   \n2     0003_01     Europa     False  TRAPPIST-1e  58.0   True         43.0   \n3     0003_02     Europa     False  TRAPPIST-1e  33.0  False          0.0   \n4     0004_01      Earth     False  TRAPPIST-1e  16.0  False        303.0   \n\n   FoodCourt  ShoppingMall     Spa  VRDeck               Name  Transported  \n0        0.0           0.0     0.0     0.0    Maham Ofracculy        False  \n1        9.0          25.0   549.0    44.0       Juanna Vines         True  \n2     3576.0           0.0  6715.0    49.0      Altark Susent        False  \n3     1283.0         371.0  3329.0   193.0       Solam Susent        False  \n4       70.0         151.0   565.0     2.0  Willy Santantines         True  ",
      "text/html": "<div>\n<style scoped>\n    .dataframe tbody tr th:only-of-type {\n        vertical-align: middle;\n    }\n\n    .dataframe tbody tr th {\n        vertical-align: top;\n    }\n\n    .dataframe thead th {\n        text-align: right;\n    }\n</style>\n<table border=\"1\" class=\"dataframe\">\n  <thead>\n    <tr style=\"text-align: right;\">\n      <th></th>\n      <th>PassengerId</th>\n      <th>HomePlanet</th>\n      <th>CryoSleep</th>\n      <th>Destination</th>\n      <th>Age</th>\n      <th>VIP</th>\n      <th>RoomService</th>\n      <th>FoodCourt</th>\n      <th>ShoppingMall</th>\n      <th>Spa</th>\n      <th>VRDeck</th>\n      <th>Name</th>\n      <th>Transported</th>\n    </tr>\n  </thead>\n  <tbody>\n    <tr>\n      <th>0</th>\n      <td>0001_01</td>\n      <td>Europa</td>\n      <td>False</td>\n      <td>TRAPPIST-1e</td>\n      <td>39.0</td>\n      <td>False</td>\n      <td>0.0</td>\n      <td>0.0</td>\n      <td>0.0</td>\n      <td>0.0</td>\n      <td>0.0</td>\n      <td>Maham Ofracculy</td>\n      <td>False</td>\n    </tr>\n    <tr>\n      <th>1</th>\n      <td>0002_01</td>\n      <td>Earth</td>\n      <td>False</td>\n      <td>TRAPPIST-1e</td>\n      <td>24.0</td>\n      <td>False</td>\n      <td>109.0</td>\n      <td>9.0</td>\n      <td>25.0</td>\n      <td>549.0</td>\n      <td>44.0</td>\n      <td>Juanna Vines</td>\n      <td>True</td>\n    </tr>\n    <tr>\n      <th>2</th>\n      <td>0003_01</td>\n      <td>Europa</td>\n      <td>False</td>\n      <td>TRAPPIST-1e</td>\n      <td>58.0</td>\n      <td>True</td>\n      <td>43.0</td>\n      <td>3576.0</td>\n      <td>0.0</td>\n      <td>6715.0</td>\n      <td>49.0</td>\n      <td>Altark Susent</td>\n      <td>False</td>\n    </tr>\n    <tr>\n      <th>3</th>\n      <td>0003_02</td>\n      <td>Europa</td>\n      <td>False</td>\n      <td>TRAPPIST-1e</td>\n      <td>33.0</td>\n      <td>False</td>\n      <td>0.0</td>\n      <td>1283.0</td>\n      <td>371.0</td>\n      <td>3329.0</td>\n      <td>193.0</td>\n      <td>Solam Susent</td>\n      <td>False</td>\n    </tr>\n    <tr>\n      <th>4</th>\n      <td>0004_01</td>\n      <td>Earth</td>\n      <td>False</td>\n      <td>TRAPPIST-1e</td>\n      <td>16.0</td>\n      <td>False</td>\n      <td>303.0</td>\n      <td>70.0</td>\n      <td>151.0</td>\n      <td>565.0</td>\n      <td>2.0</td>\n      <td>Willy Santantines</td>\n      <td>True</td>\n    </tr>\n  </tbody>\n</table>\n</div>"
     },
     "execution_count": 29,
     "metadata": {},
     "output_type": "execute_result"
    }
   ],
   "source": [
    "df.head()"
   ],
   "metadata": {
    "collapsed": false,
    "ExecuteTime": {
     "start_time": "2023-05-24T17:25:14.303516Z",
     "end_time": "2023-05-24T17:25:14.318480Z"
    }
   }
  },
  {
   "cell_type": "code",
   "execution_count": 30,
   "outputs": [
    {
     "data": {
      "text/plain": "       Age    VIP\n0     39.0  False\n1     24.0  False\n2     58.0   True\n3     33.0  False\n4     16.0  False\n...    ...    ...\n8688  41.0   True\n8689  18.0  False\n8690  26.0  False\n8691  32.0  False\n8692  44.0  False\n\n[8514 rows x 2 columns]",
      "text/html": "<div>\n<style scoped>\n    .dataframe tbody tr th:only-of-type {\n        vertical-align: middle;\n    }\n\n    .dataframe tbody tr th {\n        vertical-align: top;\n    }\n\n    .dataframe thead th {\n        text-align: right;\n    }\n</style>\n<table border=\"1\" class=\"dataframe\">\n  <thead>\n    <tr style=\"text-align: right;\">\n      <th></th>\n      <th>Age</th>\n      <th>VIP</th>\n    </tr>\n  </thead>\n  <tbody>\n    <tr>\n      <th>0</th>\n      <td>39.0</td>\n      <td>False</td>\n    </tr>\n    <tr>\n      <th>1</th>\n      <td>24.0</td>\n      <td>False</td>\n    </tr>\n    <tr>\n      <th>2</th>\n      <td>58.0</td>\n      <td>True</td>\n    </tr>\n    <tr>\n      <th>3</th>\n      <td>33.0</td>\n      <td>False</td>\n    </tr>\n    <tr>\n      <th>4</th>\n      <td>16.0</td>\n      <td>False</td>\n    </tr>\n    <tr>\n      <th>...</th>\n      <td>...</td>\n      <td>...</td>\n    </tr>\n    <tr>\n      <th>8688</th>\n      <td>41.0</td>\n      <td>True</td>\n    </tr>\n    <tr>\n      <th>8689</th>\n      <td>18.0</td>\n      <td>False</td>\n    </tr>\n    <tr>\n      <th>8690</th>\n      <td>26.0</td>\n      <td>False</td>\n    </tr>\n    <tr>\n      <th>8691</th>\n      <td>32.0</td>\n      <td>False</td>\n    </tr>\n    <tr>\n      <th>8692</th>\n      <td>44.0</td>\n      <td>False</td>\n    </tr>\n  </tbody>\n</table>\n<p>8514 rows × 2 columns</p>\n</div>"
     },
     "execution_count": 30,
     "metadata": {},
     "output_type": "execute_result"
    }
   ],
   "source": [
    "df[[\"Age\", \"VIP\"]]"
   ],
   "metadata": {
    "collapsed": false,
    "ExecuteTime": {
     "start_time": "2023-05-24T17:25:14.320472Z",
     "end_time": "2023-05-24T17:25:14.427640Z"
    }
   }
  },
  {
   "cell_type": "code",
   "execution_count": 31,
   "outputs": [
    {
     "data": {
      "text/plain": "28.82793046746535"
     },
     "execution_count": 31,
     "metadata": {},
     "output_type": "execute_result"
    }
   ],
   "source": [
    "df[\"Age\"].mean()"
   ],
   "metadata": {
    "collapsed": false,
    "ExecuteTime": {
     "start_time": "2023-05-24T17:25:14.349945Z",
     "end_time": "2023-05-24T17:25:14.428638Z"
    }
   }
  },
  {
   "cell_type": "code",
   "execution_count": 32,
   "outputs": [
    {
     "data": {
      "text/plain": "0.0"
     },
     "execution_count": 32,
     "metadata": {},
     "output_type": "execute_result"
    }
   ],
   "source": [
    "df[\"Age\"].min()"
   ],
   "metadata": {
    "collapsed": false,
    "ExecuteTime": {
     "start_time": "2023-05-24T17:25:14.370888Z",
     "end_time": "2023-05-24T17:25:14.471038Z"
    }
   }
  },
  {
   "cell_type": "code",
   "execution_count": 33,
   "outputs": [
    {
     "data": {
      "text/plain": "79.0"
     },
     "execution_count": 33,
     "metadata": {},
     "output_type": "execute_result"
    }
   ],
   "source": [
    "df['Age'].max()"
   ],
   "metadata": {
    "collapsed": false,
    "ExecuteTime": {
     "start_time": "2023-05-24T17:25:14.397720Z",
     "end_time": "2023-05-24T17:25:14.506943Z"
    }
   }
  },
  {
   "cell_type": "code",
   "execution_count": 34,
   "outputs": [
    {
     "data": {
      "text/plain": "mean    28.82793\nmin      0.00000\nmax     79.00000\nName: Age, dtype: float64"
     },
     "execution_count": 34,
     "metadata": {},
     "output_type": "execute_result"
    }
   ],
   "source": [
    "df.Age.agg(['mean', 'min', 'max'])"
   ],
   "metadata": {
    "collapsed": false,
    "ExecuteTime": {
     "start_time": "2023-05-24T17:25:14.414676Z",
     "end_time": "2023-05-24T17:25:14.507941Z"
    }
   }
  },
  {
   "cell_type": "code",
   "execution_count": 35,
   "outputs": [
    {
     "data": {
      "text/plain": "mean      37.449495\nmin       18.000000\nmax       73.000000\ncount    198.000000\nName: Age, dtype: float64"
     },
     "execution_count": 35,
     "metadata": {},
     "output_type": "execute_result"
    }
   ],
   "source": [
    "df[\"Age\"][df.VIP == True].agg(['mean', \"min\", \"max\", 'count'])"
   ],
   "metadata": {
    "collapsed": false,
    "ExecuteTime": {
     "start_time": "2023-05-24T17:25:14.430631Z",
     "end_time": "2023-05-24T17:25:14.682528Z"
    }
   }
  },
  {
   "cell_type": "code",
   "execution_count": 36,
   "outputs": [
    {
     "data": {
      "text/plain": "                  Age                 \n                 mean  min   max count\nHomePlanet                            \nEarth       26.068232  0.0  79.0  4514\nEuropa      34.419664  0.0  79.0  2085\nMars        29.297203  0.0  76.0  1716",
      "text/html": "<div>\n<style scoped>\n    .dataframe tbody tr th:only-of-type {\n        vertical-align: middle;\n    }\n\n    .dataframe tbody tr th {\n        vertical-align: top;\n    }\n\n    .dataframe thead tr th {\n        text-align: left;\n    }\n\n    .dataframe thead tr:last-of-type th {\n        text-align: right;\n    }\n</style>\n<table border=\"1\" class=\"dataframe\">\n  <thead>\n    <tr>\n      <th></th>\n      <th colspan=\"4\" halign=\"left\">Age</th>\n    </tr>\n    <tr>\n      <th></th>\n      <th>mean</th>\n      <th>min</th>\n      <th>max</th>\n      <th>count</th>\n    </tr>\n    <tr>\n      <th>HomePlanet</th>\n      <th></th>\n      <th></th>\n      <th></th>\n      <th></th>\n    </tr>\n  </thead>\n  <tbody>\n    <tr>\n      <th>Earth</th>\n      <td>26.068232</td>\n      <td>0.0</td>\n      <td>79.0</td>\n      <td>4514</td>\n    </tr>\n    <tr>\n      <th>Europa</th>\n      <td>34.419664</td>\n      <td>0.0</td>\n      <td>79.0</td>\n      <td>2085</td>\n    </tr>\n    <tr>\n      <th>Mars</th>\n      <td>29.297203</td>\n      <td>0.0</td>\n      <td>76.0</td>\n      <td>1716</td>\n    </tr>\n  </tbody>\n</table>\n</div>"
     },
     "execution_count": 36,
     "metadata": {},
     "output_type": "execute_result"
    }
   ],
   "source": [
    "df[['Age', 'HomePlanet']].groupby('HomePlanet').agg(['mean', 'min', 'max', 'count'])"
   ],
   "metadata": {
    "collapsed": false,
    "ExecuteTime": {
     "start_time": "2023-05-24T17:25:14.460067Z",
     "end_time": "2023-05-24T17:25:14.683525Z"
    }
   }
  },
  {
   "cell_type": "code",
   "execution_count": 37,
   "outputs": [
    {
     "data": {
      "text/plain": "                  Age                        \n                 mean  min   max median count\nHomePlanet                                   \nEarth       26.804556  1.0  79.0   24.0  4390\nEuropa      34.568882  1.0  79.0   33.0  2076\nMars        30.032258  1.0  76.0   28.0  1674",
      "text/html": "<div>\n<style scoped>\n    .dataframe tbody tr th:only-of-type {\n        vertical-align: middle;\n    }\n\n    .dataframe tbody tr th {\n        vertical-align: top;\n    }\n\n    .dataframe thead tr th {\n        text-align: left;\n    }\n\n    .dataframe thead tr:last-of-type th {\n        text-align: right;\n    }\n</style>\n<table border=\"1\" class=\"dataframe\">\n  <thead>\n    <tr>\n      <th></th>\n      <th colspan=\"5\" halign=\"left\">Age</th>\n    </tr>\n    <tr>\n      <th></th>\n      <th>mean</th>\n      <th>min</th>\n      <th>max</th>\n      <th>median</th>\n      <th>count</th>\n    </tr>\n    <tr>\n      <th>HomePlanet</th>\n      <th></th>\n      <th></th>\n      <th></th>\n      <th></th>\n      <th></th>\n    </tr>\n  </thead>\n  <tbody>\n    <tr>\n      <th>Earth</th>\n      <td>26.804556</td>\n      <td>1.0</td>\n      <td>79.0</td>\n      <td>24.0</td>\n      <td>4390</td>\n    </tr>\n    <tr>\n      <th>Europa</th>\n      <td>34.568882</td>\n      <td>1.0</td>\n      <td>79.0</td>\n      <td>33.0</td>\n      <td>2076</td>\n    </tr>\n    <tr>\n      <th>Mars</th>\n      <td>30.032258</td>\n      <td>1.0</td>\n      <td>76.0</td>\n      <td>28.0</td>\n      <td>1674</td>\n    </tr>\n  </tbody>\n</table>\n</div>"
     },
     "execution_count": 37,
     "metadata": {},
     "output_type": "execute_result"
    }
   ],
   "source": [
    "df[['Age', 'HomePlanet']][df.Age >= 1].groupby(\"HomePlanet\").agg({\"Age\": ['mean', 'min', 'max', 'median', 'count']})"
   ],
   "metadata": {
    "collapsed": false,
    "ExecuteTime": {
     "start_time": "2023-05-24T17:25:14.496968Z",
     "end_time": "2023-05-24T17:25:14.684523Z"
    }
   }
  },
  {
   "cell_type": "code",
   "execution_count": 38,
   "outputs": [
    {
     "data": {
      "text/plain": "      Transported      \n              sum count\nVIP                    \nFalse        4111  8119\nTrue           76   198",
      "text/html": "<div>\n<style scoped>\n    .dataframe tbody tr th:only-of-type {\n        vertical-align: middle;\n    }\n\n    .dataframe tbody tr th {\n        vertical-align: top;\n    }\n\n    .dataframe thead tr th {\n        text-align: left;\n    }\n\n    .dataframe thead tr:last-of-type th {\n        text-align: right;\n    }\n</style>\n<table border=\"1\" class=\"dataframe\">\n  <thead>\n    <tr>\n      <th></th>\n      <th colspan=\"2\" halign=\"left\">Transported</th>\n    </tr>\n    <tr>\n      <th></th>\n      <th>sum</th>\n      <th>count</th>\n    </tr>\n    <tr>\n      <th>VIP</th>\n      <th></th>\n      <th></th>\n    </tr>\n  </thead>\n  <tbody>\n    <tr>\n      <th>False</th>\n      <td>4111</td>\n      <td>8119</td>\n    </tr>\n    <tr>\n      <th>True</th>\n      <td>76</td>\n      <td>198</td>\n    </tr>\n  </tbody>\n</table>\n</div>"
     },
     "execution_count": 38,
     "metadata": {},
     "output_type": "execute_result"
    }
   ],
   "source": [
    "df[['VIP', 'Transported']].groupby('VIP').agg(['sum', 'count'])"
   ],
   "metadata": {
    "collapsed": false,
    "ExecuteTime": {
     "start_time": "2023-05-24T17:25:14.525890Z",
     "end_time": "2023-05-24T17:25:14.685521Z"
    }
   }
  },
  {
   "cell_type": "code",
   "execution_count": 39,
   "outputs": [
    {
     "data": {
      "text/plain": "              Transported      \n                      sum count\nDestination                    \n55 Cancri e          1076  1766\nPSO J318.5-22         394   782\nTRAPPIST-1e          2729  5787",
      "text/html": "<div>\n<style scoped>\n    .dataframe tbody tr th:only-of-type {\n        vertical-align: middle;\n    }\n\n    .dataframe tbody tr th {\n        vertical-align: top;\n    }\n\n    .dataframe thead tr th {\n        text-align: left;\n    }\n\n    .dataframe thead tr:last-of-type th {\n        text-align: right;\n    }\n</style>\n<table border=\"1\" class=\"dataframe\">\n  <thead>\n    <tr>\n      <th></th>\n      <th colspan=\"2\" halign=\"left\">Transported</th>\n    </tr>\n    <tr>\n      <th></th>\n      <th>sum</th>\n      <th>count</th>\n    </tr>\n    <tr>\n      <th>Destination</th>\n      <th></th>\n      <th></th>\n    </tr>\n  </thead>\n  <tbody>\n    <tr>\n      <th>55 Cancri e</th>\n      <td>1076</td>\n      <td>1766</td>\n    </tr>\n    <tr>\n      <th>PSO J318.5-22</th>\n      <td>394</td>\n      <td>782</td>\n    </tr>\n    <tr>\n      <th>TRAPPIST-1e</th>\n      <td>2729</td>\n      <td>5787</td>\n    </tr>\n  </tbody>\n</table>\n</div>"
     },
     "execution_count": 39,
     "metadata": {},
     "output_type": "execute_result"
    }
   ],
   "source": [
    "df[['Destination', 'Transported']].groupby('Destination').agg(['sum', 'count'])"
   ],
   "metadata": {
    "collapsed": false,
    "ExecuteTime": {
     "start_time": "2023-05-24T17:25:14.576810Z",
     "end_time": "2023-05-24T17:25:14.735388Z"
    }
   }
  },
  {
   "cell_type": "code",
   "execution_count": 40,
   "outputs": [
    {
     "data": {
      "text/plain": "           RoomService                                                        \n              describe                                                        \n                 count        mean         std  min  25%   50%    75%      max\nHomePlanet                                                                    \nEarth           4303.0  138.594934  385.769119  0.0  0.0   0.0   32.0   6256.0\nEuropa          1878.0  132.838658  746.617499  0.0  0.0   0.0    0.0  14327.0\nMars            1581.0  541.130930  946.166443  0.0  0.0  13.0  836.0   9920.0",
      "text/html": "<div>\n<style scoped>\n    .dataframe tbody tr th:only-of-type {\n        vertical-align: middle;\n    }\n\n    .dataframe tbody tr th {\n        vertical-align: top;\n    }\n\n    .dataframe thead tr th {\n        text-align: left;\n    }\n\n    .dataframe thead tr:last-of-type th {\n        text-align: right;\n    }\n</style>\n<table border=\"1\" class=\"dataframe\">\n  <thead>\n    <tr>\n      <th></th>\n      <th colspan=\"8\" halign=\"left\">RoomService</th>\n    </tr>\n    <tr>\n      <th></th>\n      <th colspan=\"8\" halign=\"left\">describe</th>\n    </tr>\n    <tr>\n      <th></th>\n      <th>count</th>\n      <th>mean</th>\n      <th>std</th>\n      <th>min</th>\n      <th>25%</th>\n      <th>50%</th>\n      <th>75%</th>\n      <th>max</th>\n    </tr>\n    <tr>\n      <th>HomePlanet</th>\n      <th></th>\n      <th></th>\n      <th></th>\n      <th></th>\n      <th></th>\n      <th></th>\n      <th></th>\n      <th></th>\n    </tr>\n  </thead>\n  <tbody>\n    <tr>\n      <th>Earth</th>\n      <td>4303.0</td>\n      <td>138.594934</td>\n      <td>385.769119</td>\n      <td>0.0</td>\n      <td>0.0</td>\n      <td>0.0</td>\n      <td>32.0</td>\n      <td>6256.0</td>\n    </tr>\n    <tr>\n      <th>Europa</th>\n      <td>1878.0</td>\n      <td>132.838658</td>\n      <td>746.617499</td>\n      <td>0.0</td>\n      <td>0.0</td>\n      <td>0.0</td>\n      <td>0.0</td>\n      <td>14327.0</td>\n    </tr>\n    <tr>\n      <th>Mars</th>\n      <td>1581.0</td>\n      <td>541.130930</td>\n      <td>946.166443</td>\n      <td>0.0</td>\n      <td>0.0</td>\n      <td>13.0</td>\n      <td>836.0</td>\n      <td>9920.0</td>\n    </tr>\n  </tbody>\n</table>\n</div>"
     },
     "execution_count": 40,
     "metadata": {},
     "output_type": "execute_result"
    }
   ],
   "source": [
    "df[['HomePlanet', 'VIP', 'RoomService']][df.VIP==False].groupby('HomePlanet').agg({'RoomService': ['describe']})"
   ],
   "metadata": {
    "collapsed": false,
    "ExecuteTime": {
     "start_time": "2023-05-24T17:25:14.588780Z",
     "end_time": "2023-05-24T17:25:14.764310Z"
    }
   }
  },
  {
   "cell_type": "code",
   "execution_count": 41,
   "outputs": [
    {
     "data": {
      "text/plain": "<Axes: ylabel='Density'>"
     },
     "execution_count": 41,
     "metadata": {},
     "output_type": "execute_result"
    },
    {
     "data": {
      "text/plain": "<Figure size 640x480 with 1 Axes>",
      "image/png": "[encoded data removed]"
     },
     "metadata": {},
     "output_type": "display_data"
    }
   ],
   "source": [
    "df.RoomService.plot.density()"
   ],
   "metadata": {
    "collapsed": false,
    "ExecuteTime": {
     "start_time": "2023-05-24T17:25:14.659591Z",
     "end_time": "2023-05-24T17:25:15.560372Z"
    }
   }
  },
  {
   "cell_type": "code",
   "execution_count": 42,
   "outputs": [
    {
     "data": {
      "text/plain": "                            Age                                          \\\n                       describe                                           \n                          count       mean        std   min   25%   50%   \nHomePlanet Transported                                                    \nEarth      False         2598.0  27.526559  13.848813   0.0  19.0  24.0   \n           True          1916.0  24.090814  14.703833   0.0  15.0  22.0   \nEuropa     False          712.0  36.588483  12.056736   0.0  28.0  35.0   \n           True          1373.0  33.294975  13.461248   0.0  25.0  31.0   \nMars       False          818.0  31.975550  12.210992  13.0  23.0  30.0   \n           True           898.0  26.857461  16.028603   0.0  18.0  26.0   \n\n                                     \n                                     \n                          75%   max  \nHomePlanet Transported               \nEarth      False        36.00  79.0  \n           True         32.00  78.0  \nEuropa     False        43.00  79.0  \n           True         42.00  77.0  \nMars       False        39.00  73.0  \n           True         37.75  76.0  ",
      "text/html": "<div>\n<style scoped>\n    .dataframe tbody tr th:only-of-type {\n        vertical-align: middle;\n    }\n\n    .dataframe tbody tr th {\n        vertical-align: top;\n    }\n\n    .dataframe thead tr th {\n        text-align: left;\n    }\n\n    .dataframe thead tr:last-of-type th {\n        text-align: right;\n    }\n</style>\n<table border=\"1\" class=\"dataframe\">\n  <thead>\n    <tr>\n      <th></th>\n      <th></th>\n      <th colspan=\"8\" halign=\"left\">Age</th>\n    </tr>\n    <tr>\n      <th></th>\n      <th></th>\n      <th colspan=\"8\" halign=\"left\">describe</th>\n    </tr>\n    <tr>\n      <th></th>\n      <th></th>\n      <th>count</th>\n      <th>mean</th>\n      <th>std</th>\n      <th>min</th>\n      <th>25%</th>\n      <th>50%</th>\n      <th>75%</th>\n      <th>max</th>\n    </tr>\n    <tr>\n      <th>HomePlanet</th>\n      <th>Transported</th>\n      <th></th>\n      <th></th>\n      <th></th>\n      <th></th>\n      <th></th>\n      <th></th>\n      <th></th>\n      <th></th>\n    </tr>\n  </thead>\n  <tbody>\n    <tr>\n      <th rowspan=\"2\" valign=\"top\">Earth</th>\n      <th>False</th>\n      <td>2598.0</td>\n      <td>27.526559</td>\n      <td>13.848813</td>\n      <td>0.0</td>\n      <td>19.0</td>\n      <td>24.0</td>\n      <td>36.00</td>\n      <td>79.0</td>\n    </tr>\n    <tr>\n      <th>True</th>\n      <td>1916.0</td>\n      <td>24.090814</td>\n      <td>14.703833</td>\n      <td>0.0</td>\n      <td>15.0</td>\n      <td>22.0</td>\n      <td>32.00</td>\n      <td>78.0</td>\n    </tr>\n    <tr>\n      <th rowspan=\"2\" valign=\"top\">Europa</th>\n      <th>False</th>\n      <td>712.0</td>\n      <td>36.588483</td>\n      <td>12.056736</td>\n      <td>0.0</td>\n      <td>28.0</td>\n      <td>35.0</td>\n      <td>43.00</td>\n      <td>79.0</td>\n    </tr>\n    <tr>\n      <th>True</th>\n      <td>1373.0</td>\n      <td>33.294975</td>\n      <td>13.461248</td>\n      <td>0.0</td>\n      <td>25.0</td>\n      <td>31.0</td>\n      <td>42.00</td>\n      <td>77.0</td>\n    </tr>\n    <tr>\n      <th rowspan=\"2\" valign=\"top\">Mars</th>\n      <th>False</th>\n      <td>818.0</td>\n      <td>31.975550</td>\n      <td>12.210992</td>\n      <td>13.0</td>\n      <td>23.0</td>\n      <td>30.0</td>\n      <td>39.00</td>\n      <td>73.0</td>\n    </tr>\n    <tr>\n      <th>True</th>\n      <td>898.0</td>\n      <td>26.857461</td>\n      <td>16.028603</td>\n      <td>0.0</td>\n      <td>18.0</td>\n      <td>26.0</td>\n      <td>37.75</td>\n      <td>76.0</td>\n    </tr>\n  </tbody>\n</table>\n</div>"
     },
     "execution_count": 42,
     "metadata": {},
     "output_type": "execute_result"
    }
   ],
   "source": [
    "df[['Transported', 'Age', 'HomePlanet']].groupby(['HomePlanet', 'Transported']).agg({\"Age\" : ['describe']})"
   ],
   "metadata": {
    "collapsed": false,
    "ExecuteTime": {
     "start_time": "2023-05-24T17:25:15.273948Z",
     "end_time": "2023-05-24T17:25:15.565317Z"
    }
   }
  },
  {
   "cell_type": "code",
   "execution_count": 43,
   "outputs": [
    {
     "data": {
      "text/plain": "                               Age                                         \\\n                          describe                                          \n                             count       mean        std  min   25%   50%   \nDestination   Transported                                                   \n55 Cancri e   False          690.0  30.360870  13.946047  0.0  21.0  28.0   \n              True          1076.0  28.629182  14.763848  0.0  19.0  27.0   \nPSO J318.5-22 False          388.0  29.536082  13.617561  1.0  20.0  26.0   \n              True           394.0  25.553299  13.615156  0.0  18.0  23.0   \nTRAPPIST-1e   False         3058.0  29.840419  13.683751  0.0  21.0  27.0   \n              True          2729.0  27.671308  15.539517  0.0  18.0  26.0   \n\n                                       \n                                       \n                            75%   max  \nDestination   Transported              \n55 Cancri e   False        38.0  78.0  \n              True         38.0  78.0  \nPSO J318.5-22 False        38.0  73.0  \n              True         33.0  71.0  \nTRAPPIST-1e   False        38.0  79.0  \n              True         37.0  77.0  ",
      "text/html": "<div>\n<style scoped>\n    .dataframe tbody tr th:only-of-type {\n        vertical-align: middle;\n    }\n\n    .dataframe tbody tr th {\n        vertical-align: top;\n    }\n\n    .dataframe thead tr th {\n        text-align: left;\n    }\n\n    .dataframe thead tr:last-of-type th {\n        text-align: right;\n    }\n</style>\n<table border=\"1\" class=\"dataframe\">\n  <thead>\n    <tr>\n      <th></th>\n      <th></th>\n      <th colspan=\"8\" halign=\"left\">Age</th>\n    </tr>\n    <tr>\n      <th></th>\n      <th></th>\n      <th colspan=\"8\" halign=\"left\">describe</th>\n    </tr>\n    <tr>\n      <th></th>\n      <th></th>\n      <th>count</th>\n      <th>mean</th>\n      <th>std</th>\n      <th>min</th>\n      <th>25%</th>\n      <th>50%</th>\n      <th>75%</th>\n      <th>max</th>\n    </tr>\n    <tr>\n      <th>Destination</th>\n      <th>Transported</th>\n      <th></th>\n      <th></th>\n      <th></th>\n      <th></th>\n      <th></th>\n      <th></th>\n      <th></th>\n      <th></th>\n    </tr>\n  </thead>\n  <tbody>\n    <tr>\n      <th rowspan=\"2\" valign=\"top\">55 Cancri e</th>\n      <th>False</th>\n      <td>690.0</td>\n      <td>30.360870</td>\n      <td>13.946047</td>\n      <td>0.0</td>\n      <td>21.0</td>\n      <td>28.0</td>\n      <td>38.0</td>\n      <td>78.0</td>\n    </tr>\n    <tr>\n      <th>True</th>\n      <td>1076.0</td>\n      <td>28.629182</td>\n      <td>14.763848</td>\n      <td>0.0</td>\n      <td>19.0</td>\n      <td>27.0</td>\n      <td>38.0</td>\n      <td>78.0</td>\n    </tr>\n    <tr>\n      <th rowspan=\"2\" valign=\"top\">PSO J318.5-22</th>\n      <th>False</th>\n      <td>388.0</td>\n      <td>29.536082</td>\n      <td>13.617561</td>\n      <td>1.0</td>\n      <td>20.0</td>\n      <td>26.0</td>\n      <td>38.0</td>\n      <td>73.0</td>\n    </tr>\n    <tr>\n      <th>True</th>\n      <td>394.0</td>\n      <td>25.553299</td>\n      <td>13.615156</td>\n      <td>0.0</td>\n      <td>18.0</td>\n      <td>23.0</td>\n      <td>33.0</td>\n      <td>71.0</td>\n    </tr>\n    <tr>\n      <th rowspan=\"2\" valign=\"top\">TRAPPIST-1e</th>\n      <th>False</th>\n      <td>3058.0</td>\n      <td>29.840419</td>\n      <td>13.683751</td>\n      <td>0.0</td>\n      <td>21.0</td>\n      <td>27.0</td>\n      <td>38.0</td>\n      <td>79.0</td>\n    </tr>\n    <tr>\n      <th>True</th>\n      <td>2729.0</td>\n      <td>27.671308</td>\n      <td>15.539517</td>\n      <td>0.0</td>\n      <td>18.0</td>\n      <td>26.0</td>\n      <td>37.0</td>\n      <td>77.0</td>\n    </tr>\n  </tbody>\n</table>\n</div>"
     },
     "execution_count": 43,
     "metadata": {},
     "output_type": "execute_result"
    }
   ],
   "source": [
    "df[['Transported', 'Age', 'Destination']].groupby(['Destination', 'Transported']).agg({\"Age\": ['describe']})"
   ],
   "metadata": {
    "collapsed": false,
    "ExecuteTime": {
     "start_time": "2023-05-24T17:25:15.333791Z",
     "end_time": "2023-05-24T17:25:15.567311Z"
    }
   }
  },
  {
   "cell_type": "code",
   "execution_count": 44,
   "outputs": [
    {
     "data": {
      "text/plain": "     PassengerId HomePlanet CryoSleep    Destination   Age  VIP  RoomService  \\\n0        0001_01     Europa     False    TRAPPIST-1e  39.0    0          0.0   \n1        0002_01      Earth     False    TRAPPIST-1e  24.0    0        109.0   \n2        0003_01     Europa     False    TRAPPIST-1e  58.0    1         43.0   \n3        0003_02     Europa     False    TRAPPIST-1e  33.0    0          0.0   \n4        0004_01      Earth     False    TRAPPIST-1e  16.0    0        303.0   \n...          ...        ...       ...            ...   ...  ...          ...   \n8688     9276_01     Europa     False    55 Cancri e  41.0    1          0.0   \n8689     9278_01      Earth      True  PSO J318.5-22  18.0    0          0.0   \n8690     9279_01      Earth     False    TRAPPIST-1e  26.0    0          0.0   \n8691     9280_01     Europa     False    55 Cancri e  32.0    0          0.0   \n8692     9280_02     Europa     False    TRAPPIST-1e  44.0    0        126.0   \n\n      FoodCourt  ShoppingMall     Spa  VRDeck               Name  Transported  \n0           0.0           0.0     0.0     0.0    Maham Ofracculy        False  \n1           9.0          25.0   549.0    44.0       Juanna Vines         True  \n2        3576.0           0.0  6715.0    49.0      Altark Susent        False  \n3        1283.0         371.0  3329.0   193.0       Solam Susent        False  \n4          70.0         151.0   565.0     2.0  Willy Santantines         True  \n...         ...           ...     ...     ...                ...          ...  \n8688     6819.0           0.0  1643.0    74.0  Gravior Noxnuther        False  \n8689        0.0           0.0     0.0     0.0    Kurta Mondalley        False  \n8690        0.0        1872.0     1.0     0.0       Fayey Connon         True  \n8691     1049.0           0.0   353.0  3235.0   Celeon Hontichre        False  \n8692     4688.0           0.0     0.0    12.0   Propsh Hontichre         True  \n\n[8514 rows x 13 columns]",
      "text/html": "<div>\n<style scoped>\n    .dataframe tbody tr th:only-of-type {\n        vertical-align: middle;\n    }\n\n    .dataframe tbody tr th {\n        vertical-align: top;\n    }\n\n    .dataframe thead th {\n        text-align: right;\n    }\n</style>\n<table border=\"1\" class=\"dataframe\">\n  <thead>\n    <tr style=\"text-align: right;\">\n      <th></th>\n      <th>PassengerId</th>\n      <th>HomePlanet</th>\n      <th>CryoSleep</th>\n      <th>Destination</th>\n      <th>Age</th>\n      <th>VIP</th>\n      <th>RoomService</th>\n      <th>FoodCourt</th>\n      <th>ShoppingMall</th>\n      <th>Spa</th>\n      <th>VRDeck</th>\n      <th>Name</th>\n      <th>Transported</th>\n    </tr>\n  </thead>\n  <tbody>\n    <tr>\n      <th>0</th>\n      <td>0001_01</td>\n      <td>Europa</td>\n      <td>False</td>\n      <td>TRAPPIST-1e</td>\n      <td>39.0</td>\n      <td>0</td>\n      <td>0.0</td>\n      <td>0.0</td>\n      <td>0.0</td>\n      <td>0.0</td>\n      <td>0.0</td>\n      <td>Maham Ofracculy</td>\n      <td>False</td>\n    </tr>\n    <tr>\n      <th>1</th>\n      <td>0002_01</td>\n      <td>Earth</td>\n      <td>False</td>\n      <td>TRAPPIST-1e</td>\n      <td>24.0</td>\n      <td>0</td>\n      <td>109.0</td>\n      <td>9.0</td>\n      <td>25.0</td>\n      <td>549.0</td>\n      <td>44.0</td>\n      <td>Juanna Vines</td>\n      <td>True</td>\n    </tr>\n    <tr>\n      <th>2</th>\n      <td>0003_01</td>\n      <td>Europa</td>\n      <td>False</td>\n      <td>TRAPPIST-1e</td>\n      <td>58.0</td>\n      <td>1</td>\n      <td>43.0</td>\n      <td>3576.0</td>\n      <td>0.0</td>\n      <td>6715.0</td>\n      <td>49.0</td>\n      <td>Altark Susent</td>\n      <td>False</td>\n    </tr>\n    <tr>\n      <th>3</th>\n      <td>0003_02</td>\n      <td>Europa</td>\n      <td>False</td>\n      <td>TRAPPIST-1e</td>\n      <td>33.0</td>\n      <td>0</td>\n      <td>0.0</td>\n      <td>1283.0</td>\n      <td>371.0</td>\n      <td>3329.0</td>\n      <td>193.0</td>\n      <td>Solam Susent</td>\n      <td>False</td>\n    </tr>\n    <tr>\n      <th>4</th>\n      <td>0004_01</td>\n      <td>Earth</td>\n      <td>False</td>\n      <td>TRAPPIST-1e</td>\n      <td>16.0</td>\n      <td>0</td>\n      <td>303.0</td>\n      <td>70.0</td>\n      <td>151.0</td>\n      <td>565.0</td>\n      <td>2.0</td>\n      <td>Willy Santantines</td>\n      <td>True</td>\n    </tr>\n    <tr>\n      <th>...</th>\n      <td>...</td>\n      <td>...</td>\n      <td>...</td>\n      <td>...</td>\n      <td>...</td>\n      <td>...</td>\n      <td>...</td>\n      <td>...</td>\n      <td>...</td>\n      <td>...</td>\n      <td>...</td>\n      <td>...</td>\n      <td>...</td>\n    </tr>\n    <tr>\n      <th>8688</th>\n      <td>9276_01</td>\n      <td>Europa</td>\n      <td>False</td>\n      <td>55 Cancri e</td>\n      <td>41.0</td>\n      <td>1</td>\n      <td>0.0</td>\n      <td>6819.0</td>\n      <td>0.0</td>\n      <td>1643.0</td>\n      <td>74.0</td>\n      <td>Gravior Noxnuther</td>\n      <td>False</td>\n    </tr>\n    <tr>\n      <th>8689</th>\n      <td>9278_01</td>\n      <td>Earth</td>\n      <td>True</td>\n      <td>PSO J318.5-22</td>\n      <td>18.0</td>\n      <td>0</td>\n      <td>0.0</td>\n      <td>0.0</td>\n      <td>0.0</td>\n      <td>0.0</td>\n      <td>0.0</td>\n      <td>Kurta Mondalley</td>\n      <td>False</td>\n    </tr>\n    <tr>\n      <th>8690</th>\n      <td>9279_01</td>\n      <td>Earth</td>\n      <td>False</td>\n      <td>TRAPPIST-1e</td>\n      <td>26.0</td>\n      <td>0</td>\n      <td>0.0</td>\n      <td>0.0</td>\n      <td>1872.0</td>\n      <td>1.0</td>\n      <td>0.0</td>\n      <td>Fayey Connon</td>\n      <td>True</td>\n    </tr>\n    <tr>\n      <th>8691</th>\n      <td>9280_01</td>\n      <td>Europa</td>\n      <td>False</td>\n      <td>55 Cancri e</td>\n      <td>32.0</td>\n      <td>0</td>\n      <td>0.0</td>\n      <td>1049.0</td>\n      <td>0.0</td>\n      <td>353.0</td>\n      <td>3235.0</td>\n      <td>Celeon Hontichre</td>\n      <td>False</td>\n    </tr>\n    <tr>\n      <th>8692</th>\n      <td>9280_02</td>\n      <td>Europa</td>\n      <td>False</td>\n      <td>TRAPPIST-1e</td>\n      <td>44.0</td>\n      <td>0</td>\n      <td>126.0</td>\n      <td>4688.0</td>\n      <td>0.0</td>\n      <td>0.0</td>\n      <td>12.0</td>\n      <td>Propsh Hontichre</td>\n      <td>True</td>\n    </tr>\n  </tbody>\n</table>\n<p>8514 rows × 13 columns</p>\n</div>"
     },
     "execution_count": 44,
     "metadata": {},
     "output_type": "execute_result"
    }
   ],
   "source": [
    "df.VIP = df.VIP.apply(lambda x: 1 if x else 0)\n",
    "df"
   ],
   "metadata": {
    "collapsed": false,
    "ExecuteTime": {
     "start_time": "2023-05-24T17:25:15.376674Z",
     "end_time": "2023-05-24T17:25:15.568348Z"
    }
   }
  },
  {
   "cell_type": "code",
   "execution_count": null,
   "outputs": [],
   "source": [
    "data = dict(\n",
    "    A=[1, 2, 3],\n",
    "    B=['a', 'b', 'c'],\n",
    "    C=[-1, -2, -3]\n",
    ")"
   ],
   "metadata": {
    "collapsed": false
   }
  },
  {
   "cell_type": "code",
   "execution_count": null,
   "outputs": [],
   "source": [
    "\n",
    "new_df = pd.DataFrame(data, columns=['A', 'B', 'C'], dtype=str)\n",
    "new_df"
   ],
   "metadata": {
    "collapsed": false
   }
  },
  {
   "cell_type": "code",
   "execution_count": null,
   "outputs": [],
   "source": [],
   "metadata": {
    "collapsed": false
   }
  },
  {
   "cell_type": "code",
   "execution_count": null,
   "outputs": [],
   "source": [
    "new_df.info()"
   ],
   "metadata": {
    "collapsed": false
   }
  },
  {
   "cell_type": "code",
   "execution_count": null,
   "outputs": [],
   "source": [
    "new_df.A = new_df['A'].astype('int64')"
   ],
   "metadata": {
    "collapsed": false,
    "ExecuteTime": {
     "start_time": "2023-05-24T15:45:51.699746Z",
     "end_time": "2023-05-24T15:45:51.712712Z"
    }
   }
  },
  {
   "cell_type": "code",
   "execution_count": null,
   "outputs": [],
   "source": [
    "new_df.info()"
   ],
   "metadata": {
    "collapsed": false,
    "ExecuteTime": {
     "start_time": "2023-05-24T15:46:01.846377Z",
     "end_time": "2023-05-24T15:46:01.896032Z"
    }
   }
  },
  {
   "cell_type": "code",
   "execution_count": null,
   "outputs": [],
   "source": [
    "df.describe()"
   ],
   "metadata": {
    "collapsed": false,
    "ExecuteTime": {
     "start_time": "2023-05-24T15:51:12.323576Z",
     "end_time": "2023-05-24T15:51:12.368455Z"
    }
   }
  },
  {
   "cell_type": "code",
   "execution_count": null,
   "outputs": [],
   "source": [
    "df['HomePlanet'].unique()"
   ],
   "metadata": {
    "collapsed": false,
    "ExecuteTime": {
     "start_time": "2023-05-24T15:51:45.305617Z",
     "end_time": "2023-05-24T15:51:45.325596Z"
    }
   }
  },
  {
   "cell_type": "code",
   "execution_count": null,
   "outputs": [],
   "source": [
    "df['HomePlanet'].value_counts(normalize=True)"
   ],
   "metadata": {
    "collapsed": false,
    "ExecuteTime": {
     "start_time": "2023-05-24T15:55:53.560022Z",
     "end_time": "2023-05-24T15:55:53.582234Z"
    }
   }
  },
  {
   "cell_type": "code",
   "execution_count": null,
   "outputs": [],
   "source": [
    "df[['Destination', 'HomePlanet']].value_counts(normalize=True, dropna=False)"
   ],
   "metadata": {
    "collapsed": false,
    "ExecuteTime": {
     "start_time": "2023-05-24T17:12:48.871155Z",
     "end_time": "2023-05-24T17:12:48.914259Z"
    }
   }
  },
  {
   "cell_type": "code",
   "execution_count": null,
   "outputs": [],
   "source": [
    "df.info()"
   ],
   "metadata": {
    "collapsed": false,
    "ExecuteTime": {
     "start_time": "2023-05-24T17:13:29.205351Z",
     "end_time": "2023-05-24T17:13:29.255251Z"
    }
   }
  },
  {
   "cell_type": "code",
   "execution_count": null,
   "outputs": [],
   "source": [
    "df['HomePlanet'].value_counts(dropna=False)"
   ],
   "metadata": {
    "collapsed": false,
    "ExecuteTime": {
     "start_time": "2023-05-24T17:22:03.091428Z",
     "end_time": "2023-05-24T17:22:03.122942Z"
    }
   }
  },
  {
   "cell_type": "code",
   "execution_count": null,
   "outputs": [],
   "source": [
    "df['HomePlanet'].value_counts(normalize=True)"
   ],
   "metadata": {
    "collapsed": false,
    "ExecuteTime": {
     "start_time": "2023-05-24T17:21:37.981678Z",
     "end_time": "2023-05-24T17:21:37.999173Z"
    }
   }
  },
  {
   "cell_type": "code",
   "execution_count": null,
   "outputs": [],
   "source": [
    "df['HomePlanet'].mode()"
   ],
   "metadata": {
    "collapsed": false,
    "ExecuteTime": {
     "start_time": "2023-05-24T17:19:10.337324Z",
     "end_time": "2023-05-24T17:19:10.362000Z"
    }
   }
  },
  {
   "cell_type": "code",
   "execution_count": 46,
   "outputs": [
    {
     "data": {
      "text/plain": "Earth     4713\nEuropa    2085\nMars      1716\nName: HomePlanet, dtype: int64"
     },
     "execution_count": 46,
     "metadata": {},
     "output_type": "execute_result"
    }
   ],
   "source": [
    "df['HomePlanet'].fillna(df['HomePlanet'].mode()[0], inplace=True)\n",
    "df['HomePlanet'].value_counts()"
   ],
   "metadata": {
    "collapsed": false,
    "ExecuteTime": {
     "start_time": "2023-05-24T17:29:10.551201Z",
     "end_time": "2023-05-24T17:29:10.566187Z"
    }
   }
  },
  {
   "cell_type": "code",
   "execution_count": 53,
   "outputs": [
    {
     "data": {
      "text/plain": "     PassengerId HomePlanet CryoSleep  Destination   Age  VIP  RoomService  \\\n0        0017_01      Earth     False  TRAPPIST-1e   0.0    0          0.0   \n1        0092_02      Earth      True  TRAPPIST-1e   0.0    0          0.0   \n2        0108_03      Earth     False  TRAPPIST-1e   0.0    1          0.0   \n3        0179_02      Earth     False  TRAPPIST-1e   0.0    0          0.0   \n4        0193_03       Mars     False  TRAPPIST-1e   0.0    0          0.0   \n...          ...        ...       ...          ...   ...  ...          ...   \n8509     3938_01       Mars      True          NaN  56.0    0          0.0   \n8510     7478_01     Europa     False          NaN  56.0    0          0.0   \n8511     7776_01     Europa     False          NaN  57.0    0          0.0   \n8512     7238_01       Mars     False          NaN  60.0    0        180.0   \n8513     7952_01       Mars     False          NaN  62.0    0        100.0   \n\n      FoodCourt  ShoppingMall     Spa  VRDeck               Name  Transported  \n0           0.0           0.0     0.0     0.0      Lyde Brighttt         True  \n1           0.0           NaN     0.0     0.0       Stald Hewson         True  \n2           0.0           0.0     0.0     0.0    Oline Handertiz         True  \n3           0.0           0.0     0.0     0.0  Raque Webstephrey        False  \n4           0.0           0.0     0.0     0.0          Goles Raf         True  \n...         ...           ...     ...     ...                ...          ...  \n8509        0.0           0.0     0.0     0.0                NaN         True  \n8510     5711.0           0.0     0.0    50.0   Minchib Porkilte         True  \n8511      412.0           0.0  5491.0   234.0     Pollum Craleve        False  \n8512        0.0         414.0  1181.0     0.0         Totax Tirt        False  \n8513        0.0          38.0  1211.0     0.0         Yots Sueke        False  \n\n[8514 rows x 13 columns]",
      "text/html": "<div>\n<style scoped>\n    .dataframe tbody tr th:only-of-type {\n        vertical-align: middle;\n    }\n\n    .dataframe tbody tr th {\n        vertical-align: top;\n    }\n\n    .dataframe thead th {\n        text-align: right;\n    }\n</style>\n<table border=\"1\" class=\"dataframe\">\n  <thead>\n    <tr style=\"text-align: right;\">\n      <th></th>\n      <th>PassengerId</th>\n      <th>HomePlanet</th>\n      <th>CryoSleep</th>\n      <th>Destination</th>\n      <th>Age</th>\n      <th>VIP</th>\n      <th>RoomService</th>\n      <th>FoodCourt</th>\n      <th>ShoppingMall</th>\n      <th>Spa</th>\n      <th>VRDeck</th>\n      <th>Name</th>\n      <th>Transported</th>\n    </tr>\n  </thead>\n  <tbody>\n    <tr>\n      <th>0</th>\n      <td>0017_01</td>\n      <td>Earth</td>\n      <td>False</td>\n      <td>TRAPPIST-1e</td>\n      <td>0.0</td>\n      <td>0</td>\n      <td>0.0</td>\n      <td>0.0</td>\n      <td>0.0</td>\n      <td>0.0</td>\n      <td>0.0</td>\n      <td>Lyde Brighttt</td>\n      <td>True</td>\n    </tr>\n    <tr>\n      <th>1</th>\n      <td>0092_02</td>\n      <td>Earth</td>\n      <td>True</td>\n      <td>TRAPPIST-1e</td>\n      <td>0.0</td>\n      <td>0</td>\n      <td>0.0</td>\n      <td>0.0</td>\n      <td>NaN</td>\n      <td>0.0</td>\n      <td>0.0</td>\n      <td>Stald Hewson</td>\n      <td>True</td>\n    </tr>\n    <tr>\n      <th>2</th>\n      <td>0108_03</td>\n      <td>Earth</td>\n      <td>False</td>\n      <td>TRAPPIST-1e</td>\n      <td>0.0</td>\n      <td>1</td>\n      <td>0.0</td>\n      <td>0.0</td>\n      <td>0.0</td>\n      <td>0.0</td>\n      <td>0.0</td>\n      <td>Oline Handertiz</td>\n      <td>True</td>\n    </tr>\n    <tr>\n      <th>3</th>\n      <td>0179_02</td>\n      <td>Earth</td>\n      <td>False</td>\n      <td>TRAPPIST-1e</td>\n      <td>0.0</td>\n      <td>0</td>\n      <td>0.0</td>\n      <td>0.0</td>\n      <td>0.0</td>\n      <td>0.0</td>\n      <td>0.0</td>\n      <td>Raque Webstephrey</td>\n      <td>False</td>\n    </tr>\n    <tr>\n      <th>4</th>\n      <td>0193_03</td>\n      <td>Mars</td>\n      <td>False</td>\n      <td>TRAPPIST-1e</td>\n      <td>0.0</td>\n      <td>0</td>\n      <td>0.0</td>\n      <td>0.0</td>\n      <td>0.0</td>\n      <td>0.0</td>\n      <td>0.0</td>\n      <td>Goles Raf</td>\n      <td>True</td>\n    </tr>\n    <tr>\n      <th>...</th>\n      <td>...</td>\n      <td>...</td>\n      <td>...</td>\n      <td>...</td>\n      <td>...</td>\n      <td>...</td>\n      <td>...</td>\n      <td>...</td>\n      <td>...</td>\n      <td>...</td>\n      <td>...</td>\n      <td>...</td>\n      <td>...</td>\n    </tr>\n    <tr>\n      <th>8509</th>\n      <td>3938_01</td>\n      <td>Mars</td>\n      <td>True</td>\n      <td>NaN</td>\n      <td>56.0</td>\n      <td>0</td>\n      <td>0.0</td>\n      <td>0.0</td>\n      <td>0.0</td>\n      <td>0.0</td>\n      <td>0.0</td>\n      <td>NaN</td>\n      <td>True</td>\n    </tr>\n    <tr>\n      <th>8510</th>\n      <td>7478_01</td>\n      <td>Europa</td>\n      <td>False</td>\n      <td>NaN</td>\n      <td>56.0</td>\n      <td>0</td>\n      <td>0.0</td>\n      <td>5711.0</td>\n      <td>0.0</td>\n      <td>0.0</td>\n      <td>50.0</td>\n      <td>Minchib Porkilte</td>\n      <td>True</td>\n    </tr>\n    <tr>\n      <th>8511</th>\n      <td>7776_01</td>\n      <td>Europa</td>\n      <td>False</td>\n      <td>NaN</td>\n      <td>57.0</td>\n      <td>0</td>\n      <td>0.0</td>\n      <td>412.0</td>\n      <td>0.0</td>\n      <td>5491.0</td>\n      <td>234.0</td>\n      <td>Pollum Craleve</td>\n      <td>False</td>\n    </tr>\n    <tr>\n      <th>8512</th>\n      <td>7238_01</td>\n      <td>Mars</td>\n      <td>False</td>\n      <td>NaN</td>\n      <td>60.0</td>\n      <td>0</td>\n      <td>180.0</td>\n      <td>0.0</td>\n      <td>414.0</td>\n      <td>1181.0</td>\n      <td>0.0</td>\n      <td>Totax Tirt</td>\n      <td>False</td>\n    </tr>\n    <tr>\n      <th>8513</th>\n      <td>7952_01</td>\n      <td>Mars</td>\n      <td>False</td>\n      <td>NaN</td>\n      <td>62.0</td>\n      <td>0</td>\n      <td>100.0</td>\n      <td>0.0</td>\n      <td>38.0</td>\n      <td>1211.0</td>\n      <td>0.0</td>\n      <td>Yots Sueke</td>\n      <td>False</td>\n    </tr>\n  </tbody>\n</table>\n<p>8514 rows × 13 columns</p>\n</div>"
     },
     "execution_count": 53,
     "metadata": {},
     "output_type": "execute_result"
    }
   ],
   "source": [
    "df.sort_values(by=['Destination', \"Age\"], ascending=[False, True]).reset_index(drop=True)"
   ],
   "metadata": {
    "collapsed": false,
    "ExecuteTime": {
     "start_time": "2023-05-24T17:34:14.743507Z",
     "end_time": "2023-05-24T17:34:14.817147Z"
    }
   }
  },
  {
   "cell_type": "code",
   "execution_count": 54,
   "outputs": [
    {
     "data": {
      "text/plain": "array(['Europa', 'Earth', 'Mars'], dtype=object)"
     },
     "execution_count": 54,
     "metadata": {},
     "output_type": "execute_result"
    }
   ],
   "source": [
    "df['HomePlanet'].unique()"
   ],
   "metadata": {
    "collapsed": false,
    "ExecuteTime": {
     "start_time": "2023-05-24T17:35:24.959652Z",
     "end_time": "2023-05-24T17:35:25.035432Z"
    }
   }
  },
  {
   "cell_type": "code",
   "execution_count": 55,
   "outputs": [],
   "source": [
    "map_conditions = {\n",
    "'Europa': 1,\n",
    "'Earth': 2,\n",
    "'Mars': 3\n",
    "}"
   ],
   "metadata": {
    "collapsed": false,
    "ExecuteTime": {
     "start_time": "2023-05-24T17:36:51.454454Z",
     "end_time": "2023-05-24T17:36:51.472321Z"
    }
   }
  },
  {
   "cell_type": "code",
   "execution_count": 56,
   "outputs": [
    {
     "data": {
      "text/plain": "     PassengerId  HomePlanet CryoSleep    Destination   Age  VIP  RoomService  \\\n0        0001_01           1     False    TRAPPIST-1e  39.0    0          0.0   \n1        0002_01           2     False    TRAPPIST-1e  24.0    0        109.0   \n2        0003_01           1     False    TRAPPIST-1e  58.0    1         43.0   \n3        0003_02           1     False    TRAPPIST-1e  33.0    0          0.0   \n4        0004_01           2     False    TRAPPIST-1e  16.0    0        303.0   \n...          ...         ...       ...            ...   ...  ...          ...   \n8688     9276_01           1     False    55 Cancri e  41.0    1          0.0   \n8689     9278_01           2      True  PSO J318.5-22  18.0    0          0.0   \n8690     9279_01           2     False    TRAPPIST-1e  26.0    0          0.0   \n8691     9280_01           1     False    55 Cancri e  32.0    0          0.0   \n8692     9280_02           1     False    TRAPPIST-1e  44.0    0        126.0   \n\n      FoodCourt  ShoppingMall     Spa  VRDeck               Name  Transported  \n0           0.0           0.0     0.0     0.0    Maham Ofracculy        False  \n1           9.0          25.0   549.0    44.0       Juanna Vines         True  \n2        3576.0           0.0  6715.0    49.0      Altark Susent        False  \n3        1283.0         371.0  3329.0   193.0       Solam Susent        False  \n4          70.0         151.0   565.0     2.0  Willy Santantines         True  \n...         ...           ...     ...     ...                ...          ...  \n8688     6819.0           0.0  1643.0    74.0  Gravior Noxnuther        False  \n8689        0.0           0.0     0.0     0.0    Kurta Mondalley        False  \n8690        0.0        1872.0     1.0     0.0       Fayey Connon         True  \n8691     1049.0           0.0   353.0  3235.0   Celeon Hontichre        False  \n8692     4688.0           0.0     0.0    12.0   Propsh Hontichre         True  \n\n[8514 rows x 13 columns]",
      "text/html": "<div>\n<style scoped>\n    .dataframe tbody tr th:only-of-type {\n        vertical-align: middle;\n    }\n\n    .dataframe tbody tr th {\n        vertical-align: top;\n    }\n\n    .dataframe thead th {\n        text-align: right;\n    }\n</style>\n<table border=\"1\" class=\"dataframe\">\n  <thead>\n    <tr style=\"text-align: right;\">\n      <th></th>\n      <th>PassengerId</th>\n      <th>HomePlanet</th>\n      <th>CryoSleep</th>\n      <th>Destination</th>\n      <th>Age</th>\n      <th>VIP</th>\n      <th>RoomService</th>\n      <th>FoodCourt</th>\n      <th>ShoppingMall</th>\n      <th>Spa</th>\n      <th>VRDeck</th>\n      <th>Name</th>\n      <th>Transported</th>\n    </tr>\n  </thead>\n  <tbody>\n    <tr>\n      <th>0</th>\n      <td>0001_01</td>\n      <td>1</td>\n      <td>False</td>\n      <td>TRAPPIST-1e</td>\n      <td>39.0</td>\n      <td>0</td>\n      <td>0.0</td>\n      <td>0.0</td>\n      <td>0.0</td>\n      <td>0.0</td>\n      <td>0.0</td>\n      <td>Maham Ofracculy</td>\n      <td>False</td>\n    </tr>\n    <tr>\n      <th>1</th>\n      <td>0002_01</td>\n      <td>2</td>\n      <td>False</td>\n      <td>TRAPPIST-1e</td>\n      <td>24.0</td>\n      <td>0</td>\n      <td>109.0</td>\n      <td>9.0</td>\n      <td>25.0</td>\n      <td>549.0</td>\n      <td>44.0</td>\n      <td>Juanna Vines</td>\n      <td>True</td>\n    </tr>\n    <tr>\n      <th>2</th>\n      <td>0003_01</td>\n      <td>1</td>\n      <td>False</td>\n      <td>TRAPPIST-1e</td>\n      <td>58.0</td>\n      <td>1</td>\n      <td>43.0</td>\n      <td>3576.0</td>\n      <td>0.0</td>\n      <td>6715.0</td>\n      <td>49.0</td>\n      <td>Altark Susent</td>\n      <td>False</td>\n    </tr>\n    <tr>\n      <th>3</th>\n      <td>0003_02</td>\n      <td>1</td>\n      <td>False</td>\n      <td>TRAPPIST-1e</td>\n      <td>33.0</td>\n      <td>0</td>\n      <td>0.0</td>\n      <td>1283.0</td>\n      <td>371.0</td>\n      <td>3329.0</td>\n      <td>193.0</td>\n      <td>Solam Susent</td>\n      <td>False</td>\n    </tr>\n    <tr>\n      <th>4</th>\n      <td>0004_01</td>\n      <td>2</td>\n      <td>False</td>\n      <td>TRAPPIST-1e</td>\n      <td>16.0</td>\n      <td>0</td>\n      <td>303.0</td>\n      <td>70.0</td>\n      <td>151.0</td>\n      <td>565.0</td>\n      <td>2.0</td>\n      <td>Willy Santantines</td>\n      <td>True</td>\n    </tr>\n    <tr>\n      <th>...</th>\n      <td>...</td>\n      <td>...</td>\n      <td>...</td>\n      <td>...</td>\n      <td>...</td>\n      <td>...</td>\n      <td>...</td>\n      <td>...</td>\n      <td>...</td>\n      <td>...</td>\n      <td>...</td>\n      <td>...</td>\n      <td>...</td>\n    </tr>\n    <tr>\n      <th>8688</th>\n      <td>9276_01</td>\n      <td>1</td>\n      <td>False</td>\n      <td>55 Cancri e</td>\n      <td>41.0</td>\n      <td>1</td>\n      <td>0.0</td>\n      <td>6819.0</td>\n      <td>0.0</td>\n      <td>1643.0</td>\n      <td>74.0</td>\n      <td>Gravior Noxnuther</td>\n      <td>False</td>\n    </tr>\n    <tr>\n      <th>8689</th>\n      <td>9278_01</td>\n      <td>2</td>\n      <td>True</td>\n      <td>PSO J318.5-22</td>\n      <td>18.0</td>\n      <td>0</td>\n      <td>0.0</td>\n      <td>0.0</td>\n      <td>0.0</td>\n      <td>0.0</td>\n      <td>0.0</td>\n      <td>Kurta Mondalley</td>\n      <td>False</td>\n    </tr>\n    <tr>\n      <th>8690</th>\n      <td>9279_01</td>\n      <td>2</td>\n      <td>False</td>\n      <td>TRAPPIST-1e</td>\n      <td>26.0</td>\n      <td>0</td>\n      <td>0.0</td>\n      <td>0.0</td>\n      <td>1872.0</td>\n      <td>1.0</td>\n      <td>0.0</td>\n      <td>Fayey Connon</td>\n      <td>True</td>\n    </tr>\n    <tr>\n      <th>8691</th>\n      <td>9280_01</td>\n      <td>1</td>\n      <td>False</td>\n      <td>55 Cancri e</td>\n      <td>32.0</td>\n      <td>0</td>\n      <td>0.0</td>\n      <td>1049.0</td>\n      <td>0.0</td>\n      <td>353.0</td>\n      <td>3235.0</td>\n      <td>Celeon Hontichre</td>\n      <td>False</td>\n    </tr>\n    <tr>\n      <th>8692</th>\n      <td>9280_02</td>\n      <td>1</td>\n      <td>False</td>\n      <td>TRAPPIST-1e</td>\n      <td>44.0</td>\n      <td>0</td>\n      <td>126.0</td>\n      <td>4688.0</td>\n      <td>0.0</td>\n      <td>0.0</td>\n      <td>12.0</td>\n      <td>Propsh Hontichre</td>\n      <td>True</td>\n    </tr>\n  </tbody>\n</table>\n<p>8514 rows × 13 columns</p>\n</div>"
     },
     "execution_count": 56,
     "metadata": {},
     "output_type": "execute_result"
    }
   ],
   "source": [
    "df['HomePlanet'] = df['HomePlanet'].map(map_conditions)\n",
    "df"
   ],
   "metadata": {
    "collapsed": false,
    "ExecuteTime": {
     "start_time": "2023-05-24T17:37:53.832106Z",
     "end_time": "2023-05-24T17:37:53.878495Z"
    }
   }
  }
 ],
 "metadata": {
  "kernelspec": {
   "display_name": "Python 3",
   "language": "python",
   "name": "python3"
  },
  "language_info": {
   "codemirror_mode": {
    "name": "ipython",
    "version": 2
   },
   "file_extension": ".py",
   "mimetype": "text/x-python",
   "name": "python",
   "nbconvert_exporter": "python",
   "pygments_lexer": "ipython2",
   "version": "2.7.6"
  }
 },
 "nbformat": 4,
 "nbformat_minor": 0
}
