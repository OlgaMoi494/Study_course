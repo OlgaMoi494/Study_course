{
 "cells": [
  {
   "cell_type": "code",
   "execution_count": 92,
   "outputs": [],
   "source": [
    "\n",
    "import numpy as np"
   ],
   "metadata": {
    "collapsed": false,
    "ExecuteTime": {
     "start_time": "2023-06-04T01:06:34.165433Z",
     "end_time": "2023-06-04T01:06:34.190898Z"
    }
   }
  },
  {
   "cell_type": "code",
   "execution_count": 93,
   "outputs": [],
   "source": [
    "scalar_value = 10\n",
    "simple_vector = np.array([1, 5, 2, 3])\n",
    "simple_matrix = np.array([[4, 3, 2, 1], [7, 5, 8, 2]])"
   ],
   "metadata": {
    "collapsed": false,
    "ExecuteTime": {
     "start_time": "2023-06-04T01:06:38.597695Z",
     "end_time": "2023-06-04T01:06:38.643240Z"
    }
   }
  },
  {
   "cell_type": "code",
   "execution_count": 94,
   "outputs": [
    {
     "data": {
      "text/plain": "array([1, 5, 2, 3])"
     },
     "execution_count": 94,
     "metadata": {},
     "output_type": "execute_result"
    }
   ],
   "source": [
    "simple_vector"
   ],
   "metadata": {
    "collapsed": false,
    "ExecuteTime": {
     "start_time": "2023-06-04T01:06:41.313391Z",
     "end_time": "2023-06-04T01:06:41.337325Z"
    }
   }
  },
  {
   "cell_type": "code",
   "execution_count": 95,
   "outputs": [
    {
     "data": {
      "text/plain": "array([ 1,  5,  2,  3, 15])"
     },
     "execution_count": 95,
     "metadata": {},
     "output_type": "execute_result"
    }
   ],
   "source": [
    "wrong_vector = np.append(simple_vector, 15)\n",
    "wrong_vector"
   ],
   "metadata": {
    "collapsed": false,
    "ExecuteTime": {
     "start_time": "2023-06-04T01:06:43.430746Z",
     "end_time": "2023-06-04T01:06:43.454678Z"
    }
   }
  },
  {
   "cell_type": "code",
   "execution_count": 96,
   "outputs": [
    {
     "data": {
      "text/plain": "array([[4, 3, 2, 1],\n       [7, 5, 8, 2]])"
     },
     "execution_count": 96,
     "metadata": {},
     "output_type": "execute_result"
    }
   ],
   "source": [
    "simple_matrix"
   ],
   "metadata": {
    "collapsed": false,
    "ExecuteTime": {
     "start_time": "2023-06-04T01:06:46.739763Z",
     "end_time": "2023-06-04T01:06:46.756818Z"
    }
   }
  },
  {
   "cell_type": "code",
   "execution_count": 97,
   "outputs": [
    {
     "data": {
      "text/plain": "[2, 10, 4, 6]"
     },
     "execution_count": 97,
     "metadata": {},
     "output_type": "execute_result"
    }
   ],
   "source": [
    "def matsum_vector_vector(vector_first, vector_second):\n",
    "    assert len(vector_first.shape) == len(vector_second.shape) == 1, 'Vectors calculated should be one-columns arrays'\n",
    "    assert len(vector_first) == len(vector_second), 'Vectors calculated should be of equal length.'\n",
    "    return [v_f + v_s for v_f, v_s in zip(vector_first, vector_second)]\n",
    "matsum_vector_vector(simple_vector, simple_vector)"
   ],
   "metadata": {
    "collapsed": false,
    "ExecuteTime": {
     "start_time": "2023-06-04T01:06:58.327965Z",
     "end_time": "2023-06-04T01:06:58.353258Z"
    }
   }
  },
  {
   "cell_type": "code",
   "execution_count": 98,
   "outputs": [
    {
     "data": {
      "text/plain": "array([ 2, 10,  4,  6])"
     },
     "execution_count": 98,
     "metadata": {},
     "output_type": "execute_result"
    }
   ],
   "source": [
    "simple_vector + simple_vector"
   ],
   "metadata": {
    "collapsed": false,
    "ExecuteTime": {
     "start_time": "2023-06-04T01:07:33.694949Z",
     "end_time": "2023-06-04T01:07:33.719121Z"
    }
   }
  },
  {
   "cell_type": "code",
   "execution_count": 99,
   "outputs": [
    {
     "ename": "AssertionError",
     "evalue": "Vectors calculated should be one-columns arrays",
     "output_type": "error",
     "traceback": [
      "\u001B[1;31m---------------------------------------------------------------------------\u001B[0m",
      "\u001B[1;31mAssertionError\u001B[0m                            Traceback (most recent call last)",
      "Cell \u001B[1;32mIn[99], line 1\u001B[0m\n\u001B[1;32m----> 1\u001B[0m \u001B[43mmatsum_vector_vector\u001B[49m\u001B[43m(\u001B[49m\u001B[43msimple_vector\u001B[49m\u001B[43m,\u001B[49m\u001B[43m \u001B[49m\u001B[43msimple_matrix\u001B[49m\u001B[43m)\u001B[49m\n",
      "Cell \u001B[1;32mIn[97], line 2\u001B[0m, in \u001B[0;36mmatsum_vector_vector\u001B[1;34m(vector_first, vector_second)\u001B[0m\n\u001B[0;32m      1\u001B[0m \u001B[38;5;28;01mdef\u001B[39;00m \u001B[38;5;21mmatsum_vector_vector\u001B[39m(vector_first, vector_second):\n\u001B[1;32m----> 2\u001B[0m     \u001B[38;5;28;01massert\u001B[39;00m \u001B[38;5;28mlen\u001B[39m(vector_first\u001B[38;5;241m.\u001B[39mshape) \u001B[38;5;241m==\u001B[39m \u001B[38;5;28mlen\u001B[39m(vector_second\u001B[38;5;241m.\u001B[39mshape) \u001B[38;5;241m==\u001B[39m \u001B[38;5;241m1\u001B[39m, \u001B[38;5;124m'\u001B[39m\u001B[38;5;124mVectors calculated should be one-columns arrays\u001B[39m\u001B[38;5;124m'\u001B[39m\n\u001B[0;32m      3\u001B[0m     \u001B[38;5;28;01massert\u001B[39;00m \u001B[38;5;28mlen\u001B[39m(vector_first) \u001B[38;5;241m==\u001B[39m \u001B[38;5;28mlen\u001B[39m(vector_second), \u001B[38;5;124m'\u001B[39m\u001B[38;5;124mVectors calculated should be of equal length.\u001B[39m\u001B[38;5;124m'\u001B[39m\n\u001B[0;32m      4\u001B[0m     \u001B[38;5;28;01mreturn\u001B[39;00m [v_f \u001B[38;5;241m+\u001B[39m v_s \u001B[38;5;28;01mfor\u001B[39;00m v_f, v_s \u001B[38;5;129;01min\u001B[39;00m \u001B[38;5;28mzip\u001B[39m(vector_first, vector_second)]\n",
      "\u001B[1;31mAssertionError\u001B[0m: Vectors calculated should be one-columns arrays"
     ]
    }
   ],
   "source": [
    "matsum_vector_vector(simple_vector, simple_matrix)"
   ],
   "metadata": {
    "collapsed": false
   }
  },
  {
   "cell_type": "code",
   "execution_count": 100,
   "outputs": [
    {
     "ename": "AssertionError",
     "evalue": "Vectors calculated should be of equal length.",
     "output_type": "error",
     "traceback": [
      "\u001B[1;31m---------------------------------------------------------------------------\u001B[0m",
      "\u001B[1;31mAssertionError\u001B[0m                            Traceback (most recent call last)",
      "Cell \u001B[1;32mIn[100], line 1\u001B[0m\n\u001B[1;32m----> 1\u001B[0m \u001B[43mmatsum_vector_vector\u001B[49m\u001B[43m(\u001B[49m\u001B[43msimple_vector\u001B[49m\u001B[43m,\u001B[49m\u001B[43m \u001B[49m\u001B[43mwrong_vector\u001B[49m\u001B[43m)\u001B[49m\n",
      "Cell \u001B[1;32mIn[97], line 3\u001B[0m, in \u001B[0;36mmatsum_vector_vector\u001B[1;34m(vector_first, vector_second)\u001B[0m\n\u001B[0;32m      1\u001B[0m \u001B[38;5;28;01mdef\u001B[39;00m \u001B[38;5;21mmatsum_vector_vector\u001B[39m(vector_first, vector_second):\n\u001B[0;32m      2\u001B[0m     \u001B[38;5;28;01massert\u001B[39;00m \u001B[38;5;28mlen\u001B[39m(vector_first\u001B[38;5;241m.\u001B[39mshape) \u001B[38;5;241m==\u001B[39m \u001B[38;5;28mlen\u001B[39m(vector_second\u001B[38;5;241m.\u001B[39mshape) \u001B[38;5;241m==\u001B[39m \u001B[38;5;241m1\u001B[39m, \u001B[38;5;124m'\u001B[39m\u001B[38;5;124mVectors calculated should be one-columns arrays\u001B[39m\u001B[38;5;124m'\u001B[39m\n\u001B[1;32m----> 3\u001B[0m     \u001B[38;5;28;01massert\u001B[39;00m \u001B[38;5;28mlen\u001B[39m(vector_first) \u001B[38;5;241m==\u001B[39m \u001B[38;5;28mlen\u001B[39m(vector_second), \u001B[38;5;124m'\u001B[39m\u001B[38;5;124mVectors calculated should be of equal length.\u001B[39m\u001B[38;5;124m'\u001B[39m\n\u001B[0;32m      4\u001B[0m     \u001B[38;5;28;01mreturn\u001B[39;00m [v_f \u001B[38;5;241m+\u001B[39m v_s \u001B[38;5;28;01mfor\u001B[39;00m v_f, v_s \u001B[38;5;129;01min\u001B[39;00m \u001B[38;5;28mzip\u001B[39m(vector_first, vector_second)]\n",
      "\u001B[1;31mAssertionError\u001B[0m: Vectors calculated should be of equal length."
     ]
    }
   ],
   "source": [
    "matsum_vector_vector(simple_vector, wrong_vector)"
   ],
   "metadata": {
    "collapsed": false
   }
  },
  {
   "cell_type": "code",
   "execution_count": 101,
   "outputs": [],
   "source": [
    "def matsum_vector_matrix(vector, matrix):\n",
    "    assert len(vector) == matrix.shape[1], 'Vector length should be equal to columns number of the matrix.'\n",
    "    result = []\n",
    "    for row in matrix:\n",
    "        rows = []\n",
    "        for index, row_value in enumerate(row):\n",
    "            current_value = row_value + vector[index]\n",
    "            rows.append(current_value)\n",
    "        result.append(rows)\n",
    "    print(result)"
   ],
   "metadata": {
    "collapsed": false,
    "ExecuteTime": {
     "start_time": "2023-06-04T01:07:52.438006Z",
     "end_time": "2023-06-04T01:07:52.460335Z"
    }
   }
  },
  {
   "cell_type": "code",
   "execution_count": 102,
   "outputs": [
    {
     "name": "stdout",
     "output_type": "stream",
     "text": [
      "[[5, 8, 4, 4], [8, 10, 10, 5]]\n"
     ]
    }
   ],
   "source": [
    "matsum_vector_matrix(simple_vector, simple_matrix)"
   ],
   "metadata": {
    "collapsed": false,
    "ExecuteTime": {
     "start_time": "2023-06-04T01:07:59.679994Z",
     "end_time": "2023-06-04T01:07:59.695950Z"
    }
   }
  },
  {
   "cell_type": "code",
   "execution_count": 103,
   "outputs": [
    {
     "data": {
      "text/plain": "array([[ 5,  8,  4,  4],\n       [ 8, 10, 10,  5]])"
     },
     "execution_count": 103,
     "metadata": {},
     "output_type": "execute_result"
    }
   ],
   "source": [
    "simple_vector + simple_matrix"
   ],
   "metadata": {
    "collapsed": false,
    "ExecuteTime": {
     "start_time": "2023-06-04T01:08:06.253148Z",
     "end_time": "2023-06-04T01:08:06.278118Z"
    }
   }
  },
  {
   "cell_type": "code",
   "execution_count": 104,
   "outputs": [
    {
     "ename": "AssertionError",
     "evalue": "Vector length should be equal to columns number of the matrix.",
     "output_type": "error",
     "traceback": [
      "\u001B[1;31m---------------------------------------------------------------------------\u001B[0m",
      "\u001B[1;31mAssertionError\u001B[0m                            Traceback (most recent call last)",
      "Cell \u001B[1;32mIn[104], line 1\u001B[0m\n\u001B[1;32m----> 1\u001B[0m \u001B[43mmatsum_vector_matrix\u001B[49m\u001B[43m(\u001B[49m\u001B[43mwrong_vector\u001B[49m\u001B[43m,\u001B[49m\u001B[43m \u001B[49m\u001B[43msimple_matrix\u001B[49m\u001B[43m)\u001B[49m\n",
      "Cell \u001B[1;32mIn[101], line 2\u001B[0m, in \u001B[0;36mmatsum_vector_matrix\u001B[1;34m(vector, matrix)\u001B[0m\n\u001B[0;32m      1\u001B[0m \u001B[38;5;28;01mdef\u001B[39;00m \u001B[38;5;21mmatsum_vector_matrix\u001B[39m(vector, matrix):\n\u001B[1;32m----> 2\u001B[0m     \u001B[38;5;28;01massert\u001B[39;00m \u001B[38;5;28mlen\u001B[39m(vector) \u001B[38;5;241m==\u001B[39m matrix\u001B[38;5;241m.\u001B[39mshape[\u001B[38;5;241m1\u001B[39m], \u001B[38;5;124m'\u001B[39m\u001B[38;5;124mVector length should be equal to columns number of the matrix.\u001B[39m\u001B[38;5;124m'\u001B[39m\n\u001B[0;32m      3\u001B[0m     result \u001B[38;5;241m=\u001B[39m []\n\u001B[0;32m      4\u001B[0m     \u001B[38;5;28;01mfor\u001B[39;00m row \u001B[38;5;129;01min\u001B[39;00m matrix:\n",
      "\u001B[1;31mAssertionError\u001B[0m: Vector length should be equal to columns number of the matrix."
     ]
    }
   ],
   "source": [
    "matsum_vector_matrix(wrong_vector, simple_matrix)"
   ],
   "metadata": {
    "collapsed": false
   }
  },
  {
   "cell_type": "code",
   "execution_count": 105,
   "outputs": [
    {
     "data": {
      "text/plain": "[[8, 6, 4, 2], [14, 10, 16, 4]]"
     },
     "execution_count": 105,
     "metadata": {},
     "output_type": "execute_result"
    }
   ],
   "source": [
    "def matsum_matrix_matrix(matrix_first, matrix_second):\n",
    "    assert matrix_first.shape == matrix_second.shape, 'Matrixes should be of the same size.'\n",
    "    return [[v_f + v_s for v_f, v_s in zip(row_f, row_s)] for row_f, row_s in zip(matrix_first, matrix_second)]\n",
    "matsum_matrix_matrix(simple_matrix,simple_matrix)"
   ],
   "metadata": {
    "collapsed": false,
    "ExecuteTime": {
     "start_time": "2023-06-04T01:08:15.541651Z",
     "end_time": "2023-06-04T01:08:15.567612Z"
    }
   }
  },
  {
   "cell_type": "code",
   "execution_count": 106,
   "outputs": [
    {
     "data": {
      "text/plain": "array([[ 8,  6,  4,  2],\n       [14, 10, 16,  4]])"
     },
     "execution_count": 106,
     "metadata": {},
     "output_type": "execute_result"
    }
   ],
   "source": [
    "simple_matrix + simple_matrix"
   ],
   "metadata": {
    "collapsed": false,
    "ExecuteTime": {
     "start_time": "2023-06-04T01:08:41.422473Z",
     "end_time": "2023-06-04T01:08:41.447920Z"
    }
   }
  },
  {
   "cell_type": "code",
   "execution_count": 107,
   "outputs": [
    {
     "data": {
      "text/plain": "array([[ 4,  3,  2,  1],\n       [ 7,  5,  8,  2],\n       [10, 11, 12, 13]])"
     },
     "execution_count": 107,
     "metadata": {},
     "output_type": "execute_result"
    }
   ],
   "source": [
    "wrong_matrix = np.vstack([simple_matrix, [10, 11, 12, 13]])\n",
    "wrong_matrix"
   ],
   "metadata": {
    "collapsed": false,
    "ExecuteTime": {
     "start_time": "2023-06-04T01:08:49.924291Z",
     "end_time": "2023-06-04T01:08:49.968408Z"
    }
   }
  },
  {
   "cell_type": "code",
   "execution_count": 108,
   "outputs": [
    {
     "ename": "AssertionError",
     "evalue": "Matrixes should be of the same size.",
     "output_type": "error",
     "traceback": [
      "\u001B[1;31m---------------------------------------------------------------------------\u001B[0m",
      "\u001B[1;31mAssertionError\u001B[0m                            Traceback (most recent call last)",
      "Cell \u001B[1;32mIn[108], line 1\u001B[0m\n\u001B[1;32m----> 1\u001B[0m \u001B[43mmatsum_matrix_matrix\u001B[49m\u001B[43m(\u001B[49m\u001B[43msimple_matrix\u001B[49m\u001B[43m,\u001B[49m\u001B[43m \u001B[49m\u001B[43mwrong_matrix\u001B[49m\u001B[43m)\u001B[49m\n",
      "Cell \u001B[1;32mIn[105], line 2\u001B[0m, in \u001B[0;36mmatsum_matrix_matrix\u001B[1;34m(matrix_first, matrix_second)\u001B[0m\n\u001B[0;32m      1\u001B[0m \u001B[38;5;28;01mdef\u001B[39;00m \u001B[38;5;21mmatsum_matrix_matrix\u001B[39m(matrix_first, matrix_second):\n\u001B[1;32m----> 2\u001B[0m     \u001B[38;5;28;01massert\u001B[39;00m matrix_first\u001B[38;5;241m.\u001B[39mshape \u001B[38;5;241m==\u001B[39m matrix_second\u001B[38;5;241m.\u001B[39mshape, \u001B[38;5;124m'\u001B[39m\u001B[38;5;124mMatrixes should be of the same size.\u001B[39m\u001B[38;5;124m'\u001B[39m\n\u001B[0;32m      3\u001B[0m     \u001B[38;5;28;01mreturn\u001B[39;00m [[v_f \u001B[38;5;241m+\u001B[39m v_s \u001B[38;5;28;01mfor\u001B[39;00m v_f, v_s \u001B[38;5;129;01min\u001B[39;00m \u001B[38;5;28mzip\u001B[39m(row_f, row_s)] \u001B[38;5;28;01mfor\u001B[39;00m row_f, row_s \u001B[38;5;129;01min\u001B[39;00m \u001B[38;5;28mzip\u001B[39m(matrix_first, matrix_second)]\n",
      "\u001B[1;31mAssertionError\u001B[0m: Matrixes should be of the same size."
     ]
    }
   ],
   "source": [
    "matsum_matrix_matrix(simple_matrix, wrong_matrix)"
   ],
   "metadata": {
    "collapsed": false
   }
  },
  {
   "cell_type": "code",
   "execution_count": 109,
   "outputs": [
    {
     "data": {
      "text/plain": "[10, 50, 20, 30]"
     },
     "execution_count": 109,
     "metadata": {},
     "output_type": "execute_result"
    }
   ],
   "source": [
    "def matmul_scalar_vector(scalar, vector):\n",
    "    return [scalar * value for value in vector]\n",
    "matmul_scalar_vector(scalar_value, simple_vector)"
   ],
   "metadata": {
    "collapsed": false,
    "ExecuteTime": {
     "start_time": "2023-06-04T01:09:00.524733Z",
     "end_time": "2023-06-04T01:09:00.541686Z"
    }
   }
  },
  {
   "cell_type": "code",
   "execution_count": 118,
   "outputs": [
    {
     "data": {
      "text/plain": "array([10, 50, 20, 30])"
     },
     "execution_count": 118,
     "metadata": {},
     "output_type": "execute_result"
    }
   ],
   "source": [
    "np.dot(scalar_value, simple_vector)"
   ],
   "metadata": {
    "collapsed": false,
    "ExecuteTime": {
     "start_time": "2023-06-04T01:11:40.470609Z",
     "end_time": "2023-06-04T01:11:40.490546Z"
    }
   }
  },
  {
   "cell_type": "code",
   "execution_count": 111,
   "outputs": [
    {
     "data": {
      "text/plain": "[array([40, 30, 20, 10]), array([70, 50, 80, 20])]"
     },
     "execution_count": 111,
     "metadata": {},
     "output_type": "execute_result"
    }
   ],
   "source": [
    "def matmul_scalar_matrix(scalar, matrix):\n",
    "    return [[scalar * value for value in row_matrix] for row_matrix in matrix]\n",
    "matmul_scalar_vector(scalar_value, simple_matrix)"
   ],
   "metadata": {
    "collapsed": false,
    "ExecuteTime": {
     "start_time": "2023-06-04T01:09:33.071303Z",
     "end_time": "2023-06-04T01:09:33.091341Z"
    }
   }
  },
  {
   "cell_type": "code",
   "execution_count": 117,
   "outputs": [
    {
     "data": {
      "text/plain": "array([[40, 30, 20, 10],\n       [70, 50, 80, 20]])"
     },
     "execution_count": 117,
     "metadata": {},
     "output_type": "execute_result"
    }
   ],
   "source": [
    "np.dot(scalar_value, simple_matrix)"
   ],
   "metadata": {
    "collapsed": false,
    "ExecuteTime": {
     "start_time": "2023-06-04T01:11:16.917649Z",
     "end_time": "2023-06-04T01:11:16.934208Z"
    }
   }
  },
  {
   "cell_type": "code",
   "execution_count": 113,
   "outputs": [
    {
     "name": "stdout",
     "output_type": "stream",
     "text": [
      "[[30, 61], [61, 142]]\n"
     ]
    }
   ],
   "source": [
    "def matmul_matrix_matrix(matrix_first, matrix_second):\n",
    "    assert matrix_first.shape[1] == matrix_second.shape[0], 'matrix_first columns number should be equal to the matrix_second rows number'\n",
    "    result = []\n",
    "    matrix_second_t = matrix_second.T\n",
    "    for row_f in matrix_first:\n",
    "        row = []\n",
    "        for row_s in matrix_second_t:\n",
    "            tmp = 0\n",
    "            for index, value_f in enumerate(row_f):\n",
    "                tmp += value_f * row_s[index]\n",
    "            row.append(tmp)\n",
    "        result.append(row)\n",
    "    print(result)\n",
    "\n",
    "matmul_matrix_matrix(simple_matrix, simple_matrix.T)"
   ],
   "metadata": {
    "collapsed": false,
    "ExecuteTime": {
     "start_time": "2023-06-04T01:09:40.134337Z",
     "end_time": "2023-06-04T01:09:40.143311Z"
    }
   }
  },
  {
   "cell_type": "code",
   "execution_count": 116,
   "outputs": [
    {
     "data": {
      "text/plain": "array([[ 30,  61],\n       [ 61, 142]])"
     },
     "execution_count": 116,
     "metadata": {},
     "output_type": "execute_result"
    }
   ],
   "source": [
    "np.dot(simple_matrix, simple_matrix.T)"
   ],
   "metadata": {
    "collapsed": false,
    "ExecuteTime": {
     "start_time": "2023-06-04T01:10:36.726979Z",
     "end_time": "2023-06-04T01:10:36.756343Z"
    }
   }
  },
  {
   "cell_type": "code",
   "execution_count": 38,
   "outputs": [
    {
     "ename": "AssertionError",
     "evalue": "matrix_first columns number should be equal to the matrix_second rows number",
     "output_type": "error",
     "traceback": [
      "\u001B[1;31m---------------------------------------------------------------------------\u001B[0m",
      "\u001B[1;31mAssertionError\u001B[0m                            Traceback (most recent call last)",
      "Cell \u001B[1;32mIn[38], line 1\u001B[0m\n\u001B[1;32m----> 1\u001B[0m \u001B[43mmatmul_matrix_matrix\u001B[49m\u001B[43m(\u001B[49m\u001B[43msimple_matrix\u001B[49m\u001B[43m,\u001B[49m\u001B[43mwrong_matrix\u001B[49m\u001B[43m)\u001B[49m\n",
      "Cell \u001B[1;32mIn[37], line 2\u001B[0m, in \u001B[0;36mmatmul_matrix_matrix\u001B[1;34m(matrix_first, matrix_second)\u001B[0m\n\u001B[0;32m      1\u001B[0m \u001B[38;5;28;01mdef\u001B[39;00m \u001B[38;5;21mmatmul_matrix_matrix\u001B[39m(matrix_first, matrix_second):\n\u001B[1;32m----> 2\u001B[0m     \u001B[38;5;28;01massert\u001B[39;00m matrix_first\u001B[38;5;241m.\u001B[39mshape[\u001B[38;5;241m1\u001B[39m] \u001B[38;5;241m==\u001B[39m matrix_second\u001B[38;5;241m.\u001B[39mshape[\u001B[38;5;241m0\u001B[39m], \u001B[38;5;124m'\u001B[39m\u001B[38;5;124mmatrix_first columns number should be equal to the matrix_second rows number\u001B[39m\u001B[38;5;124m'\u001B[39m\n\u001B[0;32m      3\u001B[0m     result \u001B[38;5;241m=\u001B[39m []\n\u001B[0;32m      4\u001B[0m     matrix_second_t \u001B[38;5;241m=\u001B[39m matrix_second\u001B[38;5;241m.\u001B[39mT\n",
      "\u001B[1;31mAssertionError\u001B[0m: matrix_first columns number should be equal to the matrix_second rows number"
     ]
    }
   ],
   "source": [
    "matmul_matrix_matrix(simple_matrix,wrong_matrix)"
   ],
   "metadata": {
    "collapsed": false
   }
  },
  {
   "cell_type": "code",
   "execution_count": 150,
   "outputs": [
    {
     "data": {
      "text/plain": "array([[4, 7],\n       [3, 5],\n       [2, 8],\n       [1, 2]])"
     },
     "execution_count": 150,
     "metadata": {},
     "output_type": "execute_result"
    }
   ],
   "source": [
    "def mat_transpose_matrix(matrix):\n",
    "    result = []\n",
    "    for column_index in range(matrix.shape[1]):\n",
    "        row = []\n",
    "        for row_index in range(matrix.shape[0]):\n",
    "            row.append(matrix[row_index, column_index])\n",
    "        result.append(row)\n",
    "    return np.array(result)\n",
    "\n",
    "\n",
    "mat_transpose_matrix(simple_matrix)"
   ],
   "metadata": {
    "collapsed": false,
    "ExecuteTime": {
     "start_time": "2023-06-04T11:29:37.153331Z",
     "end_time": "2023-06-04T11:29:37.176139Z"
    }
   }
  },
  {
   "cell_type": "code",
   "execution_count": 151,
   "outputs": [
    {
     "data": {
      "text/plain": "array([[4, 7],\n       [3, 5],\n       [2, 8],\n       [1, 2]])"
     },
     "execution_count": 151,
     "metadata": {},
     "output_type": "execute_result"
    }
   ],
   "source": [
    "simple_matrix.T"
   ],
   "metadata": {
    "collapsed": false,
    "ExecuteTime": {
     "start_time": "2023-06-04T11:30:13.177586Z",
     "end_time": "2023-06-04T11:30:13.194539Z"
    }
   }
  }
 ],
 "metadata": {
  "kernelspec": {
   "display_name": "Python 3",
   "language": "python",
   "name": "python3"
  },
  "language_info": {
   "codemirror_mode": {
    "name": "ipython",
    "version": 2
   },
   "file_extension": ".py",
   "mimetype": "text/x-python",
   "name": "python",
   "nbconvert_exporter": "python",
   "pygments_lexer": "ipython2",
   "version": "2.7.6"
  }
 },
 "nbformat": 4,
 "nbformat_minor": 0
}
